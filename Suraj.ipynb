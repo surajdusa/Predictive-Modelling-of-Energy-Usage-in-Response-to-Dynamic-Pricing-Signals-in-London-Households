{
  "cells": [
    {
      "cell_type": "markdown",
      "metadata": {
        "id": "view-in-github",
        "colab_type": "text"
      },
      "source": [
        "<a href=\"https://colab.research.google.com/github/surajdusa/Predictive-Modelling-of-Energy-Usage-in-Response-to-Dynamic-Pricing-Signals-in-London-Households/blob/main/Suraj.ipynb\" target=\"_parent\"><img src=\"https://colab.research.google.com/assets/colab-badge.svg\" alt=\"Open In Colab\"/></a>"
      ]
    },
    {
      "cell_type": "code",
      "execution_count": null,
      "id": "847355b0",
      "metadata": {
        "id": "847355b0"
      },
      "outputs": [],
      "source": [
        "import pandas as pd\n",
        "import numpy as np\n",
        "import os\n",
        "import matplotlib.pyplot as plt\n",
        "%matplotlib inline\n",
        "import seaborn as sns\n",
        "from prettytable import PrettyTable\n",
        "import warnings\n",
        "warnings.filterwarnings('ignore')"
      ]
    },
    {
      "cell_type": "code",
      "execution_count": null,
      "id": "05d92fd8",
      "metadata": {
        "id": "05d92fd8"
      },
      "outputs": [],
      "source": [
        "from google.colab import drive\n",
        "drive.mount('/content/drive')"
      ]
    },
    {
      "cell_type": "code",
      "source": [
        "df = pd.read_csv('/content/drive/MyDrive/CC_LCL-FullData.csv')"
      ],
      "metadata": {
        "id": "aZ1KpAaVug5m"
      },
      "id": "aZ1KpAaVug5m",
      "execution_count": null,
      "outputs": []
    },
    {
      "cell_type": "code",
      "execution_count": null,
      "id": "e8dc5444",
      "metadata": {
        "id": "e8dc5444",
        "outputId": "b0753c22-fa99-45d9-8c2d-7cd6457571e3"
      },
      "outputs": [
        {
          "data": {
            "text/html": [
              "<div>\n",
              "<style scoped>\n",
              "    .dataframe tbody tr th:only-of-type {\n",
              "        vertical-align: middle;\n",
              "    }\n",
              "\n",
              "    .dataframe tbody tr th {\n",
              "        vertical-align: top;\n",
              "    }\n",
              "\n",
              "    .dataframe thead th {\n",
              "        text-align: right;\n",
              "    }\n",
              "</style>\n",
              "<table border=\"1\" class=\"dataframe\">\n",
              "  <thead>\n",
              "    <tr style=\"text-align: right;\">\n",
              "      <th></th>\n",
              "      <th>LCLid</th>\n",
              "      <th>stdorToU</th>\n",
              "      <th>DateTime</th>\n",
              "      <th>KWH/hh (per half hour)</th>\n",
              "    </tr>\n",
              "  </thead>\n",
              "  <tbody>\n",
              "    <tr>\n",
              "      <th>0</th>\n",
              "      <td>MAC000002</td>\n",
              "      <td>Std</td>\n",
              "      <td>2012-10-12 00:30:00.0000000</td>\n",
              "      <td>0</td>\n",
              "    </tr>\n",
              "    <tr>\n",
              "      <th>1</th>\n",
              "      <td>MAC000002</td>\n",
              "      <td>Std</td>\n",
              "      <td>2012-10-12 01:00:00.0000000</td>\n",
              "      <td>0</td>\n",
              "    </tr>\n",
              "    <tr>\n",
              "      <th>2</th>\n",
              "      <td>MAC000002</td>\n",
              "      <td>Std</td>\n",
              "      <td>2012-10-12 01:30:00.0000000</td>\n",
              "      <td>0</td>\n",
              "    </tr>\n",
              "    <tr>\n",
              "      <th>3</th>\n",
              "      <td>MAC000002</td>\n",
              "      <td>Std</td>\n",
              "      <td>2012-10-12 02:00:00.0000000</td>\n",
              "      <td>0</td>\n",
              "    </tr>\n",
              "    <tr>\n",
              "      <th>4</th>\n",
              "      <td>MAC000002</td>\n",
              "      <td>Std</td>\n",
              "      <td>2012-10-12 02:30:00.0000000</td>\n",
              "      <td>0</td>\n",
              "    </tr>\n",
              "  </tbody>\n",
              "</table>\n",
              "</div>"
            ],
            "text/plain": [
              "       LCLid stdorToU                     DateTime KWH/hh (per half hour) \n",
              "0  MAC000002      Std  2012-10-12 00:30:00.0000000                      0 \n",
              "1  MAC000002      Std  2012-10-12 01:00:00.0000000                      0 \n",
              "2  MAC000002      Std  2012-10-12 01:30:00.0000000                      0 \n",
              "3  MAC000002      Std  2012-10-12 02:00:00.0000000                      0 \n",
              "4  MAC000002      Std  2012-10-12 02:30:00.0000000                      0 "
            ]
          },
          "execution_count": 3,
          "metadata": {},
          "output_type": "execute_result"
        }
      ],
      "source": [
        "df.head()"
      ]
    },
    {
      "cell_type": "code",
      "execution_count": null,
      "id": "78dbdca9",
      "metadata": {
        "id": "78dbdca9",
        "outputId": "99a12172-b62f-4263-f294-00fc6d67316f"
      },
      "outputs": [
        {
          "name": "stdout",
          "output_type": "stream",
          "text": [
            "The number of data points in the dataset: 167932474\n"
          ]
        }
      ],
      "source": [
        "print('The number of data points in the dataset:', df.shape[0])"
      ]
    },
    {
      "cell_type": "code",
      "execution_count": null,
      "id": "458bbbc6",
      "metadata": {
        "id": "458bbbc6",
        "outputId": "5bbae429-b7e9-407b-a511-6828f5840bf1"
      },
      "outputs": [
        {
          "name": "stdout",
          "output_type": "stream",
          "text": [
            "The number of data points in the dataset: 4\n"
          ]
        }
      ],
      "source": [
        "print('The number of data points in the dataset:', df.shape[1])"
      ]
    },
    {
      "cell_type": "code",
      "execution_count": null,
      "id": "a6823d15",
      "metadata": {
        "id": "a6823d15"
      },
      "outputs": [],
      "source": [
        "df = df.iloc[:2000000]"
      ]
    },
    {
      "cell_type": "code",
      "execution_count": null,
      "id": "34971353",
      "metadata": {
        "id": "34971353",
        "outputId": "5ece72dd-2eae-46c5-84aa-2ac13dea0fa5"
      },
      "outputs": [
        {
          "name": "stdout",
          "output_type": "stream",
          "text": [
            "LCLid                      0\n",
            "stdorToU                   0\n",
            "DateTime                   0\n",
            "KWH/hh (per half hour)     0\n",
            "dtype: int64\n"
          ]
        }
      ],
      "source": [
        "print(df.isnull().sum())"
      ]
    },
    {
      "cell_type": "code",
      "execution_count": null,
      "id": "79762d01",
      "metadata": {
        "id": "79762d01"
      },
      "outputs": [],
      "source": [
        "df[\"Date\"] = pd.to_datetime(df[\"DateTime\"]).dt.date\n",
        "df[\"Time\"] = pd.to_datetime(df[\"DateTime\"]).dt.time\n",
        "df.drop(columns=[\"DateTime\"], inplace=True)"
      ]
    },
    {
      "cell_type": "code",
      "execution_count": null,
      "id": "306c2110",
      "metadata": {
        "id": "306c2110",
        "outputId": "45233116-4d08-4d94-d651-b382effdf99f"
      },
      "outputs": [
        {
          "name": "stdout",
          "output_type": "stream",
          "text": [
            "The number of data points in the dataset: 2000000\n"
          ]
        }
      ],
      "source": [
        "print('The number of data points in the dataset:', df.shape[0])"
      ]
    },
    {
      "cell_type": "code",
      "execution_count": null,
      "id": "6b6fe3ea",
      "metadata": {
        "id": "6b6fe3ea",
        "outputId": "2ac9fdee-5181-4f90-c465-ea2ee1e8a57f"
      },
      "outputs": [
        {
          "data": {
            "text/html": [
              "<div>\n",
              "<style scoped>\n",
              "    .dataframe tbody tr th:only-of-type {\n",
              "        vertical-align: middle;\n",
              "    }\n",
              "\n",
              "    .dataframe tbody tr th {\n",
              "        vertical-align: top;\n",
              "    }\n",
              "\n",
              "    .dataframe thead th {\n",
              "        text-align: right;\n",
              "    }\n",
              "</style>\n",
              "<table border=\"1\" class=\"dataframe\">\n",
              "  <thead>\n",
              "    <tr style=\"text-align: right;\">\n",
              "      <th></th>\n",
              "      <th>LCLid</th>\n",
              "      <th>stdorToU</th>\n",
              "      <th>KWH/hh (per half hour)</th>\n",
              "      <th>Date</th>\n",
              "      <th>Time</th>\n",
              "    </tr>\n",
              "  </thead>\n",
              "  <tbody>\n",
              "    <tr>\n",
              "      <th>0</th>\n",
              "      <td>MAC000002</td>\n",
              "      <td>Std</td>\n",
              "      <td>0</td>\n",
              "      <td>2012-10-12</td>\n",
              "      <td>00:30:00</td>\n",
              "    </tr>\n",
              "    <tr>\n",
              "      <th>1</th>\n",
              "      <td>MAC000002</td>\n",
              "      <td>Std</td>\n",
              "      <td>0</td>\n",
              "      <td>2012-10-12</td>\n",
              "      <td>01:00:00</td>\n",
              "    </tr>\n",
              "    <tr>\n",
              "      <th>2</th>\n",
              "      <td>MAC000002</td>\n",
              "      <td>Std</td>\n",
              "      <td>0</td>\n",
              "      <td>2012-10-12</td>\n",
              "      <td>01:30:00</td>\n",
              "    </tr>\n",
              "    <tr>\n",
              "      <th>3</th>\n",
              "      <td>MAC000002</td>\n",
              "      <td>Std</td>\n",
              "      <td>0</td>\n",
              "      <td>2012-10-12</td>\n",
              "      <td>02:00:00</td>\n",
              "    </tr>\n",
              "    <tr>\n",
              "      <th>4</th>\n",
              "      <td>MAC000002</td>\n",
              "      <td>Std</td>\n",
              "      <td>0</td>\n",
              "      <td>2012-10-12</td>\n",
              "      <td>02:30:00</td>\n",
              "    </tr>\n",
              "  </tbody>\n",
              "</table>\n",
              "</div>"
            ],
            "text/plain": [
              "       LCLid stdorToU KWH/hh (per half hour)         Date      Time\n",
              "0  MAC000002      Std                      0   2012-10-12  00:30:00\n",
              "1  MAC000002      Std                      0   2012-10-12  01:00:00\n",
              "2  MAC000002      Std                      0   2012-10-12  01:30:00\n",
              "3  MAC000002      Std                      0   2012-10-12  02:00:00\n",
              "4  MAC000002      Std                      0   2012-10-12  02:30:00"
            ]
          },
          "execution_count": 10,
          "metadata": {},
          "output_type": "execute_result"
        }
      ],
      "source": [
        "df.head()"
      ]
    },
    {
      "cell_type": "code",
      "execution_count": null,
      "id": "ab5d8698",
      "metadata": {
        "id": "ab5d8698",
        "outputId": "52184298-9b1d-4d71-e668-dce76f2179cf"
      },
      "outputs": [
        {
          "name": "stdout",
          "output_type": "stream",
          "text": [
            "['LCLid', 'stdorToU', 'KWH/hh (per half hour) ', 'Date', 'Time']\n"
          ]
        }
      ],
      "source": [
        "print(df.columns.tolist())"
      ]
    },
    {
      "cell_type": "code",
      "execution_count": null,
      "id": "7272a200",
      "metadata": {
        "id": "7272a200"
      },
      "outputs": [],
      "source": [
        "df.columns = df.columns.str.strip()"
      ]
    },
    {
      "cell_type": "code",
      "execution_count": null,
      "id": "9db0bf9f",
      "metadata": {
        "id": "9db0bf9f"
      },
      "outputs": [],
      "source": [
        "df[\"KWH/hh (per half hour)\"] = pd.to_numeric(df[\"KWH/hh (per half hour)\"], errors=\"coerce\")"
      ]
    },
    {
      "cell_type": "code",
      "execution_count": null,
      "id": "07a53ad4",
      "metadata": {
        "id": "07a53ad4"
      },
      "outputs": [],
      "source": [
        "dx = df.groupby(\"Date\")[\"KWH/hh (per half hour)\"].sum().reset_index()\n",
        "dx.columns = [\"Date\", \"KWH\"]"
      ]
    },
    {
      "cell_type": "code",
      "execution_count": null,
      "id": "ef199576",
      "metadata": {
        "id": "ef199576",
        "outputId": "84fb504f-fe5c-46e3-9012-793ba90b7cfd"
      },
      "outputs": [
        {
          "data": {
            "text/html": [
              "<div>\n",
              "<style scoped>\n",
              "    .dataframe tbody tr th:only-of-type {\n",
              "        vertical-align: middle;\n",
              "    }\n",
              "\n",
              "    .dataframe tbody tr th {\n",
              "        vertical-align: top;\n",
              "    }\n",
              "\n",
              "    .dataframe thead th {\n",
              "        text-align: right;\n",
              "    }\n",
              "</style>\n",
              "<table border=\"1\" class=\"dataframe\">\n",
              "  <thead>\n",
              "    <tr style=\"text-align: right;\">\n",
              "      <th></th>\n",
              "      <th>Date</th>\n",
              "      <th>KWH</th>\n",
              "    </tr>\n",
              "  </thead>\n",
              "  <tbody>\n",
              "    <tr>\n",
              "      <th>0</th>\n",
              "      <td>2011-12-06</td>\n",
              "      <td>2.947000</td>\n",
              "    </tr>\n",
              "    <tr>\n",
              "      <th>1</th>\n",
              "      <td>2011-12-07</td>\n",
              "      <td>143.174000</td>\n",
              "    </tr>\n",
              "    <tr>\n",
              "      <th>2</th>\n",
              "      <td>2011-12-08</td>\n",
              "      <td>365.577000</td>\n",
              "    </tr>\n",
              "    <tr>\n",
              "      <th>3</th>\n",
              "      <td>2011-12-09</td>\n",
              "      <td>502.532000</td>\n",
              "    </tr>\n",
              "    <tr>\n",
              "      <th>4</th>\n",
              "      <td>2011-12-10</td>\n",
              "      <td>637.385000</td>\n",
              "    </tr>\n",
              "    <tr>\n",
              "      <th>5</th>\n",
              "      <td>2011-12-11</td>\n",
              "      <td>670.710001</td>\n",
              "    </tr>\n",
              "    <tr>\n",
              "      <th>6</th>\n",
              "      <td>2011-12-12</td>\n",
              "      <td>614.313000</td>\n",
              "    </tr>\n",
              "    <tr>\n",
              "      <th>7</th>\n",
              "      <td>2011-12-13</td>\n",
              "      <td>570.259000</td>\n",
              "    </tr>\n",
              "    <tr>\n",
              "      <th>8</th>\n",
              "      <td>2011-12-14</td>\n",
              "      <td>627.398000</td>\n",
              "    </tr>\n",
              "    <tr>\n",
              "      <th>9</th>\n",
              "      <td>2011-12-15</td>\n",
              "      <td>643.423001</td>\n",
              "    </tr>\n",
              "    <tr>\n",
              "      <th>10</th>\n",
              "      <td>2011-12-16</td>\n",
              "      <td>643.591999</td>\n",
              "    </tr>\n",
              "    <tr>\n",
              "      <th>11</th>\n",
              "      <td>2011-12-17</td>\n",
              "      <td>611.851000</td>\n",
              "    </tr>\n",
              "    <tr>\n",
              "      <th>12</th>\n",
              "      <td>2011-12-18</td>\n",
              "      <td>654.163000</td>\n",
              "    </tr>\n",
              "    <tr>\n",
              "      <th>13</th>\n",
              "      <td>2011-12-19</td>\n",
              "      <td>667.331000</td>\n",
              "    </tr>\n",
              "    <tr>\n",
              "      <th>14</th>\n",
              "      <td>2011-12-20</td>\n",
              "      <td>660.136999</td>\n",
              "    </tr>\n",
              "    <tr>\n",
              "      <th>15</th>\n",
              "      <td>2011-12-21</td>\n",
              "      <td>646.660000</td>\n",
              "    </tr>\n",
              "    <tr>\n",
              "      <th>16</th>\n",
              "      <td>2011-12-22</td>\n",
              "      <td>554.382999</td>\n",
              "    </tr>\n",
              "    <tr>\n",
              "      <th>17</th>\n",
              "      <td>2011-12-23</td>\n",
              "      <td>587.753001</td>\n",
              "    </tr>\n",
              "    <tr>\n",
              "      <th>18</th>\n",
              "      <td>2011-12-24</td>\n",
              "      <td>573.890000</td>\n",
              "    </tr>\n",
              "    <tr>\n",
              "      <th>19</th>\n",
              "      <td>2011-12-25</td>\n",
              "      <td>566.775999</td>\n",
              "    </tr>\n",
              "  </tbody>\n",
              "</table>\n",
              "</div>"
            ],
            "text/plain": [
              "          Date         KWH\n",
              "0   2011-12-06    2.947000\n",
              "1   2011-12-07  143.174000\n",
              "2   2011-12-08  365.577000\n",
              "3   2011-12-09  502.532000\n",
              "4   2011-12-10  637.385000\n",
              "5   2011-12-11  670.710001\n",
              "6   2011-12-12  614.313000\n",
              "7   2011-12-13  570.259000\n",
              "8   2011-12-14  627.398000\n",
              "9   2011-12-15  643.423001\n",
              "10  2011-12-16  643.591999\n",
              "11  2011-12-17  611.851000\n",
              "12  2011-12-18  654.163000\n",
              "13  2011-12-19  667.331000\n",
              "14  2011-12-20  660.136999\n",
              "15  2011-12-21  646.660000\n",
              "16  2011-12-22  554.382999\n",
              "17  2011-12-23  587.753001\n",
              "18  2011-12-24  573.890000\n",
              "19  2011-12-25  566.775999"
            ]
          },
          "execution_count": 201,
          "metadata": {},
          "output_type": "execute_result"
        }
      ],
      "source": [
        "dx.head(20)"
      ]
    },
    {
      "cell_type": "code",
      "execution_count": null,
      "id": "6d26f0f5",
      "metadata": {
        "id": "6d26f0f5"
      },
      "outputs": [],
      "source": [
        "dx['Date'] = pd.to_datetime(dx['Date'], errors='coerce')"
      ]
    },
    {
      "cell_type": "code",
      "execution_count": null,
      "id": "f4c3ce1f",
      "metadata": {
        "id": "f4c3ce1f"
      },
      "outputs": [],
      "source": [
        "dx['year'] = dx['Date'].dt.year\n",
        "dx['quarter'] = dx['Date'].dt.quarter\n",
        "dx['month'] = dx['Date'].dt.month\n",
        "dx['day'] = dx['Date'].dt.day"
      ]
    },
    {
      "cell_type": "code",
      "execution_count": null,
      "id": "a95711ae",
      "metadata": {
        "id": "a95711ae",
        "outputId": "d34561d0-a0bd-4afa-c34c-29297867213c"
      },
      "outputs": [
        {
          "data": {
            "text/html": [
              "<div>\n",
              "<style scoped>\n",
              "    .dataframe tbody tr th:only-of-type {\n",
              "        vertical-align: middle;\n",
              "    }\n",
              "\n",
              "    .dataframe tbody tr th {\n",
              "        vertical-align: top;\n",
              "    }\n",
              "\n",
              "    .dataframe thead th {\n",
              "        text-align: right;\n",
              "    }\n",
              "</style>\n",
              "<table border=\"1\" class=\"dataframe\">\n",
              "  <thead>\n",
              "    <tr style=\"text-align: right;\">\n",
              "      <th></th>\n",
              "      <th>Date</th>\n",
              "      <th>KWH</th>\n",
              "      <th>year</th>\n",
              "      <th>quarter</th>\n",
              "      <th>month</th>\n",
              "      <th>day</th>\n",
              "    </tr>\n",
              "  </thead>\n",
              "  <tbody>\n",
              "    <tr>\n",
              "      <th>0</th>\n",
              "      <td>2011-12-06</td>\n",
              "      <td>2.947</td>\n",
              "      <td>2011</td>\n",
              "      <td>4</td>\n",
              "      <td>12</td>\n",
              "      <td>6</td>\n",
              "    </tr>\n",
              "    <tr>\n",
              "      <th>1</th>\n",
              "      <td>2011-12-07</td>\n",
              "      <td>143.174</td>\n",
              "      <td>2011</td>\n",
              "      <td>4</td>\n",
              "      <td>12</td>\n",
              "      <td>7</td>\n",
              "    </tr>\n",
              "    <tr>\n",
              "      <th>2</th>\n",
              "      <td>2011-12-08</td>\n",
              "      <td>365.577</td>\n",
              "      <td>2011</td>\n",
              "      <td>4</td>\n",
              "      <td>12</td>\n",
              "      <td>8</td>\n",
              "    </tr>\n",
              "    <tr>\n",
              "      <th>3</th>\n",
              "      <td>2011-12-09</td>\n",
              "      <td>502.532</td>\n",
              "      <td>2011</td>\n",
              "      <td>4</td>\n",
              "      <td>12</td>\n",
              "      <td>9</td>\n",
              "    </tr>\n",
              "    <tr>\n",
              "      <th>4</th>\n",
              "      <td>2011-12-10</td>\n",
              "      <td>637.385</td>\n",
              "      <td>2011</td>\n",
              "      <td>4</td>\n",
              "      <td>12</td>\n",
              "      <td>10</td>\n",
              "    </tr>\n",
              "  </tbody>\n",
              "</table>\n",
              "</div>"
            ],
            "text/plain": [
              "        Date      KWH  year  quarter  month  day\n",
              "0 2011-12-06    2.947  2011        4     12    6\n",
              "1 2011-12-07  143.174  2011        4     12    7\n",
              "2 2011-12-08  365.577  2011        4     12    8\n",
              "3 2011-12-09  502.532  2011        4     12    9\n",
              "4 2011-12-10  637.385  2011        4     12   10"
            ]
          },
          "execution_count": 204,
          "metadata": {},
          "output_type": "execute_result"
        }
      ],
      "source": [
        "dx.head()"
      ]
    },
    {
      "cell_type": "code",
      "execution_count": null,
      "id": "9e9f8d9a",
      "metadata": {
        "id": "9e9f8d9a"
      },
      "outputs": [],
      "source": [
        "import calendar\n",
        "dx['month'] = dx['month'].apply(lambda x: calendar.month_name[x])"
      ]
    },
    {
      "cell_type": "code",
      "execution_count": null,
      "id": "c8708056",
      "metadata": {
        "id": "c8708056",
        "outputId": "340d5dac-a79e-4df5-b710-46f3d8bc9b9a"
      },
      "outputs": [
        {
          "data": {
            "text/html": [
              "<div>\n",
              "<style scoped>\n",
              "    .dataframe tbody tr th:only-of-type {\n",
              "        vertical-align: middle;\n",
              "    }\n",
              "\n",
              "    .dataframe tbody tr th {\n",
              "        vertical-align: top;\n",
              "    }\n",
              "\n",
              "    .dataframe thead th {\n",
              "        text-align: right;\n",
              "    }\n",
              "</style>\n",
              "<table border=\"1\" class=\"dataframe\">\n",
              "  <thead>\n",
              "    <tr style=\"text-align: right;\">\n",
              "      <th></th>\n",
              "      <th>Date</th>\n",
              "      <th>KWH</th>\n",
              "      <th>year</th>\n",
              "      <th>quarter</th>\n",
              "      <th>month</th>\n",
              "      <th>day</th>\n",
              "    </tr>\n",
              "  </thead>\n",
              "  <tbody>\n",
              "    <tr>\n",
              "      <th>0</th>\n",
              "      <td>2011-12-06</td>\n",
              "      <td>2.947</td>\n",
              "      <td>2011</td>\n",
              "      <td>4</td>\n",
              "      <td>December</td>\n",
              "      <td>6</td>\n",
              "    </tr>\n",
              "    <tr>\n",
              "      <th>1</th>\n",
              "      <td>2011-12-07</td>\n",
              "      <td>143.174</td>\n",
              "      <td>2011</td>\n",
              "      <td>4</td>\n",
              "      <td>December</td>\n",
              "      <td>7</td>\n",
              "    </tr>\n",
              "    <tr>\n",
              "      <th>2</th>\n",
              "      <td>2011-12-08</td>\n",
              "      <td>365.577</td>\n",
              "      <td>2011</td>\n",
              "      <td>4</td>\n",
              "      <td>December</td>\n",
              "      <td>8</td>\n",
              "    </tr>\n",
              "    <tr>\n",
              "      <th>3</th>\n",
              "      <td>2011-12-09</td>\n",
              "      <td>502.532</td>\n",
              "      <td>2011</td>\n",
              "      <td>4</td>\n",
              "      <td>December</td>\n",
              "      <td>9</td>\n",
              "    </tr>\n",
              "    <tr>\n",
              "      <th>4</th>\n",
              "      <td>2011-12-10</td>\n",
              "      <td>637.385</td>\n",
              "      <td>2011</td>\n",
              "      <td>4</td>\n",
              "      <td>December</td>\n",
              "      <td>10</td>\n",
              "    </tr>\n",
              "  </tbody>\n",
              "</table>\n",
              "</div>"
            ],
            "text/plain": [
              "        Date      KWH  year  quarter     month  day\n",
              "0 2011-12-06    2.947  2011        4  December    6\n",
              "1 2011-12-07  143.174  2011        4  December    7\n",
              "2 2011-12-08  365.577  2011        4  December    8\n",
              "3 2011-12-09  502.532  2011        4  December    9\n",
              "4 2011-12-10  637.385  2011        4  December   10"
            ]
          },
          "execution_count": 206,
          "metadata": {},
          "output_type": "execute_result"
        }
      ],
      "source": [
        "dx.head()"
      ]
    },
    {
      "cell_type": "code",
      "execution_count": null,
      "id": "b11d7e25",
      "metadata": {
        "id": "b11d7e25",
        "outputId": "561e03e7-6388-4e5c-828a-57b23e02d5c0"
      },
      "outputs": [
        {
          "data": {
            "text/html": [
              "<div>\n",
              "<style scoped>\n",
              "    .dataframe tbody tr th:only-of-type {\n",
              "        vertical-align: middle;\n",
              "    }\n",
              "\n",
              "    .dataframe tbody tr th {\n",
              "        vertical-align: top;\n",
              "    }\n",
              "\n",
              "    .dataframe thead th {\n",
              "        text-align: right;\n",
              "    }\n",
              "</style>\n",
              "<table border=\"1\" class=\"dataframe\">\n",
              "  <thead>\n",
              "    <tr style=\"text-align: right;\">\n",
              "      <th></th>\n",
              "      <th>Date</th>\n",
              "      <th>KWH</th>\n",
              "      <th>year</th>\n",
              "      <th>quarter</th>\n",
              "      <th>month</th>\n",
              "      <th>day</th>\n",
              "    </tr>\n",
              "  </thead>\n",
              "  <tbody>\n",
              "    <tr>\n",
              "      <th>811</th>\n",
              "      <td>2014-02-24</td>\n",
              "      <td>620.515001</td>\n",
              "      <td>2014</td>\n",
              "      <td>1</td>\n",
              "      <td>February</td>\n",
              "      <td>24</td>\n",
              "    </tr>\n",
              "    <tr>\n",
              "      <th>812</th>\n",
              "      <td>2014-02-25</td>\n",
              "      <td>575.761001</td>\n",
              "      <td>2014</td>\n",
              "      <td>1</td>\n",
              "      <td>February</td>\n",
              "      <td>25</td>\n",
              "    </tr>\n",
              "    <tr>\n",
              "      <th>813</th>\n",
              "      <td>2014-02-26</td>\n",
              "      <td>602.744000</td>\n",
              "      <td>2014</td>\n",
              "      <td>1</td>\n",
              "      <td>February</td>\n",
              "      <td>26</td>\n",
              "    </tr>\n",
              "    <tr>\n",
              "      <th>814</th>\n",
              "      <td>2014-02-27</td>\n",
              "      <td>605.165001</td>\n",
              "      <td>2014</td>\n",
              "      <td>1</td>\n",
              "      <td>February</td>\n",
              "      <td>27</td>\n",
              "    </tr>\n",
              "    <tr>\n",
              "      <th>815</th>\n",
              "      <td>2014-02-28</td>\n",
              "      <td>41.394000</td>\n",
              "      <td>2014</td>\n",
              "      <td>1</td>\n",
              "      <td>February</td>\n",
              "      <td>28</td>\n",
              "    </tr>\n",
              "  </tbody>\n",
              "</table>\n",
              "</div>"
            ],
            "text/plain": [
              "          Date         KWH  year  quarter     month  day\n",
              "811 2014-02-24  620.515001  2014        1  February   24\n",
              "812 2014-02-25  575.761001  2014        1  February   25\n",
              "813 2014-02-26  602.744000  2014        1  February   26\n",
              "814 2014-02-27  605.165001  2014        1  February   27\n",
              "815 2014-02-28   41.394000  2014        1  February   28"
            ]
          },
          "execution_count": 207,
          "metadata": {},
          "output_type": "execute_result"
        }
      ],
      "source": [
        "dx.tail()"
      ]
    },
    {
      "cell_type": "code",
      "execution_count": null,
      "id": "c181b549",
      "metadata": {
        "id": "c181b549",
        "outputId": "76adb823-e199-4883-c3e8-2ebc8fb39292"
      },
      "outputs": [
        {
          "data": {
            "text/plain": [
              "count    816.000000\n",
              "mean     586.107567\n",
              "std      125.938950\n",
              "min        2.947000\n",
              "25%      482.893750\n",
              "50%      564.665500\n",
              "75%      668.310750\n",
              "max      942.200000\n",
              "Name: KWH, dtype: float64"
            ]
          },
          "execution_count": 208,
          "metadata": {},
          "output_type": "execute_result"
        }
      ],
      "source": [
        "dx.KWH.describe()"
      ]
    },
    {
      "cell_type": "markdown",
      "id": "89172ad8",
      "metadata": {
        "id": "89172ad8"
      },
      "source": [
        "# Feature Engineering"
      ]
    },
    {
      "cell_type": "markdown",
      "id": "4879ab4b",
      "metadata": {
        "id": "4879ab4b"
      },
      "source": [
        "##### Based on data from countryeconomy.com, the average household electricity prices in the United Kingdom, including taxes, were as follows:"
      ]
    },
    {
      "cell_type": "code",
      "execution_count": null,
      "id": "c76764dc",
      "metadata": {
        "id": "c76764dc",
        "outputId": "012bfd9d-4873-471e-c1eb-8014244900f2"
      },
      "outputs": [
        {
          "name": "stdout",
          "output_type": "stream",
          "text": [
            "+------+-----------------------------+\n",
            "| Year | Average Price (GBP per kWh) |\n",
            "+------+-----------------------------+\n",
            "| 2011 |            0.1446           |\n",
            "| 2012 |            0.1532           |\n",
            "| 2013 |            0.1596           |\n",
            "| 2014 |            0.1653           |\n",
            "+------+-----------------------------+\n"
          ]
        }
      ],
      "source": [
        "table = PrettyTable()\n",
        "table.field_names = [\"Year\", \"Average Price (GBP per kWh)\"]\n",
        "data = [[2011, 0.1446], [2012, 0.1532], [2013, 0.1596], [2014, 0.1653]]\n",
        "\n",
        "for year, price in data:\n",
        "    table.add_row([year, price])\n",
        "print(table)"
      ]
    },
    {
      "cell_type": "markdown",
      "id": "f476b509",
      "metadata": {
        "id": "f476b509"
      },
      "source": [
        "Source: https://countryeconomy.com/energy-and-environment/electricity-price-household/uk"
      ]
    },
    {
      "cell_type": "markdown",
      "id": "2172f780",
      "metadata": {
        "id": "2172f780"
      },
      "source": [
        "P.S.: These figures are national averages of UK between 2011 and 2014 and the prices indicate a consistent increase in electricity prices during this period."
      ]
    },
    {
      "cell_type": "code",
      "execution_count": null,
      "id": "7f860e87",
      "metadata": {
        "id": "7f860e87"
      },
      "outputs": [],
      "source": [
        "average_prices = {2011: 0.1446,  2012: 0.1532, 2013: 0.1596, 2014: 0.1653}\n",
        "\n",
        "dx['Price (GBP per kWh)'] = dx['year'].map(average_prices)\n",
        "dx['Total Cost (GBP)'] = dx['KWH'].round(1) * dx['Price (GBP per kWh)'].round(2)"
      ]
    },
    {
      "cell_type": "code",
      "execution_count": null,
      "id": "9325168c",
      "metadata": {
        "id": "9325168c",
        "outputId": "f4c0cc67-b84c-4b61-9f5c-a132b68ea396"
      },
      "outputs": [
        {
          "data": {
            "text/html": [
              "<div>\n",
              "<style scoped>\n",
              "    .dataframe tbody tr th:only-of-type {\n",
              "        vertical-align: middle;\n",
              "    }\n",
              "\n",
              "    .dataframe tbody tr th {\n",
              "        vertical-align: top;\n",
              "    }\n",
              "\n",
              "    .dataframe thead th {\n",
              "        text-align: right;\n",
              "    }\n",
              "</style>\n",
              "<table border=\"1\" class=\"dataframe\">\n",
              "  <thead>\n",
              "    <tr style=\"text-align: right;\">\n",
              "      <th></th>\n",
              "      <th>Date</th>\n",
              "      <th>KWH</th>\n",
              "      <th>year</th>\n",
              "      <th>quarter</th>\n",
              "      <th>month</th>\n",
              "      <th>day</th>\n",
              "      <th>Price (GBP per kWh)</th>\n",
              "      <th>Total Cost (GBP)</th>\n",
              "    </tr>\n",
              "  </thead>\n",
              "  <tbody>\n",
              "    <tr>\n",
              "      <th>284</th>\n",
              "      <td>2012-09-15</td>\n",
              "      <td>480.985000</td>\n",
              "      <td>2012</td>\n",
              "      <td>3</td>\n",
              "      <td>September</td>\n",
              "      <td>15</td>\n",
              "      <td>0.1532</td>\n",
              "      <td>72.150</td>\n",
              "    </tr>\n",
              "    <tr>\n",
              "      <th>803</th>\n",
              "      <td>2014-02-16</td>\n",
              "      <td>618.139000</td>\n",
              "      <td>2014</td>\n",
              "      <td>1</td>\n",
              "      <td>February</td>\n",
              "      <td>16</td>\n",
              "      <td>0.1653</td>\n",
              "      <td>105.077</td>\n",
              "    </tr>\n",
              "    <tr>\n",
              "      <th>502</th>\n",
              "      <td>2013-04-21</td>\n",
              "      <td>618.806001</td>\n",
              "      <td>2013</td>\n",
              "      <td>2</td>\n",
              "      <td>April</td>\n",
              "      <td>21</td>\n",
              "      <td>0.1596</td>\n",
              "      <td>99.008</td>\n",
              "    </tr>\n",
              "    <tr>\n",
              "      <th>714</th>\n",
              "      <td>2013-11-19</td>\n",
              "      <td>634.687000</td>\n",
              "      <td>2013</td>\n",
              "      <td>4</td>\n",
              "      <td>November</td>\n",
              "      <td>19</td>\n",
              "      <td>0.1596</td>\n",
              "      <td>101.552</td>\n",
              "    </tr>\n",
              "    <tr>\n",
              "      <th>438</th>\n",
              "      <td>2013-02-16</td>\n",
              "      <td>756.586001</td>\n",
              "      <td>2013</td>\n",
              "      <td>1</td>\n",
              "      <td>February</td>\n",
              "      <td>16</td>\n",
              "      <td>0.1596</td>\n",
              "      <td>121.056</td>\n",
              "    </tr>\n",
              "    <tr>\n",
              "      <th>656</th>\n",
              "      <td>2013-09-22</td>\n",
              "      <td>498.093000</td>\n",
              "      <td>2013</td>\n",
              "      <td>3</td>\n",
              "      <td>September</td>\n",
              "      <td>22</td>\n",
              "      <td>0.1596</td>\n",
              "      <td>79.696</td>\n",
              "    </tr>\n",
              "    <tr>\n",
              "      <th>794</th>\n",
              "      <td>2014-02-07</td>\n",
              "      <td>618.558001</td>\n",
              "      <td>2014</td>\n",
              "      <td>1</td>\n",
              "      <td>February</td>\n",
              "      <td>7</td>\n",
              "      <td>0.1653</td>\n",
              "      <td>105.162</td>\n",
              "    </tr>\n",
              "    <tr>\n",
              "      <th>76</th>\n",
              "      <td>2012-02-20</td>\n",
              "      <td>669.180000</td>\n",
              "      <td>2012</td>\n",
              "      <td>1</td>\n",
              "      <td>February</td>\n",
              "      <td>20</td>\n",
              "      <td>0.1532</td>\n",
              "      <td>100.380</td>\n",
              "    </tr>\n",
              "    <tr>\n",
              "      <th>427</th>\n",
              "      <td>2013-02-05</td>\n",
              "      <td>782.777999</td>\n",
              "      <td>2013</td>\n",
              "      <td>1</td>\n",
              "      <td>February</td>\n",
              "      <td>5</td>\n",
              "      <td>0.1596</td>\n",
              "      <td>125.248</td>\n",
              "    </tr>\n",
              "    <tr>\n",
              "      <th>799</th>\n",
              "      <td>2014-02-12</td>\n",
              "      <td>664.782001</td>\n",
              "      <td>2014</td>\n",
              "      <td>1</td>\n",
              "      <td>February</td>\n",
              "      <td>12</td>\n",
              "      <td>0.1653</td>\n",
              "      <td>113.016</td>\n",
              "    </tr>\n",
              "    <tr>\n",
              "      <th>346</th>\n",
              "      <td>2012-11-16</td>\n",
              "      <td>699.481999</td>\n",
              "      <td>2012</td>\n",
              "      <td>4</td>\n",
              "      <td>November</td>\n",
              "      <td>16</td>\n",
              "      <td>0.1532</td>\n",
              "      <td>104.925</td>\n",
              "    </tr>\n",
              "    <tr>\n",
              "      <th>725</th>\n",
              "      <td>2013-11-30</td>\n",
              "      <td>618.199000</td>\n",
              "      <td>2013</td>\n",
              "      <td>4</td>\n",
              "      <td>November</td>\n",
              "      <td>30</td>\n",
              "      <td>0.1596</td>\n",
              "      <td>98.912</td>\n",
              "    </tr>\n",
              "    <tr>\n",
              "      <th>68</th>\n",
              "      <td>2012-02-12</td>\n",
              "      <td>811.090000</td>\n",
              "      <td>2012</td>\n",
              "      <td>1</td>\n",
              "      <td>February</td>\n",
              "      <td>12</td>\n",
              "      <td>0.1532</td>\n",
              "      <td>121.665</td>\n",
              "    </tr>\n",
              "    <tr>\n",
              "      <th>24</th>\n",
              "      <td>2011-12-30</td>\n",
              "      <td>624.145000</td>\n",
              "      <td>2011</td>\n",
              "      <td>4</td>\n",
              "      <td>December</td>\n",
              "      <td>30</td>\n",
              "      <td>0.1446</td>\n",
              "      <td>87.374</td>\n",
              "    </tr>\n",
              "    <tr>\n",
              "      <th>587</th>\n",
              "      <td>2013-07-15</td>\n",
              "      <td>459.608000</td>\n",
              "      <td>2013</td>\n",
              "      <td>3</td>\n",
              "      <td>July</td>\n",
              "      <td>15</td>\n",
              "      <td>0.1596</td>\n",
              "      <td>73.536</td>\n",
              "    </tr>\n",
              "    <tr>\n",
              "      <th>484</th>\n",
              "      <td>2013-04-03</td>\n",
              "      <td>821.100001</td>\n",
              "      <td>2013</td>\n",
              "      <td>2</td>\n",
              "      <td>April</td>\n",
              "      <td>3</td>\n",
              "      <td>0.1596</td>\n",
              "      <td>131.376</td>\n",
              "    </tr>\n",
              "    <tr>\n",
              "      <th>104</th>\n",
              "      <td>2012-03-19</td>\n",
              "      <td>586.578000</td>\n",
              "      <td>2012</td>\n",
              "      <td>1</td>\n",
              "      <td>March</td>\n",
              "      <td>19</td>\n",
              "      <td>0.1532</td>\n",
              "      <td>87.990</td>\n",
              "    </tr>\n",
              "    <tr>\n",
              "      <th>373</th>\n",
              "      <td>2012-12-13</td>\n",
              "      <td>822.224000</td>\n",
              "      <td>2012</td>\n",
              "      <td>4</td>\n",
              "      <td>December</td>\n",
              "      <td>13</td>\n",
              "      <td>0.1532</td>\n",
              "      <td>123.330</td>\n",
              "    </tr>\n",
              "    <tr>\n",
              "      <th>189</th>\n",
              "      <td>2012-06-12</td>\n",
              "      <td>486.917000</td>\n",
              "      <td>2012</td>\n",
              "      <td>2</td>\n",
              "      <td>June</td>\n",
              "      <td>12</td>\n",
              "      <td>0.1532</td>\n",
              "      <td>73.035</td>\n",
              "    </tr>\n",
              "    <tr>\n",
              "      <th>62</th>\n",
              "      <td>2012-02-06</td>\n",
              "      <td>718.837000</td>\n",
              "      <td>2012</td>\n",
              "      <td>1</td>\n",
              "      <td>February</td>\n",
              "      <td>6</td>\n",
              "      <td>0.1532</td>\n",
              "      <td>107.820</td>\n",
              "    </tr>\n",
              "  </tbody>\n",
              "</table>\n",
              "</div>"
            ],
            "text/plain": [
              "          Date         KWH  year  quarter      month  day  \\\n",
              "284 2012-09-15  480.985000  2012        3  September   15   \n",
              "803 2014-02-16  618.139000  2014        1   February   16   \n",
              "502 2013-04-21  618.806001  2013        2      April   21   \n",
              "714 2013-11-19  634.687000  2013        4   November   19   \n",
              "438 2013-02-16  756.586001  2013        1   February   16   \n",
              "656 2013-09-22  498.093000  2013        3  September   22   \n",
              "794 2014-02-07  618.558001  2014        1   February    7   \n",
              "76  2012-02-20  669.180000  2012        1   February   20   \n",
              "427 2013-02-05  782.777999  2013        1   February    5   \n",
              "799 2014-02-12  664.782001  2014        1   February   12   \n",
              "346 2012-11-16  699.481999  2012        4   November   16   \n",
              "725 2013-11-30  618.199000  2013        4   November   30   \n",
              "68  2012-02-12  811.090000  2012        1   February   12   \n",
              "24  2011-12-30  624.145000  2011        4   December   30   \n",
              "587 2013-07-15  459.608000  2013        3       July   15   \n",
              "484 2013-04-03  821.100001  2013        2      April    3   \n",
              "104 2012-03-19  586.578000  2012        1      March   19   \n",
              "373 2012-12-13  822.224000  2012        4   December   13   \n",
              "189 2012-06-12  486.917000  2012        2       June   12   \n",
              "62  2012-02-06  718.837000  2012        1   February    6   \n",
              "\n",
              "     Price (GBP per kWh)  Total Cost (GBP)  \n",
              "284               0.1532            72.150  \n",
              "803               0.1653           105.077  \n",
              "502               0.1596            99.008  \n",
              "714               0.1596           101.552  \n",
              "438               0.1596           121.056  \n",
              "656               0.1596            79.696  \n",
              "794               0.1653           105.162  \n",
              "76                0.1532           100.380  \n",
              "427               0.1596           125.248  \n",
              "799               0.1653           113.016  \n",
              "346               0.1532           104.925  \n",
              "725               0.1596            98.912  \n",
              "68                0.1532           121.665  \n",
              "24                0.1446            87.374  \n",
              "587               0.1596            73.536  \n",
              "484               0.1596           131.376  \n",
              "104               0.1532            87.990  \n",
              "373               0.1532           123.330  \n",
              "189               0.1532            73.035  \n",
              "62                0.1532           107.820  "
            ]
          },
          "execution_count": 211,
          "metadata": {},
          "output_type": "execute_result"
        }
      ],
      "source": [
        "dx.sample(20)"
      ]
    },
    {
      "cell_type": "code",
      "execution_count": null,
      "id": "908352dc",
      "metadata": {
        "id": "908352dc",
        "outputId": "37535121-a3c4-4e79-bb07-25780e9d0d07"
      },
      "outputs": [
        {
          "data": {
            "text/plain": [
              "count    816.000000\n",
              "mean      91.331045\n",
              "std       20.604329\n",
              "min        0.406000\n",
              "25%       74.848000\n",
              "50%       86.670000\n",
              "75%      106.892500\n",
              "max      150.752000\n",
              "Name: Total Cost (GBP), dtype: float64"
            ]
          },
          "execution_count": 212,
          "metadata": {},
          "output_type": "execute_result"
        }
      ],
      "source": [
        "dx['Total Cost (GBP)'].describe()"
      ]
    },
    {
      "cell_type": "code",
      "execution_count": null,
      "id": "98957603",
      "metadata": {
        "id": "98957603",
        "outputId": "8cf5a6e9-ef9a-4dca-a656-32816e1301d5"
      },
      "outputs": [
        {
          "data": {
            "image/png": "[encoded data removed]",
            "text/plain": [
              "<Figure size 720x432 with 1 Axes>"
            ]
          },
          "metadata": {
            "needs_background": "light"
          },
          "output_type": "display_data"
        }
      ],
      "source": [
        "plt.figure(figsize=(10, 6))\n",
        "sns.boxplot(x='year', y='Total Cost (GBP)', data=dx, palette='Set2')\n",
        "plt.title(\"Total Cost (GBP) Distribution by Year\", fontsize=14)\n",
        "plt.xlabel(\"Year\", fontsize=12)\n",
        "plt.ylabel(\"Total Cost (GBP)\", fontsize=12)\n",
        "plt.tight_layout()\n",
        "plt.show()"
      ]
    },
    {
      "cell_type": "markdown",
      "id": "8fd1c9b7",
      "metadata": {
        "id": "8fd1c9b7"
      },
      "source": [
        "# Data Analysis"
      ]
    },
    {
      "cell_type": "code",
      "execution_count": null,
      "id": "9f4742fe",
      "metadata": {
        "id": "9f4742fe",
        "outputId": "e97bf78b-27e9-46ef-f646-39f49ff0cf5c"
      },
      "outputs": [
        {
          "data": {
            "image/png": "[encoded data removed]",
            "text/plain": [
              "<Figure size 720x432 with 1 Axes>"
            ]
          },
          "metadata": {
            "needs_background": "light"
          },
          "output_type": "display_data"
        }
      ],
      "source": [
        "plt.figure(figsize=(10, 6))\n",
        "sns.boxplot(x='year', y='KWH', data=dx, palette='Set2')\n",
        "plt.title(\"KWH Consumption Distribution by Year\", fontsize=14)\n",
        "plt.xlabel(\"Year\", fontsize=12)\n",
        "plt.ylabel(\"KWH Consumption\", fontsize=12)\n",
        "plt.tight_layout()\n",
        "plt.show()"
      ]
    },
    {
      "cell_type": "code",
      "execution_count": null,
      "id": "8a5884b0",
      "metadata": {
        "id": "8a5884b0"
      },
      "outputs": [],
      "source": [
        "Q1 = dx['KWH'].quantile(0.25)\n",
        "Q3 = dx['KWH'].quantile(0.75)\n",
        "IQR = Q3 - Q1\n",
        "lower_bound = Q1 - 1.5 * IQR\n",
        "upper_bound = Q3 + 1.5 * IQR\n",
        "dx = dx[(dx['KWH'] >= lower_bound) & (dx['KWH'] <= upper_bound)]"
      ]
    },
    {
      "cell_type": "code",
      "execution_count": null,
      "id": "6f8e723f",
      "metadata": {
        "id": "6f8e723f",
        "outputId": "ba0abea6-2347-4125-8b6b-57799d97c8bc"
      },
      "outputs": [
        {
          "data": {
            "image/png": "[encoded data removed]",
            "text/plain": [
              "<Figure size 720x432 with 1 Axes>"
            ]
          },
          "metadata": {
            "needs_background": "light"
          },
          "output_type": "display_data"
        }
      ],
      "source": [
        "plt.figure(figsize=(10, 6))\n",
        "sns.boxplot(x='year', y='KWH', data=dx, palette='Set2')\n",
        "plt.title(\"KWH Consumption Distribution by Year\", fontsize=14)\n",
        "plt.xlabel(\"Year\", fontsize=12)\n",
        "plt.ylabel(\"KWH Consumption\", fontsize=12)\n",
        "plt.tight_layout()\n",
        "plt.show()"
      ]
    },
    {
      "cell_type": "code",
      "execution_count": null,
      "id": "c7d35169",
      "metadata": {
        "id": "c7d35169",
        "outputId": "9472b63b-d4be-46a9-c118-0ae49f1dad0a"
      },
      "outputs": [
        {
          "data": {
            "text/html": [
              "<div>\n",
              "<style scoped>\n",
              "    .dataframe tbody tr th:only-of-type {\n",
              "        vertical-align: middle;\n",
              "    }\n",
              "\n",
              "    .dataframe tbody tr th {\n",
              "        vertical-align: top;\n",
              "    }\n",
              "\n",
              "    .dataframe thead th {\n",
              "        text-align: right;\n",
              "    }\n",
              "</style>\n",
              "<table border=\"1\" class=\"dataframe\">\n",
              "  <thead>\n",
              "    <tr style=\"text-align: right;\">\n",
              "      <th></th>\n",
              "      <th>Date</th>\n",
              "      <th>KWH</th>\n",
              "      <th>year</th>\n",
              "      <th>quarter</th>\n",
              "      <th>month</th>\n",
              "      <th>day</th>\n",
              "      <th>Price (GBP per kWh)</th>\n",
              "      <th>Total Cost (GBP)</th>\n",
              "    </tr>\n",
              "  </thead>\n",
              "  <tbody>\n",
              "    <tr>\n",
              "      <th>2</th>\n",
              "      <td>2011-12-08</td>\n",
              "      <td>365.577000</td>\n",
              "      <td>2011</td>\n",
              "      <td>4</td>\n",
              "      <td>December</td>\n",
              "      <td>8</td>\n",
              "      <td>0.1446</td>\n",
              "      <td>51.184</td>\n",
              "    </tr>\n",
              "    <tr>\n",
              "      <th>3</th>\n",
              "      <td>2011-12-09</td>\n",
              "      <td>502.532000</td>\n",
              "      <td>2011</td>\n",
              "      <td>4</td>\n",
              "      <td>December</td>\n",
              "      <td>9</td>\n",
              "      <td>0.1446</td>\n",
              "      <td>70.350</td>\n",
              "    </tr>\n",
              "    <tr>\n",
              "      <th>4</th>\n",
              "      <td>2011-12-10</td>\n",
              "      <td>637.385000</td>\n",
              "      <td>2011</td>\n",
              "      <td>4</td>\n",
              "      <td>December</td>\n",
              "      <td>10</td>\n",
              "      <td>0.1446</td>\n",
              "      <td>89.236</td>\n",
              "    </tr>\n",
              "    <tr>\n",
              "      <th>5</th>\n",
              "      <td>2011-12-11</td>\n",
              "      <td>670.710001</td>\n",
              "      <td>2011</td>\n",
              "      <td>4</td>\n",
              "      <td>December</td>\n",
              "      <td>11</td>\n",
              "      <td>0.1446</td>\n",
              "      <td>93.898</td>\n",
              "    </tr>\n",
              "    <tr>\n",
              "      <th>6</th>\n",
              "      <td>2011-12-12</td>\n",
              "      <td>614.313000</td>\n",
              "      <td>2011</td>\n",
              "      <td>4</td>\n",
              "      <td>December</td>\n",
              "      <td>12</td>\n",
              "      <td>0.1446</td>\n",
              "      <td>86.002</td>\n",
              "    </tr>\n",
              "  </tbody>\n",
              "</table>\n",
              "</div>"
            ],
            "text/plain": [
              "        Date         KWH  year  quarter     month  day  Price (GBP per kWh)  \\\n",
              "2 2011-12-08  365.577000  2011        4  December    8               0.1446   \n",
              "3 2011-12-09  502.532000  2011        4  December    9               0.1446   \n",
              "4 2011-12-10  637.385000  2011        4  December   10               0.1446   \n",
              "5 2011-12-11  670.710001  2011        4  December   11               0.1446   \n",
              "6 2011-12-12  614.313000  2011        4  December   12               0.1446   \n",
              "\n",
              "   Total Cost (GBP)  \n",
              "2            51.184  \n",
              "3            70.350  \n",
              "4            89.236  \n",
              "5            93.898  \n",
              "6            86.002  "
            ]
          },
          "execution_count": 217,
          "metadata": {},
          "output_type": "execute_result"
        }
      ],
      "source": [
        "dx.head()"
      ]
    },
    {
      "cell_type": "code",
      "execution_count": null,
      "id": "97b1615a",
      "metadata": {
        "id": "97b1615a",
        "outputId": "1ec0c210-2d38-4f16-a54e-75744ec9d55c"
      },
      "outputs": [
        {
          "data": {
            "image/png": "[encoded data removed]",
            "text/plain": [
              "<Figure size 720x432 with 1 Axes>"
            ]
          },
          "metadata": {
            "needs_background": "light"
          },
          "output_type": "display_data"
        }
      ],
      "source": [
        "yearly_avg = dx.groupby('year')['KWH'].mean()\n",
        "plt.figure(figsize=(10, 6))\n",
        "yearly_avg.plot(kind='bar', color='c', edgecolor='black')\n",
        "overall_avg = dx['KWH'].mean()\n",
        "plt.axhline(y=overall_avg, color='black', linestyle='--', label=f\"Avg Consumption: {overall_avg:.2f} KWH\")\n",
        "plt.text(len(yearly_avg) - 1, overall_avg + 0.05, f\"Avg: {overall_avg:.2f}\", color='black', fontsize=12, ha='center')\n",
        "plt.title(\"Average Consumption by Year\", fontsize=14)\n",
        "plt.xlabel(\"Year\", fontsize=12)\n",
        "plt.ylabel(\"Average KWH\", fontsize=12)\n",
        "plt.grid(visible=True, linestyle='--', alpha=0.7)\n",
        "plt.legend()\n",
        "plt.tight_layout()\n",
        "plt.show()"
      ]
    },
    {
      "cell_type": "code",
      "execution_count": null,
      "id": "9b8de182",
      "metadata": {
        "id": "9b8de182",
        "outputId": "0cfeb424-4e65-42bb-fbba-e128f9934621"
      },
      "outputs": [
        {
          "data": {
            "image/png": "[encoded data removed]",
            "text/plain": [
              "<Figure size 720x432 with 1 Axes>"
            ]
          },
          "metadata": {
            "needs_background": "light"
          },
          "output_type": "display_data"
        }
      ],
      "source": [
        "month_order = list(calendar.month_name)[1:]\n",
        "dx['month'] = pd.Categorical(dx['month'], categories=month_order, ordered=True)\n",
        "\n",
        "overall_avg = dx[\"KWH\"].mean()\n",
        "monthly_avg = dx.groupby('month')['KWH'].mean()\n",
        "plt.figure(figsize=(10, 6))\n",
        "monthly_avg.plot(kind='line', marker='o', color='b', label='Monthly Average')\n",
        "plt.axhline(y=overall_avg, color='black', linestyle='--', label=f\"Avg Consumption: {overall_avg:.2f} KWH\")\n",
        "plt.title(\"Average Consumption by Month\", fontsize=14)\n",
        "plt.xlabel(\"Month\", fontsize=12)\n",
        "plt.ylabel(\"Average KWH\", fontsize=12)\n",
        "plt.xticks(rotation=45)\n",
        "plt.grid(visible=True, linestyle='--', alpha=0.7)\n",
        "plt.text(6, overall_avg + 0.05, f\"Avg: {overall_avg:.2f} KWH\", color='black', fontsize=12, ha='center')\n",
        "plt.legend()\n",
        "plt.tight_layout()\n",
        "plt.show()"
      ]
    },
    {
      "cell_type": "code",
      "execution_count": null,
      "id": "aca1bfa0",
      "metadata": {
        "id": "aca1bfa0",
        "outputId": "ac12af38-ee37-4d34-96c4-2debeb760a40"
      },
      "outputs": [
        {
          "name": "stdout",
          "output_type": "stream",
          "text": [
            "Minimum date: 2011-12-08 00:00:00\n",
            "Maximum date: 2014-02-27 00:00:00\n"
          ]
        }
      ],
      "source": [
        "print('Minimum date:', dx.Date.min())\n",
        "print('Maximum date:', dx.Date.max())"
      ]
    },
    {
      "cell_type": "code",
      "execution_count": null,
      "id": "6d15994f",
      "metadata": {
        "id": "6d15994f",
        "outputId": "b374e546-af45-465a-95eb-5e4876dbe5ef"
      },
      "outputs": [
        {
          "data": {
            "image/png": "[encoded data removed]",
            "text/plain": [
              "<Figure size 1080x432 with 1 Axes>"
            ]
          },
          "metadata": {
            "needs_background": "light"
          },
          "output_type": "display_data"
        }
      ],
      "source": [
        "plt.figure(figsize=(15, 6))\n",
        "plt.plot(dx['Date'], dx['KWH'], color='blue')\n",
        "plt.ylabel('Kilowatt Hour (KWH)', fontsize=12)\n",
        "plt.xlabel('Date', fontsize=12)\n",
        "plt.title('Daily Energy Consumption oover the period of time')\n",
        "plt.tight_layout()\n",
        "sns.despine(bottom=True, left=True)\n",
        "plt.show()"
      ]
    },
    {
      "cell_type": "markdown",
      "id": "51ef62af",
      "metadata": {
        "id": "51ef62af"
      },
      "source": [
        "# Time-series Analysis"
      ]
    },
    {
      "cell_type": "markdown",
      "id": "614566bd",
      "metadata": {
        "id": "614566bd"
      },
      "source": [
        "# ARIMA"
      ]
    },
    {
      "cell_type": "code",
      "execution_count": null,
      "id": "b586c224",
      "metadata": {
        "id": "b586c224",
        "outputId": "629c3132-e1e0-484f-8f82-1a72f7043b03"
      },
      "outputs": [
        {
          "data": {
            "text/html": [
              "<div>\n",
              "<style scoped>\n",
              "    .dataframe tbody tr th:only-of-type {\n",
              "        vertical-align: middle;\n",
              "    }\n",
              "\n",
              "    .dataframe tbody tr th {\n",
              "        vertical-align: top;\n",
              "    }\n",
              "\n",
              "    .dataframe thead th {\n",
              "        text-align: right;\n",
              "    }\n",
              "</style>\n",
              "<table border=\"1\" class=\"dataframe\">\n",
              "  <thead>\n",
              "    <tr style=\"text-align: right;\">\n",
              "      <th></th>\n",
              "      <th>Date</th>\n",
              "      <th>KWH</th>\n",
              "      <th>year</th>\n",
              "      <th>quarter</th>\n",
              "      <th>month</th>\n",
              "      <th>day</th>\n",
              "      <th>Price (GBP per kWh)</th>\n",
              "      <th>Total Cost (GBP)</th>\n",
              "      <th>Cost_normalized</th>\n",
              "    </tr>\n",
              "  </thead>\n",
              "  <tbody>\n",
              "    <tr>\n",
              "      <th>2</th>\n",
              "      <td>2011-12-08</td>\n",
              "      <td>365.577000</td>\n",
              "      <td>2011</td>\n",
              "      <td>4</td>\n",
              "      <td>December</td>\n",
              "      <td>8</td>\n",
              "      <td>0.1446</td>\n",
              "      <td>51.184</td>\n",
              "      <td>0.000000</td>\n",
              "    </tr>\n",
              "    <tr>\n",
              "      <th>3</th>\n",
              "      <td>2011-12-09</td>\n",
              "      <td>502.532000</td>\n",
              "      <td>2011</td>\n",
              "      <td>4</td>\n",
              "      <td>December</td>\n",
              "      <td>9</td>\n",
              "      <td>0.1446</td>\n",
              "      <td>70.350</td>\n",
              "      <td>0.192492</td>\n",
              "    </tr>\n",
              "    <tr>\n",
              "      <th>4</th>\n",
              "      <td>2011-12-10</td>\n",
              "      <td>637.385000</td>\n",
              "      <td>2011</td>\n",
              "      <td>4</td>\n",
              "      <td>December</td>\n",
              "      <td>10</td>\n",
              "      <td>0.1446</td>\n",
              "      <td>89.236</td>\n",
              "      <td>0.382171</td>\n",
              "    </tr>\n",
              "    <tr>\n",
              "      <th>5</th>\n",
              "      <td>2011-12-11</td>\n",
              "      <td>670.710001</td>\n",
              "      <td>2011</td>\n",
              "      <td>4</td>\n",
              "      <td>December</td>\n",
              "      <td>11</td>\n",
              "      <td>0.1446</td>\n",
              "      <td>93.898</td>\n",
              "      <td>0.428993</td>\n",
              "    </tr>\n",
              "    <tr>\n",
              "      <th>6</th>\n",
              "      <td>2011-12-12</td>\n",
              "      <td>614.313000</td>\n",
              "      <td>2011</td>\n",
              "      <td>4</td>\n",
              "      <td>December</td>\n",
              "      <td>12</td>\n",
              "      <td>0.1446</td>\n",
              "      <td>86.002</td>\n",
              "      <td>0.349691</td>\n",
              "    </tr>\n",
              "  </tbody>\n",
              "</table>\n",
              "</div>"
            ],
            "text/plain": [
              "        Date         KWH  year  quarter     month  day  Price (GBP per kWh)  \\\n",
              "2 2011-12-08  365.577000  2011        4  December    8               0.1446   \n",
              "3 2011-12-09  502.532000  2011        4  December    9               0.1446   \n",
              "4 2011-12-10  637.385000  2011        4  December   10               0.1446   \n",
              "5 2011-12-11  670.710001  2011        4  December   11               0.1446   \n",
              "6 2011-12-12  614.313000  2011        4  December   12               0.1446   \n",
              "\n",
              "   Total Cost (GBP)  Cost_normalized  \n",
              "2            51.184         0.000000  \n",
              "3            70.350         0.192492  \n",
              "4            89.236         0.382171  \n",
              "5            93.898         0.428993  \n",
              "6            86.002         0.349691  "
            ]
          },
          "execution_count": 182,
          "metadata": {},
          "output_type": "execute_result"
        }
      ],
      "source": [
        "dx.head()"
      ]
    },
    {
      "cell_type": "code",
      "execution_count": null,
      "id": "d03f96d3",
      "metadata": {
        "id": "d03f96d3"
      },
      "outputs": [],
      "source": [
        "dx['Date'] = pd.to_datetime(dx['Date'])\n",
        "dx = dx.sort_values('Date')"
      ]
    },
    {
      "cell_type": "code",
      "execution_count": null,
      "id": "12960992",
      "metadata": {
        "id": "12960992"
      },
      "outputs": [],
      "source": [
        "from sklearn.preprocessing import MinMaxScaler"
      ]
    },
    {
      "cell_type": "code",
      "execution_count": null,
      "id": "3b3d7081",
      "metadata": {
        "id": "3b3d7081"
      },
      "outputs": [],
      "source": [
        "scaler = MinMaxScaler()\n",
        "dx['Cost_normalized'] = scaler.fit_transform(dx[['Total Cost (GBP)']])"
      ]
    },
    {
      "cell_type": "code",
      "execution_count": null,
      "id": "79ee1c6c",
      "metadata": {
        "id": "79ee1c6c",
        "outputId": "35b25876-c4fd-419f-9dc5-ee9ad9eb1f93"
      },
      "outputs": [
        {
          "data": {
            "text/html": [
              "<div>\n",
              "<style scoped>\n",
              "    .dataframe tbody tr th:only-of-type {\n",
              "        vertical-align: middle;\n",
              "    }\n",
              "\n",
              "    .dataframe tbody tr th {\n",
              "        vertical-align: top;\n",
              "    }\n",
              "\n",
              "    .dataframe thead th {\n",
              "        text-align: right;\n",
              "    }\n",
              "</style>\n",
              "<table border=\"1\" class=\"dataframe\">\n",
              "  <thead>\n",
              "    <tr style=\"text-align: right;\">\n",
              "      <th></th>\n",
              "      <th>Date</th>\n",
              "      <th>KWH</th>\n",
              "      <th>year</th>\n",
              "      <th>quarter</th>\n",
              "      <th>month</th>\n",
              "      <th>day</th>\n",
              "      <th>Price (GBP per kWh)</th>\n",
              "      <th>Total Cost (GBP)</th>\n",
              "      <th>Cost_normalized</th>\n",
              "    </tr>\n",
              "  </thead>\n",
              "  <tbody>\n",
              "    <tr>\n",
              "      <th>2</th>\n",
              "      <td>2011-12-08</td>\n",
              "      <td>365.577000</td>\n",
              "      <td>2011</td>\n",
              "      <td>4</td>\n",
              "      <td>December</td>\n",
              "      <td>8</td>\n",
              "      <td>0.1446</td>\n",
              "      <td>51.184</td>\n",
              "      <td>0.000000</td>\n",
              "    </tr>\n",
              "    <tr>\n",
              "      <th>3</th>\n",
              "      <td>2011-12-09</td>\n",
              "      <td>502.532000</td>\n",
              "      <td>2011</td>\n",
              "      <td>4</td>\n",
              "      <td>December</td>\n",
              "      <td>9</td>\n",
              "      <td>0.1446</td>\n",
              "      <td>70.350</td>\n",
              "      <td>0.192492</td>\n",
              "    </tr>\n",
              "    <tr>\n",
              "      <th>4</th>\n",
              "      <td>2011-12-10</td>\n",
              "      <td>637.385000</td>\n",
              "      <td>2011</td>\n",
              "      <td>4</td>\n",
              "      <td>December</td>\n",
              "      <td>10</td>\n",
              "      <td>0.1446</td>\n",
              "      <td>89.236</td>\n",
              "      <td>0.382171</td>\n",
              "    </tr>\n",
              "    <tr>\n",
              "      <th>5</th>\n",
              "      <td>2011-12-11</td>\n",
              "      <td>670.710001</td>\n",
              "      <td>2011</td>\n",
              "      <td>4</td>\n",
              "      <td>December</td>\n",
              "      <td>11</td>\n",
              "      <td>0.1446</td>\n",
              "      <td>93.898</td>\n",
              "      <td>0.428993</td>\n",
              "    </tr>\n",
              "    <tr>\n",
              "      <th>6</th>\n",
              "      <td>2011-12-12</td>\n",
              "      <td>614.313000</td>\n",
              "      <td>2011</td>\n",
              "      <td>4</td>\n",
              "      <td>December</td>\n",
              "      <td>12</td>\n",
              "      <td>0.1446</td>\n",
              "      <td>86.002</td>\n",
              "      <td>0.349691</td>\n",
              "    </tr>\n",
              "  </tbody>\n",
              "</table>\n",
              "</div>"
            ],
            "text/plain": [
              "        Date         KWH  year  quarter     month  day  Price (GBP per kWh)  \\\n",
              "2 2011-12-08  365.577000  2011        4  December    8               0.1446   \n",
              "3 2011-12-09  502.532000  2011        4  December    9               0.1446   \n",
              "4 2011-12-10  637.385000  2011        4  December   10               0.1446   \n",
              "5 2011-12-11  670.710001  2011        4  December   11               0.1446   \n",
              "6 2011-12-12  614.313000  2011        4  December   12               0.1446   \n",
              "\n",
              "   Total Cost (GBP)  Cost_normalized  \n",
              "2            51.184         0.000000  \n",
              "3            70.350         0.192492  \n",
              "4            89.236         0.382171  \n",
              "5            93.898         0.428993  \n",
              "6            86.002         0.349691  "
            ]
          },
          "execution_count": 186,
          "metadata": {},
          "output_type": "execute_result"
        }
      ],
      "source": [
        "dx.head()"
      ]
    },
    {
      "cell_type": "code",
      "execution_count": null,
      "id": "69a6f329",
      "metadata": {
        "id": "69a6f329"
      },
      "outputs": [],
      "source": [
        "import itertools\n",
        "from statsmodels.tsa.arima.model import ARIMA\n",
        "from sklearn.metrics import mean_squared_error\n",
        "from pmdarima import auto_arima\n",
        "from statsmodels.tsa.holtwinters import ExponentialSmoothing\n",
        "import warnings\n",
        "warnings.filterwarnings(\"ignore\")"
      ]
    },
    {
      "cell_type": "code",
      "execution_count": null,
      "id": "0c68bd9f",
      "metadata": {
        "id": "0c68bd9f"
      },
      "outputs": [],
      "source": [
        "split_idx = int(0.8 * len(dx))\n",
        "train, test = dx['Cost_normalized'][:split_idx], dx['Cost_normalized'][split_idx:]"
      ]
    },
    {
      "cell_type": "code",
      "execution_count": null,
      "id": "60a533e0",
      "metadata": {
        "id": "60a533e0",
        "outputId": "58536e93-3a5b-4ad2-b72c-c3839bd02cb4"
      },
      "outputs": [
        {
          "name": "stdout",
          "output_type": "stream",
          "text": [
            "Performing stepwise search to minimize aic\n",
            " ARIMA(2,1,2)(0,0,0)[0] intercept   : AIC=-2030.141, Time=0.71 sec\n",
            " ARIMA(0,1,0)(0,0,0)[0] intercept   : AIC=-1992.896, Time=0.06 sec\n",
            " ARIMA(1,1,0)(0,0,0)[0] intercept   : AIC=-2005.043, Time=0.16 sec\n",
            " ARIMA(0,1,1)(0,0,0)[0] intercept   : AIC=-2012.261, Time=0.36 sec\n",
            " ARIMA(0,1,0)(0,0,0)[0]             : AIC=-1994.846, Time=0.04 sec\n",
            " ARIMA(1,1,2)(0,0,0)[0] intercept   : AIC=-2031.013, Time=0.54 sec\n",
            " ARIMA(0,1,2)(0,0,0)[0] intercept   : AIC=-2031.035, Time=0.35 sec\n",
            " ARIMA(0,1,3)(0,0,0)[0] intercept   : AIC=-2030.108, Time=0.76 sec\n",
            " ARIMA(1,1,1)(0,0,0)[0] intercept   : AIC=-2031.487, Time=0.52 sec\n",
            " ARIMA(2,1,1)(0,0,0)[0] intercept   : AIC=-2030.652, Time=0.89 sec\n",
            " ARIMA(2,1,0)(0,0,0)[0] intercept   : AIC=-2022.977, Time=0.65 sec\n",
            " ARIMA(1,1,1)(0,0,0)[0]             : AIC=-2033.453, Time=0.20 sec\n",
            " ARIMA(0,1,1)(0,0,0)[0]             : AIC=-2014.205, Time=0.14 sec\n",
            " ARIMA(1,1,0)(0,0,0)[0]             : AIC=-2006.987, Time=0.08 sec\n",
            " ARIMA(2,1,1)(0,0,0)[0]             : AIC=-2032.616, Time=0.36 sec\n",
            " ARIMA(1,1,2)(0,0,0)[0]             : AIC=-2032.977, Time=0.38 sec\n",
            " ARIMA(0,1,2)(0,0,0)[0]             : AIC=-2032.993, Time=0.34 sec\n",
            " ARIMA(2,1,0)(0,0,0)[0]             : AIC=-2024.926, Time=0.12 sec\n",
            " ARIMA(2,1,2)(0,0,0)[0]             : AIC=-2032.379, Time=0.54 sec\n",
            "\n",
            "Best model:  ARIMA(1,1,1)(0,0,0)[0]          \n",
            "Total fit time: 7.210 seconds\n",
            "Optimal ARIMA Order: (1, 1, 1)\n"
          ]
        }
      ],
      "source": [
        "auto_model = auto_arima(train, seasonal=False, stepwise=True, trace=True, suppress_warnings=True)\n",
        "best_order = auto_model.order\n",
        "print(f\"Optimal ARIMA Order: {best_order}\")"
      ]
    },
    {
      "cell_type": "code",
      "execution_count": null,
      "id": "9fdc06c5",
      "metadata": {
        "id": "9fdc06c5",
        "outputId": "fb6c1d95-e889-41dd-fc32-a7bbdd4af3de"
      },
      "outputs": [
        {
          "name": "stdout",
          "output_type": "stream",
          "text": [
            "Mean Squared Error: 440.6817\n"
          ]
        }
      ],
      "source": [
        "model = ARIMA(train, order=best_order)\n",
        "model_fit = model.fit()\n",
        "forecast_arima = model_fit.forecast(steps=len(test))\n",
        "hw_model = ExponentialSmoothing(train, trend=\"add\", seasonal=None).fit()\n",
        "forecast_ets = hw_model.forecast(steps=len(test))\n",
        "forecast_hybrid = (forecast_arima + forecast_ets) / 2\n",
        "forecast_actual = scaler.inverse_transform(np.array(forecast_hybrid).reshape(-1, 1))\n",
        "test_actual = scaler.inverse_transform(np.array(test).reshape(-1, 1))\n",
        "mse = mean_squared_error(test_actual, forecast_actual)\n",
        "print(f\"Mean Squared Error: {mse:.4f}\")"
      ]
    },
    {
      "cell_type": "code",
      "execution_count": null,
      "id": "a6898c87",
      "metadata": {
        "id": "a6898c87",
        "outputId": "2a8917b8-cb30-45ed-e0bb-d4b5e7207232"
      },
      "outputs": [
        {
          "data": {
            "image/png": "[encoded data removed]",
            "text/plain": [
              "<Figure size 720x432 with 1 Axes>"
            ]
          },
          "metadata": {
            "needs_background": "light"
          },
          "output_type": "display_data"
        }
      ],
      "source": [
        "plt.figure(figsize=(10,6))\n",
        "plt.plot(test.index, test_actual, label=\"Actual\")\n",
        "plt.plot(test.index, forecast_actual, label=\"Predicted (Hybrid ARIMA+ETS)\")\n",
        "plt.xlabel(\"Days\")\n",
        "plt.ylabel(\"Price (GBP)\")\n",
        "plt.title(\"ARIMA Model Forecast vs Actual\")\n",
        "plt.legend()\n",
        "plt.show()"
      ]
    },
    {
      "cell_type": "markdown",
      "id": "73db7c95",
      "metadata": {
        "id": "73db7c95"
      },
      "source": [
        "# VARIMA"
      ]
    },
    {
      "cell_type": "code",
      "execution_count": null,
      "id": "6297f513",
      "metadata": {
        "id": "6297f513"
      },
      "outputs": [],
      "source": [
        "from statsmodels.tsa.api import VAR"
      ]
    },
    {
      "cell_type": "code",
      "execution_count": null,
      "id": "221d85da",
      "metadata": {
        "id": "221d85da"
      },
      "outputs": [],
      "source": [
        "feat = dx[['KWH', 'Total Cost (GBP)']]\n",
        "\n",
        "scaler = MinMaxScaler()\n",
        "df_scaled = pd.DataFrame(scaler.fit_transform(feat), columns=feat.columns, index=feat.index)"
      ]
    },
    {
      "cell_type": "code",
      "execution_count": null,
      "id": "19195535",
      "metadata": {
        "id": "19195535"
      },
      "outputs": [],
      "source": [
        "split_idx = int(0.8 * len(df_scaled))\n",
        "train, test = df_scaled.iloc[:split_idx], df_scaled.iloc[split_idx:]"
      ]
    },
    {
      "cell_type": "code",
      "execution_count": null,
      "id": "fca87a9d",
      "metadata": {
        "id": "fca87a9d",
        "outputId": "481a14a0-f874-4129-db9f-cc0b339f3a6a"
      },
      "outputs": [
        {
          "name": "stdout",
          "output_type": "stream",
          "text": [
            "VARIMA Mean Squared Error: 324.4844\n"
          ]
        }
      ],
      "source": [
        "var_model = VAR(train)\n",
        "var_fit = var_model.fit(maxlags=10, ic='aic')\n",
        "forecast_steps = len(test)\n",
        "forecast = var_fit.forecast(train.values[-var_fit.k_ar:], steps=forecast_steps)\n",
        "forecast_df = pd.DataFrame(forecast, columns=feat.columns, index=test.index)\n",
        "forecast_actual = scaler.inverse_transform(forecast_df)\n",
        "test_actual = scaler.inverse_transform(test)\n",
        "mse = mean_squared_error(test_actual[:, 1], forecast_actual[:, 1])\n",
        "print(f\"VARIMA Mean Squared Error: {mse:.4f}\")"
      ]
    },
    {
      "cell_type": "code",
      "execution_count": null,
      "id": "0b9363a6",
      "metadata": {
        "id": "0b9363a6",
        "outputId": "22306a31-a5ac-47b7-e8b5-10a4ef1f97db"
      },
      "outputs": [
        {
          "data": {
            "image/png": "[encoded data removed]",
            "text/plain": [
              "<Figure size 720x432 with 1 Axes>"
            ]
          },
          "metadata": {
            "needs_background": "light"
          },
          "output_type": "display_data"
        }
      ],
      "source": [
        "plt.figure(figsize=(10,6))\n",
        "plt.plot(test.index, test_actual[:, 1], label=\"Actual Total Cost\")\n",
        "plt.plot(test.index, forecast_actual[:, 1], label=\"Predicted Total Cost\")\n",
        "plt.xlabel(\"Days\")\n",
        "plt.ylabel(\"Price (GBP)\")\n",
        "plt.title(\"VARIMA Model Forecast vs Actual\")\n",
        "plt.legend()\n",
        "plt.show()"
      ]
    },
    {
      "cell_type": "markdown",
      "id": "62e75cb7",
      "metadata": {
        "id": "62e75cb7"
      },
      "source": [
        "# RNN"
      ]
    },
    {
      "cell_type": "code",
      "execution_count": null,
      "id": "e6aad642",
      "metadata": {
        "id": "e6aad642",
        "outputId": "8b4a3a1a-2fe0-43d0-cc1a-f53b9ccd2b4f"
      },
      "outputs": [
        {
          "data": {
            "text/html": [
              "<div>\n",
              "<style scoped>\n",
              "    .dataframe tbody tr th:only-of-type {\n",
              "        vertical-align: middle;\n",
              "    }\n",
              "\n",
              "    .dataframe tbody tr th {\n",
              "        vertical-align: top;\n",
              "    }\n",
              "\n",
              "    .dataframe thead th {\n",
              "        text-align: right;\n",
              "    }\n",
              "</style>\n",
              "<table border=\"1\" class=\"dataframe\">\n",
              "  <thead>\n",
              "    <tr style=\"text-align: right;\">\n",
              "      <th></th>\n",
              "      <th>Date</th>\n",
              "      <th>KWH</th>\n",
              "      <th>year</th>\n",
              "      <th>quarter</th>\n",
              "      <th>month</th>\n",
              "      <th>day</th>\n",
              "      <th>Price (GBP per kWh)</th>\n",
              "      <th>Total Cost (GBP)</th>\n",
              "      <th>Cost_normalized</th>\n",
              "    </tr>\n",
              "  </thead>\n",
              "  <tbody>\n",
              "    <tr>\n",
              "      <th>2</th>\n",
              "      <td>2011-12-08</td>\n",
              "      <td>365.577000</td>\n",
              "      <td>2011</td>\n",
              "      <td>4</td>\n",
              "      <td>December</td>\n",
              "      <td>8</td>\n",
              "      <td>0.1446</td>\n",
              "      <td>51.184</td>\n",
              "      <td>0.000000</td>\n",
              "    </tr>\n",
              "    <tr>\n",
              "      <th>3</th>\n",
              "      <td>2011-12-09</td>\n",
              "      <td>502.532000</td>\n",
              "      <td>2011</td>\n",
              "      <td>4</td>\n",
              "      <td>December</td>\n",
              "      <td>9</td>\n",
              "      <td>0.1446</td>\n",
              "      <td>70.350</td>\n",
              "      <td>0.192492</td>\n",
              "    </tr>\n",
              "    <tr>\n",
              "      <th>4</th>\n",
              "      <td>2011-12-10</td>\n",
              "      <td>637.385000</td>\n",
              "      <td>2011</td>\n",
              "      <td>4</td>\n",
              "      <td>December</td>\n",
              "      <td>10</td>\n",
              "      <td>0.1446</td>\n",
              "      <td>89.236</td>\n",
              "      <td>0.382171</td>\n",
              "    </tr>\n",
              "    <tr>\n",
              "      <th>5</th>\n",
              "      <td>2011-12-11</td>\n",
              "      <td>670.710001</td>\n",
              "      <td>2011</td>\n",
              "      <td>4</td>\n",
              "      <td>December</td>\n",
              "      <td>11</td>\n",
              "      <td>0.1446</td>\n",
              "      <td>93.898</td>\n",
              "      <td>0.428993</td>\n",
              "    </tr>\n",
              "    <tr>\n",
              "      <th>6</th>\n",
              "      <td>2011-12-12</td>\n",
              "      <td>614.313000</td>\n",
              "      <td>2011</td>\n",
              "      <td>4</td>\n",
              "      <td>December</td>\n",
              "      <td>12</td>\n",
              "      <td>0.1446</td>\n",
              "      <td>86.002</td>\n",
              "      <td>0.349691</td>\n",
              "    </tr>\n",
              "  </tbody>\n",
              "</table>\n",
              "</div>"
            ],
            "text/plain": [
              "        Date         KWH  year  quarter     month  day  Price (GBP per kWh)  \\\n",
              "2 2011-12-08  365.577000  2011        4  December    8               0.1446   \n",
              "3 2011-12-09  502.532000  2011        4  December    9               0.1446   \n",
              "4 2011-12-10  637.385000  2011        4  December   10               0.1446   \n",
              "5 2011-12-11  670.710001  2011        4  December   11               0.1446   \n",
              "6 2011-12-12  614.313000  2011        4  December   12               0.1446   \n",
              "\n",
              "   Total Cost (GBP)  Cost_normalized  \n",
              "2            51.184         0.000000  \n",
              "3            70.350         0.192492  \n",
              "4            89.236         0.382171  \n",
              "5            93.898         0.428993  \n",
              "6            86.002         0.349691  "
            ]
          },
          "execution_count": 82,
          "metadata": {},
          "output_type": "execute_result"
        }
      ],
      "source": [
        "dx.head()"
      ]
    },
    {
      "cell_type": "code",
      "execution_count": null,
      "id": "57152cf0",
      "metadata": {
        "id": "57152cf0"
      },
      "outputs": [],
      "source": [
        "def create_sequences(data, input_steps):\n",
        "    x, y = [], []\n",
        "    for i in range(len(data) - input_steps):\n",
        "        x.append(data[i:i + input_steps])\n",
        "        y.append(data[i + input_steps])\n",
        "    return np.array(x), np.array(y)"
      ]
    },
    {
      "cell_type": "code",
      "execution_count": null,
      "id": "d2213f23",
      "metadata": {
        "id": "d2213f23"
      },
      "outputs": [],
      "source": [
        "input_steps = 60\n",
        "x, y = create_sequences(dx['Cost_normalized'].values, input_steps)\n",
        "x = x.reshape((x.shape[0], x.shape[1], 1))"
      ]
    },
    {
      "cell_type": "code",
      "execution_count": null,
      "id": "29a6cf2a",
      "metadata": {
        "id": "29a6cf2a"
      },
      "outputs": [],
      "source": [
        "split_idx = int(0.8 * len(x))\n",
        "x_train, x_test = x[:split_idx], x[split_idx:]\n",
        "y_train, y_test = y[:split_idx], y[split_idx:]"
      ]
    },
    {
      "cell_type": "markdown",
      "id": "dfb4b89c",
      "metadata": {
        "id": "dfb4b89c"
      },
      "source": [
        "## LSTM"
      ]
    },
    {
      "cell_type": "code",
      "execution_count": null,
      "id": "6fa399cb",
      "metadata": {
        "id": "6fa399cb"
      },
      "outputs": [],
      "source": [
        "import tensorflow as tf\n",
        "from tensorflow.keras.models import Sequential\n",
        "from tensorflow.keras.layers import LSTM, Dense, Dropout"
      ]
    },
    {
      "cell_type": "code",
      "execution_count": null,
      "id": "58cbaa02",
      "metadata": {
        "id": "58cbaa02"
      },
      "outputs": [],
      "source": [
        "model = Sequential([\n",
        "    LSTM(64, return_sequences=True, input_shape=(input_steps, 1)),\n",
        "    Dropout(0.2),\n",
        "    LSTM(64, return_sequences=False),\n",
        "    Dropout(0.2),\n",
        "    Dense(32, activation='relu'),\n",
        "    Dense(1)])"
      ]
    },
    {
      "cell_type": "code",
      "execution_count": null,
      "id": "80bb49de",
      "metadata": {
        "id": "80bb49de"
      },
      "outputs": [],
      "source": [
        "model.compile(optimizer='adam', loss='mse')"
      ]
    },
    {
      "cell_type": "code",
      "execution_count": null,
      "id": "8093f275",
      "metadata": {
        "id": "8093f275",
        "outputId": "93b61602-ca5e-48f9-a747-501f9b7f1e20"
      },
      "outputs": [
        {
          "name": "stdout",
          "output_type": "stream",
          "text": [
            "Model: \"sequential_6\"\n",
            "_________________________________________________________________\n",
            " Layer (type)                Output Shape              Param #   \n",
            "=================================================================\n",
            " lstm_10 (LSTM)              (None, 60, 64)            16896     \n",
            "                                                                 \n",
            " dropout_12 (Dropout)        (None, 60, 64)            0         \n",
            "                                                                 \n",
            " lstm_11 (LSTM)              (None, 64)                33024     \n",
            "                                                                 \n",
            " dropout_13 (Dropout)        (None, 64)                0         \n",
            "                                                                 \n",
            " dense_12 (Dense)            (None, 32)                2080      \n",
            "                                                                 \n",
            " dense_13 (Dense)            (None, 1)                 33        \n",
            "                                                                 \n",
            "=================================================================\n",
            "Total params: 52,033\n",
            "Trainable params: 52,033\n",
            "Non-trainable params: 0\n",
            "_________________________________________________________________\n"
          ]
        }
      ],
      "source": [
        "model.summary()"
      ]
    },
    {
      "cell_type": "code",
      "execution_count": null,
      "id": "e47b62f6",
      "metadata": {
        "id": "e47b62f6",
        "outputId": "7123241c-1f7f-4948-b991-1ba622d3505b"
      },
      "outputs": [
        {
          "name": "stdout",
          "output_type": "stream",
          "text": [
            "Epoch 1/50\n",
            "19/19 [==============================] - 5s 84ms/step - loss: 0.0460 - val_loss: 0.0196\n",
            "Epoch 2/50\n",
            "19/19 [==============================] - 1s 41ms/step - loss: 0.0119 - val_loss: 0.0054\n",
            "Epoch 3/50\n",
            "19/19 [==============================] - 1s 42ms/step - loss: 0.0078 - val_loss: 0.0039\n",
            "Epoch 4/50\n",
            "19/19 [==============================] - 1s 43ms/step - loss: 0.0072 - val_loss: 0.0036\n",
            "Epoch 5/50\n",
            "19/19 [==============================] - 1s 42ms/step - loss: 0.0074 - val_loss: 0.0048\n",
            "Epoch 6/50\n",
            "19/19 [==============================] - 1s 42ms/step - loss: 0.0062 - val_loss: 0.0045\n",
            "Epoch 7/50\n",
            "19/19 [==============================] - 1s 45ms/step - loss: 0.0063 - val_loss: 0.0033\n",
            "Epoch 8/50\n",
            "19/19 [==============================] - 1s 56ms/step - loss: 0.0059 - val_loss: 0.0033\n",
            "Epoch 9/50\n",
            "19/19 [==============================] - 1s 45ms/step - loss: 0.0073 - val_loss: 0.0032\n",
            "Epoch 10/50\n",
            "19/19 [==============================] - 1s 51ms/step - loss: 0.0060 - val_loss: 0.0033\n",
            "Epoch 11/50\n",
            "19/19 [==============================] - 1s 47ms/step - loss: 0.0054 - val_loss: 0.0034\n",
            "Epoch 12/50\n",
            "19/19 [==============================] - 1s 45ms/step - loss: 0.0058 - val_loss: 0.0045\n",
            "Epoch 13/50\n",
            "19/19 [==============================] - 1s 48ms/step - loss: 0.0056 - val_loss: 0.0040\n",
            "Epoch 14/50\n",
            "19/19 [==============================] - 1s 47ms/step - loss: 0.0061 - val_loss: 0.0037\n",
            "Epoch 15/50\n",
            "19/19 [==============================] - 1s 50ms/step - loss: 0.0051 - val_loss: 0.0035\n",
            "Epoch 16/50\n",
            "19/19 [==============================] - 1s 53ms/step - loss: 0.0048 - val_loss: 0.0032\n",
            "Epoch 17/50\n",
            "19/19 [==============================] - 1s 42ms/step - loss: 0.0051 - val_loss: 0.0032\n",
            "Epoch 18/50\n",
            "19/19 [==============================] - 1s 43ms/step - loss: 0.0052 - val_loss: 0.0034\n",
            "Epoch 19/50\n",
            "19/19 [==============================] - 1s 43ms/step - loss: 0.0050 - val_loss: 0.0034\n",
            "Epoch 20/50\n",
            "19/19 [==============================] - 1s 41ms/step - loss: 0.0048 - val_loss: 0.0034\n",
            "Epoch 21/50\n",
            "19/19 [==============================] - 1s 43ms/step - loss: 0.0055 - val_loss: 0.0045\n",
            "Epoch 22/50\n",
            "19/19 [==============================] - 1s 41ms/step - loss: 0.0046 - val_loss: 0.0035\n",
            "Epoch 23/50\n",
            "19/19 [==============================] - 1s 41ms/step - loss: 0.0043 - val_loss: 0.0033\n",
            "Epoch 24/50\n",
            "19/19 [==============================] - 1s 42ms/step - loss: 0.0051 - val_loss: 0.0051\n",
            "Epoch 25/50\n",
            "19/19 [==============================] - 1s 41ms/step - loss: 0.0046 - val_loss: 0.0031\n",
            "Epoch 26/50\n",
            "19/19 [==============================] - 1s 43ms/step - loss: 0.0044 - val_loss: 0.0031\n",
            "Epoch 27/50\n",
            "19/19 [==============================] - 1s 41ms/step - loss: 0.0044 - val_loss: 0.0030\n",
            "Epoch 28/50\n",
            "19/19 [==============================] - 1s 42ms/step - loss: 0.0044 - val_loss: 0.0037\n",
            "Epoch 29/50\n",
            "19/19 [==============================] - 1s 41ms/step - loss: 0.0042 - val_loss: 0.0032\n",
            "Epoch 30/50\n",
            "19/19 [==============================] - 1s 42ms/step - loss: 0.0046 - val_loss: 0.0036\n",
            "Epoch 31/50\n",
            "19/19 [==============================] - 1s 49ms/step - loss: 0.0046 - val_loss: 0.0035\n",
            "Epoch 32/50\n",
            "19/19 [==============================] - 1s 41ms/step - loss: 0.0047 - val_loss: 0.0030\n",
            "Epoch 33/50\n",
            "19/19 [==============================] - 1s 41ms/step - loss: 0.0049 - val_loss: 0.0034\n",
            "Epoch 34/50\n",
            "19/19 [==============================] - 1s 45ms/step - loss: 0.0047 - val_loss: 0.0030\n",
            "Epoch 35/50\n",
            "19/19 [==============================] - 1s 45ms/step - loss: 0.0046 - val_loss: 0.0030\n",
            "Epoch 36/50\n",
            "19/19 [==============================] - 1s 42ms/step - loss: 0.0047 - val_loss: 0.0030\n",
            "Epoch 37/50\n",
            "19/19 [==============================] - 1s 42ms/step - loss: 0.0038 - val_loss: 0.0030\n",
            "Epoch 38/50\n",
            "19/19 [==============================] - 1s 42ms/step - loss: 0.0042 - val_loss: 0.0031\n",
            "Epoch 39/50\n",
            "19/19 [==============================] - 1s 42ms/step - loss: 0.0047 - val_loss: 0.0032\n",
            "Epoch 40/50\n",
            "19/19 [==============================] - 1s 41ms/step - loss: 0.0040 - val_loss: 0.0031\n",
            "Epoch 41/50\n",
            "19/19 [==============================] - 1s 43ms/step - loss: 0.0041 - val_loss: 0.0034\n",
            "Epoch 42/50\n",
            "19/19 [==============================] - 1s 42ms/step - loss: 0.0047 - val_loss: 0.0029\n",
            "Epoch 43/50\n",
            "19/19 [==============================] - 1s 42ms/step - loss: 0.0039 - val_loss: 0.0043\n",
            "Epoch 44/50\n",
            "19/19 [==============================] - 1s 41ms/step - loss: 0.0041 - val_loss: 0.0033\n",
            "Epoch 45/50\n",
            "19/19 [==============================] - 1s 44ms/step - loss: 0.0044 - val_loss: 0.0029\n",
            "Epoch 46/50\n",
            "19/19 [==============================] - 1s 41ms/step - loss: 0.0038 - val_loss: 0.0029\n",
            "Epoch 47/50\n",
            "19/19 [==============================] - 1s 41ms/step - loss: 0.0037 - val_loss: 0.0036\n",
            "Epoch 48/50\n",
            "19/19 [==============================] - 1s 44ms/step - loss: 0.0038 - val_loss: 0.0029\n",
            "Epoch 49/50\n",
            "19/19 [==============================] - 1s 42ms/step - loss: 0.0039 - val_loss: 0.0030\n",
            "Epoch 50/50\n",
            "19/19 [==============================] - 1s 44ms/step - loss: 0.0038 - val_loss: 0.0029\n"
          ]
        }
      ],
      "source": [
        "history = model.fit(x_train, y_train, epochs=50, batch_size=32, validation_data=(x_test, y_test))"
      ]
    },
    {
      "cell_type": "code",
      "execution_count": null,
      "id": "b7d4aceb",
      "metadata": {
        "id": "b7d4aceb",
        "outputId": "82443b94-b354-488f-f0d9-808e89036adb"
      },
      "outputs": [
        {
          "data": {
            "image/png": "[encoded data removed]",
            "text/plain": [
              "<Figure size 576x432 with 1 Axes>"
            ]
          },
          "metadata": {
            "needs_background": "light"
          },
          "output_type": "display_data"
        }
      ],
      "source": [
        "plt.figure(figsize=(8, 6))\n",
        "plt.plot(history.history['loss'], label='Train Loss')\n",
        "plt.plot(history.history['val_loss'], label='Validation Loss')\n",
        "plt.legend()\n",
        "plt.show()"
      ]
    },
    {
      "cell_type": "code",
      "execution_count": null,
      "id": "df6d1cdf",
      "metadata": {
        "id": "df6d1cdf",
        "outputId": "261454e5-ddc5-4c9c-b1a6-1a580a7e53e6"
      },
      "outputs": [
        {
          "name": "stdout",
          "output_type": "stream",
          "text": [
            "Mean Squared Error: 28.9839\n"
          ]
        }
      ],
      "source": [
        "y_pred = model.predict(x_test)\n",
        "y_test_rescaled = scaler.inverse_transform(y_test.reshape(-1, 1))\n",
        "y_pred_rescaled = scaler.inverse_transform(y_pred)\n",
        "mse = mean_squared_error(y_test_rescaled, y_pred_rescaled)\n",
        "print(f\"Mean Squared Error: {mse:.4f}\")"
      ]
    },
    {
      "cell_type": "code",
      "execution_count": null,
      "id": "0af94090",
      "metadata": {
        "id": "0af94090",
        "outputId": "412ba94a-e910-4c6e-f2e6-714590de9395"
      },
      "outputs": [
        {
          "data": {
            "image/png": "[encoded data removed]",
            "text/plain": [
              "<Figure size 720x432 with 1 Axes>"
            ]
          },
          "metadata": {
            "needs_background": "light"
          },
          "output_type": "display_data"
        }
      ],
      "source": [
        "plt.figure(figsize=(10,6))\n",
        "plt.plot(range(603, 754), y_test_rescaled, label='Actual Cost')\n",
        "plt.plot(range(603, 754), y_pred_rescaled, label='Predicted Cost')\n",
        "plt.xlabel(\"Days\")\n",
        "plt.ylabel(\"Price (GBP)\")\n",
        "plt.title(\"RNN LSTM Model Forecast vs Actual\")\n",
        "plt.legend()\n",
        "plt.show()"
      ]
    },
    {
      "cell_type": "markdown",
      "id": "7b034ffb",
      "metadata": {
        "id": "7b034ffb"
      },
      "source": [
        "## GRU"
      ]
    },
    {
      "cell_type": "code",
      "execution_count": null,
      "id": "da75918d",
      "metadata": {
        "id": "da75918d"
      },
      "outputs": [],
      "source": [
        "from tensorflow.keras.layers import GRU"
      ]
    },
    {
      "cell_type": "code",
      "execution_count": null,
      "id": "f08e2e65",
      "metadata": {
        "id": "f08e2e65"
      },
      "outputs": [],
      "source": [
        "model = Sequential([\n",
        "    GRU(64, return_sequences=True, input_shape=(input_steps, 1)),\n",
        "    Dropout(0.2),\n",
        "    GRU(64, return_sequences=False),\n",
        "    Dropout(0.2),\n",
        "    Dense(32, activation='relu'),\n",
        "    Dense(1)])"
      ]
    },
    {
      "cell_type": "code",
      "execution_count": null,
      "id": "e7659101",
      "metadata": {
        "id": "e7659101"
      },
      "outputs": [],
      "source": [
        "model.compile(optimizer='adam', loss='mse')"
      ]
    },
    {
      "cell_type": "code",
      "execution_count": null,
      "id": "2edae0af",
      "metadata": {
        "id": "2edae0af",
        "outputId": "b8a1ac0d-d8d7-43a5-9331-abc77d1aef02"
      },
      "outputs": [
        {
          "name": "stdout",
          "output_type": "stream",
          "text": [
            "Model: \"sequential_5\"\n",
            "_________________________________________________________________\n",
            " Layer (type)                Output Shape              Param #   \n",
            "=================================================================\n",
            " gru (GRU)                   (None, 60, 64)            12864     \n",
            "                                                                 \n",
            " dropout_10 (Dropout)        (None, 60, 64)            0         \n",
            "                                                                 \n",
            " gru_1 (GRU)                 (None, 64)                24960     \n",
            "                                                                 \n",
            " dropout_11 (Dropout)        (None, 64)                0         \n",
            "                                                                 \n",
            " dense_10 (Dense)            (None, 32)                2080      \n",
            "                                                                 \n",
            " dense_11 (Dense)            (None, 1)                 33        \n",
            "                                                                 \n",
            "=================================================================\n",
            "Total params: 39,937\n",
            "Trainable params: 39,937\n",
            "Non-trainable params: 0\n",
            "_________________________________________________________________\n"
          ]
        }
      ],
      "source": [
        "model.summary()"
      ]
    },
    {
      "cell_type": "code",
      "execution_count": null,
      "id": "e6866db6",
      "metadata": {
        "id": "e6866db6",
        "outputId": "1c00b100-a0de-4f15-d6f6-fa23ca2b57a4"
      },
      "outputs": [
        {
          "name": "stdout",
          "output_type": "stream",
          "text": [
            "Epoch 1/50\n",
            "19/19 [==============================] - 5s 85ms/step - loss: 0.0505 - val_loss: 0.0084\n",
            "Epoch 2/50\n",
            "19/19 [==============================] - 1s 41ms/step - loss: 0.0114 - val_loss: 0.0030\n",
            "Epoch 3/50\n",
            "19/19 [==============================] - 1s 42ms/step - loss: 0.0068 - val_loss: 0.0036\n",
            "Epoch 4/50\n",
            "19/19 [==============================] - 1s 46ms/step - loss: 0.0052 - val_loss: 0.0036\n",
            "Epoch 5/50\n",
            "19/19 [==============================] - 1s 47ms/step - loss: 0.0052 - val_loss: 0.0034\n",
            "Epoch 6/50\n",
            "19/19 [==============================] - 1s 45ms/step - loss: 0.0043 - val_loss: 0.0031\n",
            "Epoch 7/50\n",
            "19/19 [==============================] - 1s 39ms/step - loss: 0.0047 - val_loss: 0.0032\n",
            "Epoch 8/50\n",
            "19/19 [==============================] - 1s 39ms/step - loss: 0.0047 - val_loss: 0.0038\n",
            "Epoch 9/50\n",
            "19/19 [==============================] - 1s 43ms/step - loss: 0.0048 - val_loss: 0.0041\n",
            "Epoch 10/50\n",
            "19/19 [==============================] - 1s 37ms/step - loss: 0.0043 - val_loss: 0.0028\n",
            "Epoch 11/50\n",
            "19/19 [==============================] - 1s 47ms/step - loss: 0.0047 - val_loss: 0.0054\n",
            "Epoch 12/50\n",
            "19/19 [==============================] - 1s 37ms/step - loss: 0.0044 - val_loss: 0.0028\n",
            "Epoch 13/50\n",
            "19/19 [==============================] - 1s 44ms/step - loss: 0.0050 - val_loss: 0.0029\n",
            "Epoch 14/50\n",
            "19/19 [==============================] - 1s 44ms/step - loss: 0.0046 - val_loss: 0.0047\n",
            "Epoch 15/50\n",
            "19/19 [==============================] - 1s 50ms/step - loss: 0.0043 - val_loss: 0.0032\n",
            "Epoch 16/50\n",
            "19/19 [==============================] - 1s 39ms/step - loss: 0.0044 - val_loss: 0.0037\n",
            "Epoch 17/50\n",
            "19/19 [==============================] - 1s 43ms/step - loss: 0.0040 - val_loss: 0.0043\n",
            "Epoch 18/50\n",
            "19/19 [==============================] - 1s 37ms/step - loss: 0.0039 - val_loss: 0.0031\n",
            "Epoch 19/50\n",
            "19/19 [==============================] - 1s 38ms/step - loss: 0.0036 - val_loss: 0.0031\n",
            "Epoch 20/50\n",
            "19/19 [==============================] - 1s 40ms/step - loss: 0.0038 - val_loss: 0.0035\n",
            "Epoch 21/50\n",
            "19/19 [==============================] - 1s 37ms/step - loss: 0.0035 - val_loss: 0.0034\n",
            "Epoch 22/50\n",
            "19/19 [==============================] - 1s 47ms/step - loss: 0.0037 - val_loss: 0.0036\n",
            "Epoch 23/50\n",
            "19/19 [==============================] - 1s 46ms/step - loss: 0.0040 - val_loss: 0.0026\n",
            "Epoch 24/50\n",
            "19/19 [==============================] - 1s 45ms/step - loss: 0.0033 - val_loss: 0.0035\n",
            "Epoch 25/50\n",
            "19/19 [==============================] - 1s 46ms/step - loss: 0.0037 - val_loss: 0.0026\n",
            "Epoch 26/50\n",
            "19/19 [==============================] - 1s 48ms/step - loss: 0.0032 - val_loss: 0.0031\n",
            "Epoch 27/50\n",
            "19/19 [==============================] - 1s 38ms/step - loss: 0.0039 - val_loss: 0.0026\n",
            "Epoch 28/50\n",
            "19/19 [==============================] - 1s 40ms/step - loss: 0.0035 - val_loss: 0.0028\n",
            "Epoch 29/50\n",
            "19/19 [==============================] - 1s 37ms/step - loss: 0.0036 - val_loss: 0.0028\n",
            "Epoch 30/50\n",
            "19/19 [==============================] - 1s 49ms/step - loss: 0.0035 - val_loss: 0.0029\n",
            "Epoch 31/50\n",
            "19/19 [==============================] - 1s 46ms/step - loss: 0.0041 - val_loss: 0.0032\n",
            "Epoch 32/50\n",
            "19/19 [==============================] - 1s 39ms/step - loss: 0.0035 - val_loss: 0.0030\n",
            "Epoch 33/50\n",
            "19/19 [==============================] - 1s 40ms/step - loss: 0.0033 - val_loss: 0.0030\n",
            "Epoch 34/50\n",
            "19/19 [==============================] - 1s 39ms/step - loss: 0.0033 - val_loss: 0.0027\n",
            "Epoch 35/50\n",
            "19/19 [==============================] - 1s 37ms/step - loss: 0.0032 - val_loss: 0.0030\n",
            "Epoch 36/50\n",
            "19/19 [==============================] - 1s 42ms/step - loss: 0.0032 - val_loss: 0.0041\n",
            "Epoch 37/50\n",
            "19/19 [==============================] - 1s 43ms/step - loss: 0.0034 - val_loss: 0.0027\n",
            "Epoch 38/50\n",
            "19/19 [==============================] - 1s 45ms/step - loss: 0.0034 - val_loss: 0.0025\n",
            "Epoch 39/50\n",
            "19/19 [==============================] - 1s 46ms/step - loss: 0.0031 - val_loss: 0.0034\n",
            "Epoch 40/50\n",
            "19/19 [==============================] - 1s 45ms/step - loss: 0.0033 - val_loss: 0.0025\n",
            "Epoch 41/50\n",
            "19/19 [==============================] - 1s 46ms/step - loss: 0.0032 - val_loss: 0.0036\n",
            "Epoch 42/50\n",
            "19/19 [==============================] - 1s 46ms/step - loss: 0.0030 - val_loss: 0.0025\n",
            "Epoch 43/50\n",
            "19/19 [==============================] - 1s 50ms/step - loss: 0.0032 - val_loss: 0.0027\n",
            "Epoch 44/50\n",
            "19/19 [==============================] - 1s 60ms/step - loss: 0.0030 - val_loss: 0.0033\n",
            "Epoch 45/50\n",
            "19/19 [==============================] - 1s 56ms/step - loss: 0.0030 - val_loss: 0.0025\n",
            "Epoch 46/50\n",
            "19/19 [==============================] - 1s 45ms/step - loss: 0.0030 - val_loss: 0.0030\n",
            "Epoch 47/50\n",
            "19/19 [==============================] - 1s 52ms/step - loss: 0.0028 - val_loss: 0.0028\n",
            "Epoch 48/50\n",
            "19/19 [==============================] - 1s 46ms/step - loss: 0.0030 - val_loss: 0.0033\n",
            "Epoch 49/50\n",
            "19/19 [==============================] - 1s 45ms/step - loss: 0.0034 - val_loss: 0.0027\n",
            "Epoch 50/50\n",
            "19/19 [==============================] - 1s 43ms/step - loss: 0.0029 - val_loss: 0.0028\n"
          ]
        }
      ],
      "source": [
        "history = model.fit(x_train, y_train, epochs=50, batch_size=32, validation_data=(x_test, y_test))"
      ]
    },
    {
      "cell_type": "code",
      "execution_count": null,
      "id": "e91af90e",
      "metadata": {
        "id": "e91af90e",
        "outputId": "668760ea-a769-4c71-82ac-4ee002e9efaa"
      },
      "outputs": [
        {
          "data": {
            "image/png": "[encoded data removed]",
            "text/plain": [
              "<Figure size 576x432 with 1 Axes>"
            ]
          },
          "metadata": {
            "needs_background": "light"
          },
          "output_type": "display_data"
        }
      ],
      "source": [
        "plt.figure(figsize=(8, 6))\n",
        "plt.plot(history.history['loss'], label='Train Loss')\n",
        "plt.plot(history.history['val_loss'], label='Validation Loss')\n",
        "plt.legend()\n",
        "plt.show()"
      ]
    },
    {
      "cell_type": "code",
      "execution_count": null,
      "id": "34e84d6f",
      "metadata": {
        "id": "34e84d6f",
        "outputId": "504e7df6-fd59-4dd6-a111-4eecd3508f91"
      },
      "outputs": [
        {
          "name": "stdout",
          "output_type": "stream",
          "text": [
            "Mean Squared Error: 27.9185\n"
          ]
        }
      ],
      "source": [
        "y_pred = model.predict(x_test)\n",
        "y_test_rescaled = scaler.inverse_transform(y_test.reshape(-1, 1))\n",
        "y_pred_rescaled = scaler.inverse_transform(y_pred)\n",
        "mse = mean_squared_error(y_test_rescaled, y_pred_rescaled)\n",
        "print(f\"Mean Squared Error: {mse:.4f}\")"
      ]
    },
    {
      "cell_type": "code",
      "execution_count": null,
      "id": "aea1296c",
      "metadata": {
        "id": "aea1296c",
        "outputId": "09f267da-0ed1-4c9d-ffa8-4734f61600f1"
      },
      "outputs": [
        {
          "data": {
            "image/png": "[encoded data removed]",
            "text/plain": [
              "<Figure size 720x432 with 1 Axes>"
            ]
          },
          "metadata": {
            "needs_background": "light"
          },
          "output_type": "display_data"
        }
      ],
      "source": [
        "plt.figure(figsize=(10,6))\n",
        "plt.plot(range(603, 754), y_test_rescaled, label='Actual Cost')\n",
        "plt.plot(range(603, 754), y_pred_rescaled, label='Predicted Cost')\n",
        "plt.xlabel(\"Days\")\n",
        "plt.ylabel(\"Price (GBP)\")\n",
        "plt.title(\"RNN GRU Model Forecast vs Actual\")\n",
        "plt.legend()\n",
        "plt.show()"
      ]
    },
    {
      "cell_type": "code",
      "execution_count": null,
      "id": "954ff70b",
      "metadata": {
        "id": "954ff70b"
      },
      "outputs": [],
      "source": []
    }
  ],
  "metadata": {
    "kernelspec": {
      "display_name": "Python 3",
      "language": "python",
      "name": "python3"
    },
    "language_info": {
      "codemirror_mode": {
        "name": "ipython",
        "version": 3
      },
      "file_extension": ".py",
      "mimetype": "text/x-python",
      "name": "python",
      "nbconvert_exporter": "python",
      "pygments_lexer": "ipython3",
      "version": "3.8.8"
    },
    "colab": {
      "provenance": [],
      "include_colab_link": true
    }
  },
  "nbformat": 4,
  "nbformat_minor": 5
}