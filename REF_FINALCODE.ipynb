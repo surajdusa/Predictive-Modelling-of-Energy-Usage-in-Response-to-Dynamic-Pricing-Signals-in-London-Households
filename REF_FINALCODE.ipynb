{
  "cells": [
    {
      "cell_type": "markdown",
      "metadata": {
        "id": "view-in-github",
        "colab_type": "text"
      },
      "source": [
        "<a href=\"https://colab.research.google.com/github/surajdusa/Predictive-Modelling-of-Energy-Usage-in-Response-to-Dynamic-Pricing-Signals-in-London-Households/blob/main/REF_FINALCODE.ipynb\" target=\"_parent\"><img src=\"https://colab.research.google.com/assets/colab-badge.svg\" alt=\"Open In Colab\"/></a>"
      ]
    },
    {
      "cell_type": "code",
      "execution_count": null,
      "id": "847355b0",
      "metadata": {
        "id": "847355b0"
      },
      "outputs": [],
      "source": [
        "import pandas as pd\n",
        "import numpy as np\n",
        "import os\n",
        "import matplotlib.pyplot as plt\n",
        "%matplotlib inline\n",
        "import seaborn as sns\n",
        "from prettytable import PrettyTable\n",
        "import warnings\n",
        "warnings.filterwarnings('ignore')"
      ]
    },
    {
      "cell_type": "code",
      "execution_count": null,
      "id": "05d92fd8",
      "metadata": {
        "id": "05d92fd8"
      },
      "outputs": [],
      "source": [
        "from google.colab import drive\n",
        "drive.mount('/content/drive')"
      ]
    },
    {
      "cell_type": "code",
      "source": [
        "df = pd.read_csv('/content/drive/MyDrive/CC_LCL-FullData.csv')"
      ],
      "metadata": {
        "id": "zhYP8XxAJo3B"
      },
      "id": "zhYP8XxAJo3B",
      "execution_count": null,
      "outputs": []
    },
    {
      "cell_type": "code",
      "execution_count": null,
      "id": "e8dc5444",
      "metadata": {
        "id": "e8dc5444",
        "outputId": "faaf2370-96e6-4e10-910b-d7456b35de8d"
      },
      "outputs": [
        {
          "data": {
            "text/html": [
              "<div>\n",
              "<style scoped>\n",
              "    .dataframe tbody tr th:only-of-type {\n",
              "        vertical-align: middle;\n",
              "    }\n",
              "\n",
              "    .dataframe tbody tr th {\n",
              "        vertical-align: top;\n",
              "    }\n",
              "\n",
              "    .dataframe thead th {\n",
              "        text-align: right;\n",
              "    }\n",
              "</style>\n",
              "<table border=\"1\" class=\"dataframe\">\n",
              "  <thead>\n",
              "    <tr style=\"text-align: right;\">\n",
              "      <th></th>\n",
              "      <th>LCLid</th>\n",
              "      <th>stdorToU</th>\n",
              "      <th>DateTime</th>\n",
              "      <th>KWH/hh (per half hour)</th>\n",
              "    </tr>\n",
              "  </thead>\n",
              "  <tbody>\n",
              "    <tr>\n",
              "      <th>0</th>\n",
              "      <td>MAC000002</td>\n",
              "      <td>Std</td>\n",
              "      <td>2012-10-12 00:30:00.0000000</td>\n",
              "      <td>0</td>\n",
              "    </tr>\n",
              "    <tr>\n",
              "      <th>1</th>\n",
              "      <td>MAC000002</td>\n",
              "      <td>Std</td>\n",
              "      <td>2012-10-12 01:00:00.0000000</td>\n",
              "      <td>0</td>\n",
              "    </tr>\n",
              "    <tr>\n",
              "      <th>2</th>\n",
              "      <td>MAC000002</td>\n",
              "      <td>Std</td>\n",
              "      <td>2012-10-12 01:30:00.0000000</td>\n",
              "      <td>0</td>\n",
              "    </tr>\n",
              "    <tr>\n",
              "      <th>3</th>\n",
              "      <td>MAC000002</td>\n",
              "      <td>Std</td>\n",
              "      <td>2012-10-12 02:00:00.0000000</td>\n",
              "      <td>0</td>\n",
              "    </tr>\n",
              "    <tr>\n",
              "      <th>4</th>\n",
              "      <td>MAC000002</td>\n",
              "      <td>Std</td>\n",
              "      <td>2012-10-12 02:30:00.0000000</td>\n",
              "      <td>0</td>\n",
              "    </tr>\n",
              "  </tbody>\n",
              "</table>\n",
              "</div>"
            ],
            "text/plain": [
              "       LCLid stdorToU                     DateTime KWH/hh (per half hour) \n",
              "0  MAC000002      Std  2012-10-12 00:30:00.0000000                      0 \n",
              "1  MAC000002      Std  2012-10-12 01:00:00.0000000                      0 \n",
              "2  MAC000002      Std  2012-10-12 01:30:00.0000000                      0 \n",
              "3  MAC000002      Std  2012-10-12 02:00:00.0000000                      0 \n",
              "4  MAC000002      Std  2012-10-12 02:30:00.0000000                      0 "
            ]
          },
          "execution_count": 3,
          "metadata": {},
          "output_type": "execute_result"
        }
      ],
      "source": [
        "df.head()"
      ]
    },
    {
      "cell_type": "code",
      "execution_count": null,
      "id": "78dbdca9",
      "metadata": {
        "id": "78dbdca9",
        "outputId": "f412bed8-57fe-4032-b276-c6f9960fbed3"
      },
      "outputs": [
        {
          "name": "stdout",
          "output_type": "stream",
          "text": [
            "The number of data points in the dataset: 167932474\n"
          ]
        }
      ],
      "source": [
        "print('The number of data points in the dataset:', df.shape[0])"
      ]
    },
    {
      "cell_type": "code",
      "execution_count": null,
      "id": "458bbbc6",
      "metadata": {
        "id": "458bbbc6",
        "outputId": "5ae3676d-c16c-4151-b7b8-548148a2b443"
      },
      "outputs": [
        {
          "name": "stdout",
          "output_type": "stream",
          "text": [
            "The number of data points in the dataset: 4\n"
          ]
        }
      ],
      "source": [
        "print('The number of data points in the dataset:', df.shape[1])"
      ]
    },
    {
      "cell_type": "code",
      "execution_count": null,
      "id": "a6823d15",
      "metadata": {
        "id": "a6823d15"
      },
      "outputs": [],
      "source": [
        "df = df.iloc[:2000000]"
      ]
    },
    {
      "cell_type": "code",
      "execution_count": null,
      "id": "34971353",
      "metadata": {
        "id": "34971353",
        "outputId": "05aae567-7694-4afe-e2a2-5edd7acfc6dc"
      },
      "outputs": [
        {
          "name": "stdout",
          "output_type": "stream",
          "text": [
            "LCLid                      0\n",
            "stdorToU                   0\n",
            "DateTime                   0\n",
            "KWH/hh (per half hour)     0\n",
            "dtype: int64\n"
          ]
        }
      ],
      "source": [
        "print(df.isnull().sum())"
      ]
    },
    {
      "cell_type": "code",
      "execution_count": null,
      "id": "79762d01",
      "metadata": {
        "id": "79762d01"
      },
      "outputs": [],
      "source": [
        "df[\"Date\"] = pd.to_datetime(df[\"DateTime\"]).dt.date\n",
        "df[\"Time\"] = pd.to_datetime(df[\"DateTime\"]).dt.time\n",
        "df.drop(columns=[\"DateTime\"], inplace=True)"
      ]
    },
    {
      "cell_type": "code",
      "execution_count": null,
      "id": "306c2110",
      "metadata": {
        "id": "306c2110",
        "outputId": "a93dbee8-d9df-462f-8f6e-81af4303199d"
      },
      "outputs": [
        {
          "name": "stdout",
          "output_type": "stream",
          "text": [
            "The number of data points in the dataset: 2000000\n"
          ]
        }
      ],
      "source": [
        "print('The number of data points in the dataset:', df.shape[0])"
      ]
    },
    {
      "cell_type": "code",
      "execution_count": null,
      "id": "6b6fe3ea",
      "metadata": {
        "id": "6b6fe3ea",
        "outputId": "dea283c6-b186-4f4a-faf2-520802496ed3"
      },
      "outputs": [
        {
          "data": {
            "text/html": [
              "<div>\n",
              "<style scoped>\n",
              "    .dataframe tbody tr th:only-of-type {\n",
              "        vertical-align: middle;\n",
              "    }\n",
              "\n",
              "    .dataframe tbody tr th {\n",
              "        vertical-align: top;\n",
              "    }\n",
              "\n",
              "    .dataframe thead th {\n",
              "        text-align: right;\n",
              "    }\n",
              "</style>\n",
              "<table border=\"1\" class=\"dataframe\">\n",
              "  <thead>\n",
              "    <tr style=\"text-align: right;\">\n",
              "      <th></th>\n",
              "      <th>LCLid</th>\n",
              "      <th>stdorToU</th>\n",
              "      <th>KWH/hh (per half hour)</th>\n",
              "      <th>Date</th>\n",
              "      <th>Time</th>\n",
              "    </tr>\n",
              "  </thead>\n",
              "  <tbody>\n",
              "    <tr>\n",
              "      <th>0</th>\n",
              "      <td>MAC000002</td>\n",
              "      <td>Std</td>\n",
              "      <td>0</td>\n",
              "      <td>2012-10-12</td>\n",
              "      <td>00:30:00</td>\n",
              "    </tr>\n",
              "    <tr>\n",
              "      <th>1</th>\n",
              "      <td>MAC000002</td>\n",
              "      <td>Std</td>\n",
              "      <td>0</td>\n",
              "      <td>2012-10-12</td>\n",
              "      <td>01:00:00</td>\n",
              "    </tr>\n",
              "    <tr>\n",
              "      <th>2</th>\n",
              "      <td>MAC000002</td>\n",
              "      <td>Std</td>\n",
              "      <td>0</td>\n",
              "      <td>2012-10-12</td>\n",
              "      <td>01:30:00</td>\n",
              "    </tr>\n",
              "    <tr>\n",
              "      <th>3</th>\n",
              "      <td>MAC000002</td>\n",
              "      <td>Std</td>\n",
              "      <td>0</td>\n",
              "      <td>2012-10-12</td>\n",
              "      <td>02:00:00</td>\n",
              "    </tr>\n",
              "    <tr>\n",
              "      <th>4</th>\n",
              "      <td>MAC000002</td>\n",
              "      <td>Std</td>\n",
              "      <td>0</td>\n",
              "      <td>2012-10-12</td>\n",
              "      <td>02:30:00</td>\n",
              "    </tr>\n",
              "  </tbody>\n",
              "</table>\n",
              "</div>"
            ],
            "text/plain": [
              "       LCLid stdorToU KWH/hh (per half hour)         Date      Time\n",
              "0  MAC000002      Std                      0   2012-10-12  00:30:00\n",
              "1  MAC000002      Std                      0   2012-10-12  01:00:00\n",
              "2  MAC000002      Std                      0   2012-10-12  01:30:00\n",
              "3  MAC000002      Std                      0   2012-10-12  02:00:00\n",
              "4  MAC000002      Std                      0   2012-10-12  02:30:00"
            ]
          },
          "execution_count": 10,
          "metadata": {},
          "output_type": "execute_result"
        }
      ],
      "source": [
        "df.head()"
      ]
    },
    {
      "cell_type": "code",
      "execution_count": null,
      "id": "ab5d8698",
      "metadata": {
        "id": "ab5d8698",
        "outputId": "1be24003-5e4d-4c83-ac75-99329424e6c7"
      },
      "outputs": [
        {
          "name": "stdout",
          "output_type": "stream",
          "text": [
            "['LCLid', 'stdorToU', 'KWH/hh (per half hour) ', 'Date', 'Time']\n"
          ]
        }
      ],
      "source": [
        "print(df.columns.tolist())"
      ]
    },
    {
      "cell_type": "code",
      "execution_count": null,
      "id": "7272a200",
      "metadata": {
        "id": "7272a200"
      },
      "outputs": [],
      "source": [
        "df.columns = df.columns.str.strip()"
      ]
    },
    {
      "cell_type": "code",
      "execution_count": null,
      "id": "9db0bf9f",
      "metadata": {
        "id": "9db0bf9f"
      },
      "outputs": [],
      "source": [
        "df[\"KWH/hh (per half hour)\"] = pd.to_numeric(df[\"KWH/hh (per half hour)\"], errors=\"coerce\")"
      ]
    },
    {
      "cell_type": "code",
      "execution_count": null,
      "id": "07a53ad4",
      "metadata": {
        "id": "07a53ad4"
      },
      "outputs": [],
      "source": [
        "dx = df.groupby(\"Date\")[\"KWH/hh (per half hour)\"].sum().reset_index()\n",
        "dx.columns = [\"Date\", \"KWH\"]"
      ]
    },
    {
      "cell_type": "code",
      "execution_count": null,
      "id": "ef199576",
      "metadata": {
        "id": "ef199576",
        "outputId": "a06206db-f42a-4a17-da99-c8be544dd067"
      },
      "outputs": [
        {
          "data": {
            "text/html": [
              "<div>\n",
              "<style scoped>\n",
              "    .dataframe tbody tr th:only-of-type {\n",
              "        vertical-align: middle;\n",
              "    }\n",
              "\n",
              "    .dataframe tbody tr th {\n",
              "        vertical-align: top;\n",
              "    }\n",
              "\n",
              "    .dataframe thead th {\n",
              "        text-align: right;\n",
              "    }\n",
              "</style>\n",
              "<table border=\"1\" class=\"dataframe\">\n",
              "  <thead>\n",
              "    <tr style=\"text-align: right;\">\n",
              "      <th></th>\n",
              "      <th>Date</th>\n",
              "      <th>KWH</th>\n",
              "    </tr>\n",
              "  </thead>\n",
              "  <tbody>\n",
              "    <tr>\n",
              "      <th>0</th>\n",
              "      <td>2011-12-06</td>\n",
              "      <td>2.947000</td>\n",
              "    </tr>\n",
              "    <tr>\n",
              "      <th>1</th>\n",
              "      <td>2011-12-07</td>\n",
              "      <td>143.174000</td>\n",
              "    </tr>\n",
              "    <tr>\n",
              "      <th>2</th>\n",
              "      <td>2011-12-08</td>\n",
              "      <td>365.577000</td>\n",
              "    </tr>\n",
              "    <tr>\n",
              "      <th>3</th>\n",
              "      <td>2011-12-09</td>\n",
              "      <td>502.532000</td>\n",
              "    </tr>\n",
              "    <tr>\n",
              "      <th>4</th>\n",
              "      <td>2011-12-10</td>\n",
              "      <td>637.385000</td>\n",
              "    </tr>\n",
              "    <tr>\n",
              "      <th>5</th>\n",
              "      <td>2011-12-11</td>\n",
              "      <td>670.710001</td>\n",
              "    </tr>\n",
              "    <tr>\n",
              "      <th>6</th>\n",
              "      <td>2011-12-12</td>\n",
              "      <td>614.313000</td>\n",
              "    </tr>\n",
              "    <tr>\n",
              "      <th>7</th>\n",
              "      <td>2011-12-13</td>\n",
              "      <td>570.259000</td>\n",
              "    </tr>\n",
              "    <tr>\n",
              "      <th>8</th>\n",
              "      <td>2011-12-14</td>\n",
              "      <td>627.398000</td>\n",
              "    </tr>\n",
              "    <tr>\n",
              "      <th>9</th>\n",
              "      <td>2011-12-15</td>\n",
              "      <td>643.423001</td>\n",
              "    </tr>\n",
              "    <tr>\n",
              "      <th>10</th>\n",
              "      <td>2011-12-16</td>\n",
              "      <td>643.591999</td>\n",
              "    </tr>\n",
              "    <tr>\n",
              "      <th>11</th>\n",
              "      <td>2011-12-17</td>\n",
              "      <td>611.851000</td>\n",
              "    </tr>\n",
              "    <tr>\n",
              "      <th>12</th>\n",
              "      <td>2011-12-18</td>\n",
              "      <td>654.163000</td>\n",
              "    </tr>\n",
              "    <tr>\n",
              "      <th>13</th>\n",
              "      <td>2011-12-19</td>\n",
              "      <td>667.331000</td>\n",
              "    </tr>\n",
              "    <tr>\n",
              "      <th>14</th>\n",
              "      <td>2011-12-20</td>\n",
              "      <td>660.136999</td>\n",
              "    </tr>\n",
              "    <tr>\n",
              "      <th>15</th>\n",
              "      <td>2011-12-21</td>\n",
              "      <td>646.660000</td>\n",
              "    </tr>\n",
              "    <tr>\n",
              "      <th>16</th>\n",
              "      <td>2011-12-22</td>\n",
              "      <td>554.382999</td>\n",
              "    </tr>\n",
              "    <tr>\n",
              "      <th>17</th>\n",
              "      <td>2011-12-23</td>\n",
              "      <td>587.753001</td>\n",
              "    </tr>\n",
              "    <tr>\n",
              "      <th>18</th>\n",
              "      <td>2011-12-24</td>\n",
              "      <td>573.890000</td>\n",
              "    </tr>\n",
              "    <tr>\n",
              "      <th>19</th>\n",
              "      <td>2011-12-25</td>\n",
              "      <td>566.775999</td>\n",
              "    </tr>\n",
              "  </tbody>\n",
              "</table>\n",
              "</div>"
            ],
            "text/plain": [
              "          Date         KWH\n",
              "0   2011-12-06    2.947000\n",
              "1   2011-12-07  143.174000\n",
              "2   2011-12-08  365.577000\n",
              "3   2011-12-09  502.532000\n",
              "4   2011-12-10  637.385000\n",
              "5   2011-12-11  670.710001\n",
              "6   2011-12-12  614.313000\n",
              "7   2011-12-13  570.259000\n",
              "8   2011-12-14  627.398000\n",
              "9   2011-12-15  643.423001\n",
              "10  2011-12-16  643.591999\n",
              "11  2011-12-17  611.851000\n",
              "12  2011-12-18  654.163000\n",
              "13  2011-12-19  667.331000\n",
              "14  2011-12-20  660.136999\n",
              "15  2011-12-21  646.660000\n",
              "16  2011-12-22  554.382999\n",
              "17  2011-12-23  587.753001\n",
              "18  2011-12-24  573.890000\n",
              "19  2011-12-25  566.775999"
            ]
          },
          "execution_count": 15,
          "metadata": {},
          "output_type": "execute_result"
        }
      ],
      "source": [
        "dx.head(20)"
      ]
    },
    {
      "cell_type": "code",
      "execution_count": null,
      "id": "6d26f0f5",
      "metadata": {
        "id": "6d26f0f5"
      },
      "outputs": [],
      "source": [
        "dx['Date'] = pd.to_datetime(dx['Date'], errors='coerce')"
      ]
    },
    {
      "cell_type": "code",
      "execution_count": null,
      "id": "f4c3ce1f",
      "metadata": {
        "id": "f4c3ce1f"
      },
      "outputs": [],
      "source": [
        "dx['year'] = dx['Date'].dt.year\n",
        "dx['quarter'] = dx['Date'].dt.quarter\n",
        "dx['month'] = dx['Date'].dt.month\n",
        "dx['day'] = dx['Date'].dt.day"
      ]
    },
    {
      "cell_type": "code",
      "execution_count": null,
      "id": "a95711ae",
      "metadata": {
        "id": "a95711ae",
        "outputId": "c0069669-8c5c-466a-fc1c-a0a6f2f0a8fc"
      },
      "outputs": [
        {
          "data": {
            "text/html": [
              "<div>\n",
              "<style scoped>\n",
              "    .dataframe tbody tr th:only-of-type {\n",
              "        vertical-align: middle;\n",
              "    }\n",
              "\n",
              "    .dataframe tbody tr th {\n",
              "        vertical-align: top;\n",
              "    }\n",
              "\n",
              "    .dataframe thead th {\n",
              "        text-align: right;\n",
              "    }\n",
              "</style>\n",
              "<table border=\"1\" class=\"dataframe\">\n",
              "  <thead>\n",
              "    <tr style=\"text-align: right;\">\n",
              "      <th></th>\n",
              "      <th>Date</th>\n",
              "      <th>KWH</th>\n",
              "      <th>year</th>\n",
              "      <th>quarter</th>\n",
              "      <th>month</th>\n",
              "      <th>day</th>\n",
              "    </tr>\n",
              "  </thead>\n",
              "  <tbody>\n",
              "    <tr>\n",
              "      <th>0</th>\n",
              "      <td>2011-12-06</td>\n",
              "      <td>2.947</td>\n",
              "      <td>2011</td>\n",
              "      <td>4</td>\n",
              "      <td>12</td>\n",
              "      <td>6</td>\n",
              "    </tr>\n",
              "    <tr>\n",
              "      <th>1</th>\n",
              "      <td>2011-12-07</td>\n",
              "      <td>143.174</td>\n",
              "      <td>2011</td>\n",
              "      <td>4</td>\n",
              "      <td>12</td>\n",
              "      <td>7</td>\n",
              "    </tr>\n",
              "    <tr>\n",
              "      <th>2</th>\n",
              "      <td>2011-12-08</td>\n",
              "      <td>365.577</td>\n",
              "      <td>2011</td>\n",
              "      <td>4</td>\n",
              "      <td>12</td>\n",
              "      <td>8</td>\n",
              "    </tr>\n",
              "    <tr>\n",
              "      <th>3</th>\n",
              "      <td>2011-12-09</td>\n",
              "      <td>502.532</td>\n",
              "      <td>2011</td>\n",
              "      <td>4</td>\n",
              "      <td>12</td>\n",
              "      <td>9</td>\n",
              "    </tr>\n",
              "    <tr>\n",
              "      <th>4</th>\n",
              "      <td>2011-12-10</td>\n",
              "      <td>637.385</td>\n",
              "      <td>2011</td>\n",
              "      <td>4</td>\n",
              "      <td>12</td>\n",
              "      <td>10</td>\n",
              "    </tr>\n",
              "  </tbody>\n",
              "</table>\n",
              "</div>"
            ],
            "text/plain": [
              "        Date      KWH  year  quarter  month  day\n",
              "0 2011-12-06    2.947  2011        4     12    6\n",
              "1 2011-12-07  143.174  2011        4     12    7\n",
              "2 2011-12-08  365.577  2011        4     12    8\n",
              "3 2011-12-09  502.532  2011        4     12    9\n",
              "4 2011-12-10  637.385  2011        4     12   10"
            ]
          },
          "execution_count": 18,
          "metadata": {},
          "output_type": "execute_result"
        }
      ],
      "source": [
        "dx.head()"
      ]
    },
    {
      "cell_type": "code",
      "execution_count": null,
      "id": "9e9f8d9a",
      "metadata": {
        "id": "9e9f8d9a"
      },
      "outputs": [],
      "source": [
        "import calendar\n",
        "dx['month'] = dx['month'].apply(lambda x: calendar.month_name[x])"
      ]
    },
    {
      "cell_type": "code",
      "execution_count": null,
      "id": "c8708056",
      "metadata": {
        "id": "c8708056",
        "outputId": "db61c8d5-6efa-46f3-cd01-17c6fa6cd8a7"
      },
      "outputs": [
        {
          "data": {
            "text/html": [
              "<div>\n",
              "<style scoped>\n",
              "    .dataframe tbody tr th:only-of-type {\n",
              "        vertical-align: middle;\n",
              "    }\n",
              "\n",
              "    .dataframe tbody tr th {\n",
              "        vertical-align: top;\n",
              "    }\n",
              "\n",
              "    .dataframe thead th {\n",
              "        text-align: right;\n",
              "    }\n",
              "</style>\n",
              "<table border=\"1\" class=\"dataframe\">\n",
              "  <thead>\n",
              "    <tr style=\"text-align: right;\">\n",
              "      <th></th>\n",
              "      <th>Date</th>\n",
              "      <th>KWH</th>\n",
              "      <th>year</th>\n",
              "      <th>quarter</th>\n",
              "      <th>month</th>\n",
              "      <th>day</th>\n",
              "    </tr>\n",
              "  </thead>\n",
              "  <tbody>\n",
              "    <tr>\n",
              "      <th>0</th>\n",
              "      <td>2011-12-06</td>\n",
              "      <td>2.947</td>\n",
              "      <td>2011</td>\n",
              "      <td>4</td>\n",
              "      <td>December</td>\n",
              "      <td>6</td>\n",
              "    </tr>\n",
              "    <tr>\n",
              "      <th>1</th>\n",
              "      <td>2011-12-07</td>\n",
              "      <td>143.174</td>\n",
              "      <td>2011</td>\n",
              "      <td>4</td>\n",
              "      <td>December</td>\n",
              "      <td>7</td>\n",
              "    </tr>\n",
              "    <tr>\n",
              "      <th>2</th>\n",
              "      <td>2011-12-08</td>\n",
              "      <td>365.577</td>\n",
              "      <td>2011</td>\n",
              "      <td>4</td>\n",
              "      <td>December</td>\n",
              "      <td>8</td>\n",
              "    </tr>\n",
              "    <tr>\n",
              "      <th>3</th>\n",
              "      <td>2011-12-09</td>\n",
              "      <td>502.532</td>\n",
              "      <td>2011</td>\n",
              "      <td>4</td>\n",
              "      <td>December</td>\n",
              "      <td>9</td>\n",
              "    </tr>\n",
              "    <tr>\n",
              "      <th>4</th>\n",
              "      <td>2011-12-10</td>\n",
              "      <td>637.385</td>\n",
              "      <td>2011</td>\n",
              "      <td>4</td>\n",
              "      <td>December</td>\n",
              "      <td>10</td>\n",
              "    </tr>\n",
              "  </tbody>\n",
              "</table>\n",
              "</div>"
            ],
            "text/plain": [
              "        Date      KWH  year  quarter     month  day\n",
              "0 2011-12-06    2.947  2011        4  December    6\n",
              "1 2011-12-07  143.174  2011        4  December    7\n",
              "2 2011-12-08  365.577  2011        4  December    8\n",
              "3 2011-12-09  502.532  2011        4  December    9\n",
              "4 2011-12-10  637.385  2011        4  December   10"
            ]
          },
          "execution_count": 20,
          "metadata": {},
          "output_type": "execute_result"
        }
      ],
      "source": [
        "dx.head()"
      ]
    },
    {
      "cell_type": "code",
      "execution_count": null,
      "id": "b11d7e25",
      "metadata": {
        "id": "b11d7e25",
        "outputId": "d9ed5a33-e4c2-4885-9c04-442b152fba2e"
      },
      "outputs": [
        {
          "data": {
            "text/html": [
              "<div>\n",
              "<style scoped>\n",
              "    .dataframe tbody tr th:only-of-type {\n",
              "        vertical-align: middle;\n",
              "    }\n",
              "\n",
              "    .dataframe tbody tr th {\n",
              "        vertical-align: top;\n",
              "    }\n",
              "\n",
              "    .dataframe thead th {\n",
              "        text-align: right;\n",
              "    }\n",
              "</style>\n",
              "<table border=\"1\" class=\"dataframe\">\n",
              "  <thead>\n",
              "    <tr style=\"text-align: right;\">\n",
              "      <th></th>\n",
              "      <th>Date</th>\n",
              "      <th>KWH</th>\n",
              "      <th>year</th>\n",
              "      <th>quarter</th>\n",
              "      <th>month</th>\n",
              "      <th>day</th>\n",
              "    </tr>\n",
              "  </thead>\n",
              "  <tbody>\n",
              "    <tr>\n",
              "      <th>811</th>\n",
              "      <td>2014-02-24</td>\n",
              "      <td>620.515001</td>\n",
              "      <td>2014</td>\n",
              "      <td>1</td>\n",
              "      <td>February</td>\n",
              "      <td>24</td>\n",
              "    </tr>\n",
              "    <tr>\n",
              "      <th>812</th>\n",
              "      <td>2014-02-25</td>\n",
              "      <td>575.761001</td>\n",
              "      <td>2014</td>\n",
              "      <td>1</td>\n",
              "      <td>February</td>\n",
              "      <td>25</td>\n",
              "    </tr>\n",
              "    <tr>\n",
              "      <th>813</th>\n",
              "      <td>2014-02-26</td>\n",
              "      <td>602.744000</td>\n",
              "      <td>2014</td>\n",
              "      <td>1</td>\n",
              "      <td>February</td>\n",
              "      <td>26</td>\n",
              "    </tr>\n",
              "    <tr>\n",
              "      <th>814</th>\n",
              "      <td>2014-02-27</td>\n",
              "      <td>605.165001</td>\n",
              "      <td>2014</td>\n",
              "      <td>1</td>\n",
              "      <td>February</td>\n",
              "      <td>27</td>\n",
              "    </tr>\n",
              "    <tr>\n",
              "      <th>815</th>\n",
              "      <td>2014-02-28</td>\n",
              "      <td>41.394000</td>\n",
              "      <td>2014</td>\n",
              "      <td>1</td>\n",
              "      <td>February</td>\n",
              "      <td>28</td>\n",
              "    </tr>\n",
              "  </tbody>\n",
              "</table>\n",
              "</div>"
            ],
            "text/plain": [
              "          Date         KWH  year  quarter     month  day\n",
              "811 2014-02-24  620.515001  2014        1  February   24\n",
              "812 2014-02-25  575.761001  2014        1  February   25\n",
              "813 2014-02-26  602.744000  2014        1  February   26\n",
              "814 2014-02-27  605.165001  2014        1  February   27\n",
              "815 2014-02-28   41.394000  2014        1  February   28"
            ]
          },
          "execution_count": 21,
          "metadata": {},
          "output_type": "execute_result"
        }
      ],
      "source": [
        "dx.tail()"
      ]
    },
    {
      "cell_type": "code",
      "execution_count": null,
      "id": "c181b549",
      "metadata": {
        "id": "c181b549",
        "outputId": "b7b7111a-31dd-404b-c8ce-d5149683198f"
      },
      "outputs": [
        {
          "data": {
            "text/plain": [
              "count    816.000000\n",
              "mean     586.107567\n",
              "std      125.938950\n",
              "min        2.947000\n",
              "25%      482.893750\n",
              "50%      564.665500\n",
              "75%      668.310750\n",
              "max      942.200000\n",
              "Name: KWH, dtype: float64"
            ]
          },
          "execution_count": 22,
          "metadata": {},
          "output_type": "execute_result"
        }
      ],
      "source": [
        "dx.KWH.describe()"
      ]
    },
    {
      "cell_type": "markdown",
      "id": "89172ad8",
      "metadata": {
        "id": "89172ad8"
      },
      "source": [
        "# Feature Engineering"
      ]
    },
    {
      "cell_type": "markdown",
      "id": "4879ab4b",
      "metadata": {
        "id": "4879ab4b"
      },
      "source": [
        "##### Based on data from countryeconomy.com, the average household electricity prices in the United Kingdom, including taxes, were as follows:"
      ]
    },
    {
      "cell_type": "code",
      "execution_count": null,
      "id": "c76764dc",
      "metadata": {
        "id": "c76764dc",
        "outputId": "d9902e5d-45c9-4b9a-949d-4fec66566c15"
      },
      "outputs": [
        {
          "name": "stdout",
          "output_type": "stream",
          "text": [
            "+------+-----------------------------+\n",
            "| Year | Average Price (GBP per kWh) |\n",
            "+------+-----------------------------+\n",
            "| 2011 |            0.1446           |\n",
            "| 2012 |            0.1532           |\n",
            "| 2013 |            0.1596           |\n",
            "| 2014 |            0.1653           |\n",
            "+------+-----------------------------+\n"
          ]
        }
      ],
      "source": [
        "table = PrettyTable()\n",
        "table.field_names = [\"Year\", \"Average Price (GBP per kWh)\"]\n",
        "data = [[2011, 0.1446], [2012, 0.1532], [2013, 0.1596], [2014, 0.1653]]\n",
        "\n",
        "for year, price in data:\n",
        "    table.add_row([year, price])\n",
        "print(table)"
      ]
    },
    {
      "cell_type": "markdown",
      "id": "f476b509",
      "metadata": {
        "id": "f476b509"
      },
      "source": [
        "Source: https://countryeconomy.com/energy-and-environment/electricity-price-household/uk"
      ]
    },
    {
      "cell_type": "markdown",
      "id": "2172f780",
      "metadata": {
        "id": "2172f780"
      },
      "source": [
        "P.S.: These figures are national averages of UK between 2011 and 2014 and the prices indicate a consistent increase in electricity prices during this period."
      ]
    },
    {
      "cell_type": "code",
      "execution_count": null,
      "id": "7f860e87",
      "metadata": {
        "id": "7f860e87"
      },
      "outputs": [],
      "source": [
        "average_prices = {2011: 0.1446,  2012: 0.1532, 2013: 0.1596, 2014: 0.1653}\n",
        "\n",
        "dx['Price (GBP per kWh)'] = dx['year'].map(average_prices)\n",
        "dx['Total Cost (GBP)'] = dx['KWH'].round(1) * dx['Price (GBP per kWh)'].round(2)"
      ]
    },
    {
      "cell_type": "code",
      "execution_count": null,
      "id": "9325168c",
      "metadata": {
        "id": "9325168c",
        "outputId": "41bc88fb-b5b2-44f6-edd1-30d166a07a8b"
      },
      "outputs": [
        {
          "data": {
            "text/html": [
              "<div>\n",
              "<style scoped>\n",
              "    .dataframe tbody tr th:only-of-type {\n",
              "        vertical-align: middle;\n",
              "    }\n",
              "\n",
              "    .dataframe tbody tr th {\n",
              "        vertical-align: top;\n",
              "    }\n",
              "\n",
              "    .dataframe thead th {\n",
              "        text-align: right;\n",
              "    }\n",
              "</style>\n",
              "<table border=\"1\" class=\"dataframe\">\n",
              "  <thead>\n",
              "    <tr style=\"text-align: right;\">\n",
              "      <th></th>\n",
              "      <th>Date</th>\n",
              "      <th>KWH</th>\n",
              "      <th>year</th>\n",
              "      <th>quarter</th>\n",
              "      <th>month</th>\n",
              "      <th>day</th>\n",
              "      <th>Price (GBP per kWh)</th>\n",
              "      <th>Total Cost (GBP)</th>\n",
              "    </tr>\n",
              "  </thead>\n",
              "  <tbody>\n",
              "    <tr>\n",
              "      <th>670</th>\n",
              "      <td>2013-10-06</td>\n",
              "      <td>518.468000</td>\n",
              "      <td>2013</td>\n",
              "      <td>4</td>\n",
              "      <td>October</td>\n",
              "      <td>6</td>\n",
              "      <td>0.1596</td>\n",
              "      <td>82.960</td>\n",
              "    </tr>\n",
              "    <tr>\n",
              "      <th>347</th>\n",
              "      <td>2012-11-17</td>\n",
              "      <td>690.030999</td>\n",
              "      <td>2012</td>\n",
              "      <td>4</td>\n",
              "      <td>November</td>\n",
              "      <td>17</td>\n",
              "      <td>0.1532</td>\n",
              "      <td>103.500</td>\n",
              "    </tr>\n",
              "    <tr>\n",
              "      <th>281</th>\n",
              "      <td>2012-09-12</td>\n",
              "      <td>483.298000</td>\n",
              "      <td>2012</td>\n",
              "      <td>3</td>\n",
              "      <td>September</td>\n",
              "      <td>12</td>\n",
              "      <td>0.1532</td>\n",
              "      <td>72.495</td>\n",
              "    </tr>\n",
              "    <tr>\n",
              "      <th>21</th>\n",
              "      <td>2011-12-27</td>\n",
              "      <td>559.425000</td>\n",
              "      <td>2011</td>\n",
              "      <td>4</td>\n",
              "      <td>December</td>\n",
              "      <td>27</td>\n",
              "      <td>0.1446</td>\n",
              "      <td>78.316</td>\n",
              "    </tr>\n",
              "    <tr>\n",
              "      <th>90</th>\n",
              "      <td>2012-03-05</td>\n",
              "      <td>608.619999</td>\n",
              "      <td>2012</td>\n",
              "      <td>1</td>\n",
              "      <td>March</td>\n",
              "      <td>5</td>\n",
              "      <td>0.1532</td>\n",
              "      <td>91.290</td>\n",
              "    </tr>\n",
              "    <tr>\n",
              "      <th>774</th>\n",
              "      <td>2014-01-18</td>\n",
              "      <td>611.571000</td>\n",
              "      <td>2014</td>\n",
              "      <td>1</td>\n",
              "      <td>January</td>\n",
              "      <td>18</td>\n",
              "      <td>0.1653</td>\n",
              "      <td>103.972</td>\n",
              "    </tr>\n",
              "    <tr>\n",
              "      <th>718</th>\n",
              "      <td>2013-11-23</td>\n",
              "      <td>631.385999</td>\n",
              "      <td>2013</td>\n",
              "      <td>4</td>\n",
              "      <td>November</td>\n",
              "      <td>23</td>\n",
              "      <td>0.1596</td>\n",
              "      <td>101.024</td>\n",
              "    </tr>\n",
              "    <tr>\n",
              "      <th>775</th>\n",
              "      <td>2014-01-19</td>\n",
              "      <td>609.824001</td>\n",
              "      <td>2014</td>\n",
              "      <td>1</td>\n",
              "      <td>January</td>\n",
              "      <td>19</td>\n",
              "      <td>0.1653</td>\n",
              "      <td>103.666</td>\n",
              "    </tr>\n",
              "    <tr>\n",
              "      <th>84</th>\n",
              "      <td>2012-02-28</td>\n",
              "      <td>560.495000</td>\n",
              "      <td>2012</td>\n",
              "      <td>1</td>\n",
              "      <td>February</td>\n",
              "      <td>28</td>\n",
              "      <td>0.1532</td>\n",
              "      <td>84.075</td>\n",
              "    </tr>\n",
              "    <tr>\n",
              "      <th>483</th>\n",
              "      <td>2013-04-02</td>\n",
              "      <td>785.244999</td>\n",
              "      <td>2013</td>\n",
              "      <td>2</td>\n",
              "      <td>April</td>\n",
              "      <td>2</td>\n",
              "      <td>0.1596</td>\n",
              "      <td>125.632</td>\n",
              "    </tr>\n",
              "    <tr>\n",
              "      <th>516</th>\n",
              "      <td>2013-05-05</td>\n",
              "      <td>513.114000</td>\n",
              "      <td>2013</td>\n",
              "      <td>2</td>\n",
              "      <td>May</td>\n",
              "      <td>5</td>\n",
              "      <td>0.1596</td>\n",
              "      <td>82.096</td>\n",
              "    </tr>\n",
              "    <tr>\n",
              "      <th>89</th>\n",
              "      <td>2012-03-04</td>\n",
              "      <td>629.245000</td>\n",
              "      <td>2012</td>\n",
              "      <td>1</td>\n",
              "      <td>March</td>\n",
              "      <td>4</td>\n",
              "      <td>0.1532</td>\n",
              "      <td>94.380</td>\n",
              "    </tr>\n",
              "    <tr>\n",
              "      <th>229</th>\n",
              "      <td>2012-07-22</td>\n",
              "      <td>433.450000</td>\n",
              "      <td>2012</td>\n",
              "      <td>3</td>\n",
              "      <td>July</td>\n",
              "      <td>22</td>\n",
              "      <td>0.1532</td>\n",
              "      <td>65.025</td>\n",
              "    </tr>\n",
              "    <tr>\n",
              "      <th>375</th>\n",
              "      <td>2012-12-15</td>\n",
              "      <td>749.389999</td>\n",
              "      <td>2012</td>\n",
              "      <td>4</td>\n",
              "      <td>December</td>\n",
              "      <td>15</td>\n",
              "      <td>0.1532</td>\n",
              "      <td>112.410</td>\n",
              "    </tr>\n",
              "    <tr>\n",
              "      <th>11</th>\n",
              "      <td>2011-12-17</td>\n",
              "      <td>611.851000</td>\n",
              "      <td>2011</td>\n",
              "      <td>4</td>\n",
              "      <td>December</td>\n",
              "      <td>17</td>\n",
              "      <td>0.1446</td>\n",
              "      <td>85.666</td>\n",
              "    </tr>\n",
              "    <tr>\n",
              "      <th>594</th>\n",
              "      <td>2013-07-22</td>\n",
              "      <td>468.213000</td>\n",
              "      <td>2013</td>\n",
              "      <td>3</td>\n",
              "      <td>July</td>\n",
              "      <td>22</td>\n",
              "      <td>0.1596</td>\n",
              "      <td>74.912</td>\n",
              "    </tr>\n",
              "    <tr>\n",
              "      <th>151</th>\n",
              "      <td>2012-05-05</td>\n",
              "      <td>517.751000</td>\n",
              "      <td>2012</td>\n",
              "      <td>2</td>\n",
              "      <td>May</td>\n",
              "      <td>5</td>\n",
              "      <td>0.1532</td>\n",
              "      <td>77.670</td>\n",
              "    </tr>\n",
              "    <tr>\n",
              "      <th>223</th>\n",
              "      <td>2012-07-16</td>\n",
              "      <td>464.717000</td>\n",
              "      <td>2012</td>\n",
              "      <td>3</td>\n",
              "      <td>July</td>\n",
              "      <td>16</td>\n",
              "      <td>0.1532</td>\n",
              "      <td>69.705</td>\n",
              "    </tr>\n",
              "    <tr>\n",
              "      <th>506</th>\n",
              "      <td>2013-04-25</td>\n",
              "      <td>518.166000</td>\n",
              "      <td>2013</td>\n",
              "      <td>2</td>\n",
              "      <td>April</td>\n",
              "      <td>25</td>\n",
              "      <td>0.1596</td>\n",
              "      <td>82.912</td>\n",
              "    </tr>\n",
              "    <tr>\n",
              "      <th>237</th>\n",
              "      <td>2012-07-30</td>\n",
              "      <td>439.835000</td>\n",
              "      <td>2012</td>\n",
              "      <td>3</td>\n",
              "      <td>July</td>\n",
              "      <td>30</td>\n",
              "      <td>0.1532</td>\n",
              "      <td>65.970</td>\n",
              "    </tr>\n",
              "  </tbody>\n",
              "</table>\n",
              "</div>"
            ],
            "text/plain": [
              "          Date         KWH  year  quarter      month  day  \\\n",
              "670 2013-10-06  518.468000  2013        4    October    6   \n",
              "347 2012-11-17  690.030999  2012        4   November   17   \n",
              "281 2012-09-12  483.298000  2012        3  September   12   \n",
              "21  2011-12-27  559.425000  2011        4   December   27   \n",
              "90  2012-03-05  608.619999  2012        1      March    5   \n",
              "774 2014-01-18  611.571000  2014        1    January   18   \n",
              "718 2013-11-23  631.385999  2013        4   November   23   \n",
              "775 2014-01-19  609.824001  2014        1    January   19   \n",
              "84  2012-02-28  560.495000  2012        1   February   28   \n",
              "483 2013-04-02  785.244999  2013        2      April    2   \n",
              "516 2013-05-05  513.114000  2013        2        May    5   \n",
              "89  2012-03-04  629.245000  2012        1      March    4   \n",
              "229 2012-07-22  433.450000  2012        3       July   22   \n",
              "375 2012-12-15  749.389999  2012        4   December   15   \n",
              "11  2011-12-17  611.851000  2011        4   December   17   \n",
              "594 2013-07-22  468.213000  2013        3       July   22   \n",
              "151 2012-05-05  517.751000  2012        2        May    5   \n",
              "223 2012-07-16  464.717000  2012        3       July   16   \n",
              "506 2013-04-25  518.166000  2013        2      April   25   \n",
              "237 2012-07-30  439.835000  2012        3       July   30   \n",
              "\n",
              "     Price (GBP per kWh)  Total Cost (GBP)  \n",
              "670               0.1596            82.960  \n",
              "347               0.1532           103.500  \n",
              "281               0.1532            72.495  \n",
              "21                0.1446            78.316  \n",
              "90                0.1532            91.290  \n",
              "774               0.1653           103.972  \n",
              "718               0.1596           101.024  \n",
              "775               0.1653           103.666  \n",
              "84                0.1532            84.075  \n",
              "483               0.1596           125.632  \n",
              "516               0.1596            82.096  \n",
              "89                0.1532            94.380  \n",
              "229               0.1532            65.025  \n",
              "375               0.1532           112.410  \n",
              "11                0.1446            85.666  \n",
              "594               0.1596            74.912  \n",
              "151               0.1532            77.670  \n",
              "223               0.1532            69.705  \n",
              "506               0.1596            82.912  \n",
              "237               0.1532            65.970  "
            ]
          },
          "execution_count": 25,
          "metadata": {},
          "output_type": "execute_result"
        }
      ],
      "source": [
        "dx.sample(20)"
      ]
    },
    {
      "cell_type": "code",
      "execution_count": null,
      "id": "908352dc",
      "metadata": {
        "id": "908352dc",
        "outputId": "5c279cdf-ef82-46d2-e8e2-c0720118a3df"
      },
      "outputs": [
        {
          "data": {
            "text/plain": [
              "count    816.000000\n",
              "mean      91.331045\n",
              "std       20.604329\n",
              "min        0.406000\n",
              "25%       74.848000\n",
              "50%       86.670000\n",
              "75%      106.892500\n",
              "max      150.752000\n",
              "Name: Total Cost (GBP), dtype: float64"
            ]
          },
          "execution_count": 26,
          "metadata": {},
          "output_type": "execute_result"
        }
      ],
      "source": [
        "dx['Total Cost (GBP)'].describe()"
      ]
    },
    {
      "cell_type": "code",
      "execution_count": null,
      "id": "98957603",
      "metadata": {
        "id": "98957603",
        "outputId": "44c8ac59-f027-42ec-a585-a587700938b7"
      },
      "outputs": [
        {
          "data": {
            "image/png": "[encoded data removed]",
            "text/plain": [
              "<Figure size 720x432 with 1 Axes>"
            ]
          },
          "metadata": {
            "needs_background": "light"
          },
          "output_type": "display_data"
        }
      ],
      "source": [
        "plt.figure(figsize=(10, 6))\n",
        "sns.boxplot(x='year', y='Total Cost (GBP)', data=dx, palette='Set2')\n",
        "plt.title(\"Total Cost (GBP) Distribution by Year\", fontsize=14)\n",
        "plt.xlabel(\"Year\", fontsize=12)\n",
        "plt.ylabel(\"Total Cost (GBP)\", fontsize=12)\n",
        "plt.tight_layout()\n",
        "plt.show()"
      ]
    },
    {
      "cell_type": "markdown",
      "id": "8fd1c9b7",
      "metadata": {
        "id": "8fd1c9b7"
      },
      "source": [
        "# Data Analysis"
      ]
    },
    {
      "cell_type": "code",
      "execution_count": null,
      "id": "9f4742fe",
      "metadata": {
        "id": "9f4742fe",
        "outputId": "69f6af13-617a-4672-f4e3-0ef2b0639728"
      },
      "outputs": [
        {
          "data": {
            "image/png": "[encoded data removed]",
            "text/plain": [
              "<Figure size 720x432 with 1 Axes>"
            ]
          },
          "metadata": {
            "needs_background": "light"
          },
          "output_type": "display_data"
        }
      ],
      "source": [
        "plt.figure(figsize=(10, 6))\n",
        "sns.boxplot(x='year', y='KWH', data=dx, palette='Set2')\n",
        "plt.title(\"KWH Consumption Distribution by Year\", fontsize=14)\n",
        "plt.xlabel(\"Year\", fontsize=12)\n",
        "plt.ylabel(\"KWH Consumption\", fontsize=12)\n",
        "plt.tight_layout()\n",
        "plt.show()"
      ]
    },
    {
      "cell_type": "code",
      "execution_count": null,
      "id": "8a5884b0",
      "metadata": {
        "id": "8a5884b0"
      },
      "outputs": [],
      "source": [
        "Q1 = dx['KWH'].quantile(0.25)\n",
        "Q3 = dx['KWH'].quantile(0.75)\n",
        "IQR = Q3 - Q1\n",
        "lower_bound = Q1 - 1.5 * IQR\n",
        "upper_bound = Q3 + 1.5 * IQR\n",
        "dx = dx[(dx['KWH'] >= lower_bound) & (dx['KWH'] <= upper_bound)]"
      ]
    },
    {
      "cell_type": "code",
      "execution_count": null,
      "id": "6f8e723f",
      "metadata": {
        "id": "6f8e723f",
        "outputId": "2eb69f60-1839-4d43-f0ba-15382cc6cf9a"
      },
      "outputs": [
        {
          "data": {
            "image/png": "[encoded data removed]",
            "text/plain": [
              "<Figure size 720x432 with 1 Axes>"
            ]
          },
          "metadata": {
            "needs_background": "light"
          },
          "output_type": "display_data"
        }
      ],
      "source": [
        "plt.figure(figsize=(10, 6))\n",
        "sns.boxplot(x='year', y='KWH', data=dx, palette='Set2')\n",
        "plt.title(\"KWH Consumption Distribution by Year\", fontsize=14)\n",
        "plt.xlabel(\"Year\", fontsize=12)\n",
        "plt.ylabel(\"KWH Consumption\", fontsize=12)\n",
        "plt.tight_layout()\n",
        "plt.show()"
      ]
    },
    {
      "cell_type": "code",
      "execution_count": null,
      "id": "c7d35169",
      "metadata": {
        "id": "c7d35169",
        "outputId": "34722088-b4a7-4b54-8ae2-fcb2ce1672ee"
      },
      "outputs": [
        {
          "data": {
            "text/html": [
              "<div>\n",
              "<style scoped>\n",
              "    .dataframe tbody tr th:only-of-type {\n",
              "        vertical-align: middle;\n",
              "    }\n",
              "\n",
              "    .dataframe tbody tr th {\n",
              "        vertical-align: top;\n",
              "    }\n",
              "\n",
              "    .dataframe thead th {\n",
              "        text-align: right;\n",
              "    }\n",
              "</style>\n",
              "<table border=\"1\" class=\"dataframe\">\n",
              "  <thead>\n",
              "    <tr style=\"text-align: right;\">\n",
              "      <th></th>\n",
              "      <th>Date</th>\n",
              "      <th>KWH</th>\n",
              "      <th>year</th>\n",
              "      <th>quarter</th>\n",
              "      <th>month</th>\n",
              "      <th>day</th>\n",
              "      <th>Price (GBP per kWh)</th>\n",
              "      <th>Total Cost (GBP)</th>\n",
              "    </tr>\n",
              "  </thead>\n",
              "  <tbody>\n",
              "    <tr>\n",
              "      <th>2</th>\n",
              "      <td>2011-12-08</td>\n",
              "      <td>365.577000</td>\n",
              "      <td>2011</td>\n",
              "      <td>4</td>\n",
              "      <td>December</td>\n",
              "      <td>8</td>\n",
              "      <td>0.1446</td>\n",
              "      <td>51.184</td>\n",
              "    </tr>\n",
              "    <tr>\n",
              "      <th>3</th>\n",
              "      <td>2011-12-09</td>\n",
              "      <td>502.532000</td>\n",
              "      <td>2011</td>\n",
              "      <td>4</td>\n",
              "      <td>December</td>\n",
              "      <td>9</td>\n",
              "      <td>0.1446</td>\n",
              "      <td>70.350</td>\n",
              "    </tr>\n",
              "    <tr>\n",
              "      <th>4</th>\n",
              "      <td>2011-12-10</td>\n",
              "      <td>637.385000</td>\n",
              "      <td>2011</td>\n",
              "      <td>4</td>\n",
              "      <td>December</td>\n",
              "      <td>10</td>\n",
              "      <td>0.1446</td>\n",
              "      <td>89.236</td>\n",
              "    </tr>\n",
              "    <tr>\n",
              "      <th>5</th>\n",
              "      <td>2011-12-11</td>\n",
              "      <td>670.710001</td>\n",
              "      <td>2011</td>\n",
              "      <td>4</td>\n",
              "      <td>December</td>\n",
              "      <td>11</td>\n",
              "      <td>0.1446</td>\n",
              "      <td>93.898</td>\n",
              "    </tr>\n",
              "    <tr>\n",
              "      <th>6</th>\n",
              "      <td>2011-12-12</td>\n",
              "      <td>614.313000</td>\n",
              "      <td>2011</td>\n",
              "      <td>4</td>\n",
              "      <td>December</td>\n",
              "      <td>12</td>\n",
              "      <td>0.1446</td>\n",
              "      <td>86.002</td>\n",
              "    </tr>\n",
              "  </tbody>\n",
              "</table>\n",
              "</div>"
            ],
            "text/plain": [
              "        Date         KWH  year  quarter     month  day  Price (GBP per kWh)  \\\n",
              "2 2011-12-08  365.577000  2011        4  December    8               0.1446   \n",
              "3 2011-12-09  502.532000  2011        4  December    9               0.1446   \n",
              "4 2011-12-10  637.385000  2011        4  December   10               0.1446   \n",
              "5 2011-12-11  670.710001  2011        4  December   11               0.1446   \n",
              "6 2011-12-12  614.313000  2011        4  December   12               0.1446   \n",
              "\n",
              "   Total Cost (GBP)  \n",
              "2            51.184  \n",
              "3            70.350  \n",
              "4            89.236  \n",
              "5            93.898  \n",
              "6            86.002  "
            ]
          },
          "execution_count": 31,
          "metadata": {},
          "output_type": "execute_result"
        }
      ],
      "source": [
        "dx.head()"
      ]
    },
    {
      "cell_type": "code",
      "execution_count": null,
      "id": "97b1615a",
      "metadata": {
        "id": "97b1615a",
        "outputId": "67ad768a-cb11-40ac-e489-986189a241c0"
      },
      "outputs": [
        {
          "data": {
            "image/png": "[encoded data removed]",
            "text/plain": [
              "<Figure size 720x432 with 1 Axes>"
            ]
          },
          "metadata": {
            "needs_background": "light"
          },
          "output_type": "display_data"
        }
      ],
      "source": [
        "yearly_avg = dx.groupby('year')['KWH'].mean()\n",
        "plt.figure(figsize=(10, 6))\n",
        "yearly_avg.plot(kind='bar', color='c', edgecolor='black')\n",
        "overall_avg = dx['KWH'].mean()\n",
        "plt.axhline(y=overall_avg, color='black', linestyle='--', label=f\"Avg Consumption: {overall_avg:.2f} KWH\")\n",
        "plt.text(len(yearly_avg) - 1, overall_avg + 0.05, f\"Avg: {overall_avg:.2f}\", color='black', fontsize=12, ha='center')\n",
        "plt.title(\"Average Consumption by Year\", fontsize=14)\n",
        "plt.xlabel(\"Year\", fontsize=12)\n",
        "plt.ylabel(\"Average KWH\", fontsize=12)\n",
        "plt.grid(visible=True, linestyle='--', alpha=0.7)\n",
        "plt.legend()\n",
        "plt.tight_layout()\n",
        "plt.show()"
      ]
    },
    {
      "cell_type": "code",
      "execution_count": null,
      "id": "9b8de182",
      "metadata": {
        "id": "9b8de182",
        "outputId": "247c21f0-7b63-4724-a86c-4cad0abe9c9d"
      },
      "outputs": [
        {
          "data": {
            "image/png": "[encoded data removed]",
            "text/plain": [
              "<Figure size 720x432 with 1 Axes>"
            ]
          },
          "metadata": {
            "needs_background": "light"
          },
          "output_type": "display_data"
        }
      ],
      "source": [
        "month_order = list(calendar.month_name)[1:]\n",
        "dx['month'] = pd.Categorical(dx['month'], categories=month_order, ordered=True)\n",
        "\n",
        "overall_avg = dx[\"KWH\"].mean()\n",
        "monthly_avg = dx.groupby('month')['KWH'].mean()\n",
        "plt.figure(figsize=(10, 6))\n",
        "monthly_avg.plot(kind='line', marker='o', color='b', label='Monthly Average')\n",
        "plt.axhline(y=overall_avg, color='black', linestyle='--', label=f\"Avg Consumption: {overall_avg:.2f} KWH\")\n",
        "plt.title(\"Average Consumption by Month\", fontsize=14)\n",
        "plt.xlabel(\"Month\", fontsize=12)\n",
        "plt.ylabel(\"Average KWH\", fontsize=12)\n",
        "plt.xticks(rotation=45)\n",
        "plt.grid(visible=True, linestyle='--', alpha=0.7)\n",
        "plt.text(6, overall_avg + 0.05, f\"Avg: {overall_avg:.2f} KWH\", color='black', fontsize=12, ha='center')\n",
        "plt.legend()\n",
        "plt.tight_layout()\n",
        "plt.show()"
      ]
    },
    {
      "cell_type": "code",
      "execution_count": null,
      "id": "aca1bfa0",
      "metadata": {
        "id": "aca1bfa0",
        "outputId": "e96465f9-28e6-458e-c9ad-c25e968f0ab4"
      },
      "outputs": [
        {
          "name": "stdout",
          "output_type": "stream",
          "text": [
            "Minimum date: 2011-12-08 00:00:00\n",
            "Maximum date: 2014-02-27 00:00:00\n"
          ]
        }
      ],
      "source": [
        "print('Minimum date:', dx.Date.min())\n",
        "print('Maximum date:', dx.Date.max())"
      ]
    },
    {
      "cell_type": "code",
      "execution_count": null,
      "id": "6d15994f",
      "metadata": {
        "id": "6d15994f",
        "outputId": "a277e6c8-39ca-4f73-ee16-30c5b933406f"
      },
      "outputs": [
        {
          "data": {
            "image/png": "[encoded data removed]",
            "text/plain": [
              "<Figure size 1080x432 with 1 Axes>"
            ]
          },
          "metadata": {
            "needs_background": "light"
          },
          "output_type": "display_data"
        }
      ],
      "source": [
        "plt.figure(figsize=(15, 6))\n",
        "plt.plot(dx['Date'], dx['KWH'], color='blue')\n",
        "plt.ylabel('Kilowatt Hour (KWH)', fontsize=12)\n",
        "plt.xlabel('Date', fontsize=12)\n",
        "plt.title('Daily Energy Consumption oover the period of time')\n",
        "plt.tight_layout()\n",
        "sns.despine(bottom=True, left=True)\n",
        "plt.show()"
      ]
    },
    {
      "cell_type": "markdown",
      "id": "51ef62af",
      "metadata": {
        "id": "51ef62af"
      },
      "source": [
        "# Time-series Analysis"
      ]
    },
    {
      "cell_type": "markdown",
      "id": "614566bd",
      "metadata": {
        "id": "614566bd"
      },
      "source": [
        "# ARIMA"
      ]
    },
    {
      "cell_type": "code",
      "execution_count": null,
      "id": "b586c224",
      "metadata": {
        "id": "b586c224",
        "outputId": "b183a43b-02ac-48d1-fa31-eb5b56d6e585"
      },
      "outputs": [
        {
          "data": {
            "text/html": [
              "<div>\n",
              "<style scoped>\n",
              "    .dataframe tbody tr th:only-of-type {\n",
              "        vertical-align: middle;\n",
              "    }\n",
              "\n",
              "    .dataframe tbody tr th {\n",
              "        vertical-align: top;\n",
              "    }\n",
              "\n",
              "    .dataframe thead th {\n",
              "        text-align: right;\n",
              "    }\n",
              "</style>\n",
              "<table border=\"1\" class=\"dataframe\">\n",
              "  <thead>\n",
              "    <tr style=\"text-align: right;\">\n",
              "      <th></th>\n",
              "      <th>Date</th>\n",
              "      <th>KWH</th>\n",
              "      <th>year</th>\n",
              "      <th>quarter</th>\n",
              "      <th>month</th>\n",
              "      <th>day</th>\n",
              "      <th>Price (GBP per kWh)</th>\n",
              "      <th>Total Cost (GBP)</th>\n",
              "    </tr>\n",
              "  </thead>\n",
              "  <tbody>\n",
              "    <tr>\n",
              "      <th>2</th>\n",
              "      <td>2011-12-08</td>\n",
              "      <td>365.577000</td>\n",
              "      <td>2011</td>\n",
              "      <td>4</td>\n",
              "      <td>December</td>\n",
              "      <td>8</td>\n",
              "      <td>0.1446</td>\n",
              "      <td>51.184</td>\n",
              "    </tr>\n",
              "    <tr>\n",
              "      <th>3</th>\n",
              "      <td>2011-12-09</td>\n",
              "      <td>502.532000</td>\n",
              "      <td>2011</td>\n",
              "      <td>4</td>\n",
              "      <td>December</td>\n",
              "      <td>9</td>\n",
              "      <td>0.1446</td>\n",
              "      <td>70.350</td>\n",
              "    </tr>\n",
              "    <tr>\n",
              "      <th>4</th>\n",
              "      <td>2011-12-10</td>\n",
              "      <td>637.385000</td>\n",
              "      <td>2011</td>\n",
              "      <td>4</td>\n",
              "      <td>December</td>\n",
              "      <td>10</td>\n",
              "      <td>0.1446</td>\n",
              "      <td>89.236</td>\n",
              "    </tr>\n",
              "    <tr>\n",
              "      <th>5</th>\n",
              "      <td>2011-12-11</td>\n",
              "      <td>670.710001</td>\n",
              "      <td>2011</td>\n",
              "      <td>4</td>\n",
              "      <td>December</td>\n",
              "      <td>11</td>\n",
              "      <td>0.1446</td>\n",
              "      <td>93.898</td>\n",
              "    </tr>\n",
              "    <tr>\n",
              "      <th>6</th>\n",
              "      <td>2011-12-12</td>\n",
              "      <td>614.313000</td>\n",
              "      <td>2011</td>\n",
              "      <td>4</td>\n",
              "      <td>December</td>\n",
              "      <td>12</td>\n",
              "      <td>0.1446</td>\n",
              "      <td>86.002</td>\n",
              "    </tr>\n",
              "  </tbody>\n",
              "</table>\n",
              "</div>"
            ],
            "text/plain": [
              "        Date         KWH  year  quarter     month  day  Price (GBP per kWh)  \\\n",
              "2 2011-12-08  365.577000  2011        4  December    8               0.1446   \n",
              "3 2011-12-09  502.532000  2011        4  December    9               0.1446   \n",
              "4 2011-12-10  637.385000  2011        4  December   10               0.1446   \n",
              "5 2011-12-11  670.710001  2011        4  December   11               0.1446   \n",
              "6 2011-12-12  614.313000  2011        4  December   12               0.1446   \n",
              "\n",
              "   Total Cost (GBP)  \n",
              "2            51.184  \n",
              "3            70.350  \n",
              "4            89.236  \n",
              "5            93.898  \n",
              "6            86.002  "
            ]
          },
          "execution_count": 36,
          "metadata": {},
          "output_type": "execute_result"
        }
      ],
      "source": [
        "dx.head()"
      ]
    },
    {
      "cell_type": "code",
      "execution_count": null,
      "id": "d03f96d3",
      "metadata": {
        "id": "d03f96d3"
      },
      "outputs": [],
      "source": [
        "dx['Date'] = pd.to_datetime(dx['Date'])\n",
        "dx = dx.sort_values('Date')"
      ]
    },
    {
      "cell_type": "code",
      "execution_count": null,
      "id": "12960992",
      "metadata": {
        "id": "12960992"
      },
      "outputs": [],
      "source": [
        "from sklearn.preprocessing import MinMaxScaler"
      ]
    },
    {
      "cell_type": "code",
      "execution_count": null,
      "id": "3b3d7081",
      "metadata": {
        "id": "3b3d7081"
      },
      "outputs": [],
      "source": [
        "scaler = MinMaxScaler()\n",
        "dx['Cost_normalized'] = scaler.fit_transform(dx[['Total Cost (GBP)']])"
      ]
    },
    {
      "cell_type": "code",
      "execution_count": null,
      "id": "79ee1c6c",
      "metadata": {
        "id": "79ee1c6c",
        "outputId": "299fb5f5-3487-41ba-ae3e-adda39af5e47"
      },
      "outputs": [
        {
          "data": {
            "text/html": [
              "<div>\n",
              "<style scoped>\n",
              "    .dataframe tbody tr th:only-of-type {\n",
              "        vertical-align: middle;\n",
              "    }\n",
              "\n",
              "    .dataframe tbody tr th {\n",
              "        vertical-align: top;\n",
              "    }\n",
              "\n",
              "    .dataframe thead th {\n",
              "        text-align: right;\n",
              "    }\n",
              "</style>\n",
              "<table border=\"1\" class=\"dataframe\">\n",
              "  <thead>\n",
              "    <tr style=\"text-align: right;\">\n",
              "      <th></th>\n",
              "      <th>Date</th>\n",
              "      <th>KWH</th>\n",
              "      <th>year</th>\n",
              "      <th>quarter</th>\n",
              "      <th>month</th>\n",
              "      <th>day</th>\n",
              "      <th>Price (GBP per kWh)</th>\n",
              "      <th>Total Cost (GBP)</th>\n",
              "      <th>Cost_normalized</th>\n",
              "    </tr>\n",
              "  </thead>\n",
              "  <tbody>\n",
              "    <tr>\n",
              "      <th>2</th>\n",
              "      <td>2011-12-08</td>\n",
              "      <td>365.577000</td>\n",
              "      <td>2011</td>\n",
              "      <td>4</td>\n",
              "      <td>December</td>\n",
              "      <td>8</td>\n",
              "      <td>0.1446</td>\n",
              "      <td>51.184</td>\n",
              "      <td>0.000000</td>\n",
              "    </tr>\n",
              "    <tr>\n",
              "      <th>3</th>\n",
              "      <td>2011-12-09</td>\n",
              "      <td>502.532000</td>\n",
              "      <td>2011</td>\n",
              "      <td>4</td>\n",
              "      <td>December</td>\n",
              "      <td>9</td>\n",
              "      <td>0.1446</td>\n",
              "      <td>70.350</td>\n",
              "      <td>0.192492</td>\n",
              "    </tr>\n",
              "    <tr>\n",
              "      <th>4</th>\n",
              "      <td>2011-12-10</td>\n",
              "      <td>637.385000</td>\n",
              "      <td>2011</td>\n",
              "      <td>4</td>\n",
              "      <td>December</td>\n",
              "      <td>10</td>\n",
              "      <td>0.1446</td>\n",
              "      <td>89.236</td>\n",
              "      <td>0.382171</td>\n",
              "    </tr>\n",
              "    <tr>\n",
              "      <th>5</th>\n",
              "      <td>2011-12-11</td>\n",
              "      <td>670.710001</td>\n",
              "      <td>2011</td>\n",
              "      <td>4</td>\n",
              "      <td>December</td>\n",
              "      <td>11</td>\n",
              "      <td>0.1446</td>\n",
              "      <td>93.898</td>\n",
              "      <td>0.428993</td>\n",
              "    </tr>\n",
              "    <tr>\n",
              "      <th>6</th>\n",
              "      <td>2011-12-12</td>\n",
              "      <td>614.313000</td>\n",
              "      <td>2011</td>\n",
              "      <td>4</td>\n",
              "      <td>December</td>\n",
              "      <td>12</td>\n",
              "      <td>0.1446</td>\n",
              "      <td>86.002</td>\n",
              "      <td>0.349691</td>\n",
              "    </tr>\n",
              "  </tbody>\n",
              "</table>\n",
              "</div>"
            ],
            "text/plain": [
              "        Date         KWH  year  quarter     month  day  Price (GBP per kWh)  \\\n",
              "2 2011-12-08  365.577000  2011        4  December    8               0.1446   \n",
              "3 2011-12-09  502.532000  2011        4  December    9               0.1446   \n",
              "4 2011-12-10  637.385000  2011        4  December   10               0.1446   \n",
              "5 2011-12-11  670.710001  2011        4  December   11               0.1446   \n",
              "6 2011-12-12  614.313000  2011        4  December   12               0.1446   \n",
              "\n",
              "   Total Cost (GBP)  Cost_normalized  \n",
              "2            51.184         0.000000  \n",
              "3            70.350         0.192492  \n",
              "4            89.236         0.382171  \n",
              "5            93.898         0.428993  \n",
              "6            86.002         0.349691  "
            ]
          },
          "execution_count": 40,
          "metadata": {},
          "output_type": "execute_result"
        }
      ],
      "source": [
        "dx.head()"
      ]
    },
    {
      "cell_type": "code",
      "execution_count": null,
      "id": "69a6f329",
      "metadata": {
        "id": "69a6f329"
      },
      "outputs": [],
      "source": [
        "import itertools\n",
        "from statsmodels.tsa.arima.model import ARIMA\n",
        "from sklearn.metrics import mean_squared_error\n",
        "from pmdarima import auto_arima\n",
        "from statsmodels.tsa.holtwinters import ExponentialSmoothing\n",
        "import warnings\n",
        "warnings.filterwarnings(\"ignore\")"
      ]
    },
    {
      "cell_type": "code",
      "execution_count": null,
      "id": "0c68bd9f",
      "metadata": {
        "id": "0c68bd9f"
      },
      "outputs": [],
      "source": [
        "split_idx = int(0.8 * len(dx))\n",
        "train, test = dx['Cost_normalized'][:split_idx], dx['Cost_normalized'][split_idx:]"
      ]
    },
    {
      "cell_type": "code",
      "execution_count": null,
      "id": "49528ce4",
      "metadata": {
        "id": "49528ce4",
        "outputId": "d9c15aa3-0c0e-4fd5-d7fa-8aa09892865c"
      },
      "outputs": [
        {
          "name": "stdout",
          "output_type": "stream",
          "text": [
            "ARIMA(2,1,2) - AIC: -2032.3793236401657\n",
            "ARIMA(2,1,3) - AIC: -2030.060388534693\n",
            "ARIMA(2,1,4) - AIC: -2042.699654586369\n",
            "ARIMA(2,1,5) - AIC: -2075.798596155887\n",
            "ARIMA(2,1,6) - AIC: -2069.2354594370317\n",
            "ARIMA(2,2,2) - AIC: -1995.7920554293148\n",
            "ARIMA(2,2,3) - AIC: -1977.1267688435923\n",
            "ARIMA(2,2,4) - AIC: -2015.8413995051642\n",
            "ARIMA(2,2,5) - AIC: -2013.4401893022987\n",
            "ARIMA(2,2,6) - AIC: -2010.2983011269678\n",
            "ARIMA(3,1,2) - AIC: -2030.0909872860834\n",
            "ARIMA(3,1,3) - AIC: -2032.380035788544\n",
            "ARIMA(3,1,4) - AIC: -2073.2505100593676\n",
            "ARIMA(3,1,5) - AIC: -2063.4123922158456\n",
            "ARIMA(3,1,6) - AIC: -2072.1695367244693\n",
            "ARIMA(3,2,2) - AIC: -2007.8041809388144\n",
            "ARIMA(3,2,3) - AIC: -2051.25290085117\n",
            "ARIMA(3,2,4) - AIC: -2038.0433310421704\n",
            "ARIMA(3,2,5) - AIC: -2037.3664609684806\n",
            "ARIMA(3,2,6) - AIC: -2047.1478092404868\n",
            "ARIMA(4,1,2) - AIC: -2028.0874434581613\n",
            "ARIMA(4,1,3) - AIC: -2027.0227008851878\n",
            "ARIMA(4,1,4) - AIC: -2035.5187036129046\n",
            "ARIMA(4,1,5) - AIC: -2029.4389434186883\n",
            "ARIMA(4,1,6) - AIC: -2075.845466628364\n",
            "ARIMA(4,2,2) - AIC: -2008.24334727315\n",
            "ARIMA(4,2,3) - AIC: -2012.3455680315399\n",
            "ARIMA(4,2,4) - AIC: -2029.9897689781715\n",
            "ARIMA(4,2,5) - AIC: -2044.475547430326\n",
            "ARIMA(4,2,6) - AIC: -2046.786258204696\n",
            "ARIMA(5,1,2) - AIC: -2035.985545308924\n",
            "ARIMA(5,1,3) - AIC: -2054.2366783765287\n",
            "ARIMA(5,1,4) - AIC: -2031.3118780490322\n",
            "ARIMA(5,1,5) - AIC: -2025.7476197142228\n",
            "ARIMA(5,1,6) - AIC: -2023.268468006738\n",
            "ARIMA(5,2,2) - AIC: -2008.2886311411737\n",
            "ARIMA(5,2,3) - AIC: -2003.7616049594112\n",
            "ARIMA(5,2,4) - AIC: -2039.9715958860725\n",
            "ARIMA(5,2,5) - AIC: -2047.4299839229361\n",
            "ARIMA(5,2,6) - AIC: -2035.057107714354\n",
            "ARIMA(6,1,2) - AIC: -2046.6803295825916\n",
            "ARIMA(6,1,3) - AIC: -2044.4313341734905\n",
            "ARIMA(6,1,4) - AIC: -2078.8094911691187\n",
            "ARIMA(6,1,5) - AIC: -2076.5225790803797\n",
            "ARIMA(6,1,6) - AIC: -2016.4035168933824\n",
            "ARIMA(6,2,2) - AIC: -2023.4977420457285\n",
            "ARIMA(6,2,3) - AIC: -2056.357134244513\n",
            "ARIMA(6,2,4) - AIC: -2037.2184869898783\n",
            "ARIMA(6,2,5) - AIC: -2057.6280358197723\n",
            "ARIMA(6,2,6) - AIC: -2051.7399966654957\n",
            "Optimal ARIMA Order: (6, 1, 4) with AIC: -2078.8094911691187\n"
          ]
        }
      ],
      "source": [
        "results = []\n",
        "\n",
        "for p in range(2, 7):\n",
        "    for d in range(1, 3):\n",
        "        for q in range(2, 7):\n",
        "            try:\n",
        "                model = ARIMA(train, order=(p, d, q))\n",
        "                fitted_model = model.fit()\n",
        "                aic = fitted_model.aic\n",
        "                results.append(((p, d, q), aic))\n",
        "                print(f\"ARIMA({p},{d},{q}) - AIC: {aic}\")\n",
        "            except Exception as e:\n",
        "                print(f\"ARIMA({p},{d},{q}) failed: {e}\")\n",
        "\n",
        "best_order, best_aic = min(results, key=lambda x: x[1])\n",
        "print(f\"Optimal ARIMA Order: {best_order} with AIC: {best_aic}\")"
      ]
    },
    {
      "cell_type": "code",
      "execution_count": null,
      "id": "9fdc06c5",
      "metadata": {
        "id": "9fdc06c5",
        "outputId": "6e7b6580-252a-44f5-bd78-075610beca84"
      },
      "outputs": [
        {
          "name": "stdout",
          "output_type": "stream",
          "text": [
            "Mean Squared Error: 427.4294\n"
          ]
        }
      ],
      "source": [
        "model = ARIMA(train, order=best_order)\n",
        "model_fit = model.fit()\n",
        "forecast_arima = model_fit.forecast(steps=len(test))\n",
        "hw_model = ExponentialSmoothing(train, trend=\"add\", seasonal=None).fit()\n",
        "forecast_ets = hw_model.forecast(steps=len(test))\n",
        "forecast_hybrid = (forecast_arima + forecast_ets) / 2\n",
        "forecast_actual = scaler.inverse_transform(np.array(forecast_hybrid).reshape(-1, 1))\n",
        "test_actual = scaler.inverse_transform(np.array(test).reshape(-1, 1))\n",
        "mse = mean_squared_error(test_actual, forecast_actual)\n",
        "print(f\"Mean Squared Error: {mse:.4f}\")"
      ]
    },
    {
      "cell_type": "code",
      "execution_count": null,
      "id": "a6898c87",
      "metadata": {
        "id": "a6898c87",
        "outputId": "db3fd607-be5e-45a3-e825-b44b682f5702"
      },
      "outputs": [
        {
          "data": {
            "image/png": "[encoded data removed]",
            "text/plain": [
              "<Figure size 720x432 with 1 Axes>"
            ]
          },
          "metadata": {
            "needs_background": "light"
          },
          "output_type": "display_data"
        }
      ],
      "source": [
        "plt.figure(figsize=(10,6))\n",
        "plt.plot(test.index, test_actual, label=\"Actual\")\n",
        "plt.plot(test.index, forecast_actual, label=\"Predicted (Hybrid ARIMA+ETS)\")\n",
        "plt.xlabel(\"Days\")\n",
        "plt.ylabel(\"Price (GBP)\")\n",
        "plt.title(\"ARIMA Model Forecast vs Actual\")\n",
        "plt.legend()\n",
        "plt.show()"
      ]
    },
    {
      "cell_type": "markdown",
      "id": "73db7c95",
      "metadata": {
        "id": "73db7c95"
      },
      "source": [
        "# VARIMA"
      ]
    },
    {
      "cell_type": "code",
      "execution_count": null,
      "id": "6297f513",
      "metadata": {
        "id": "6297f513"
      },
      "outputs": [],
      "source": [
        "from statsmodels.tsa.api import VAR"
      ]
    },
    {
      "cell_type": "code",
      "execution_count": null,
      "id": "221d85da",
      "metadata": {
        "id": "221d85da"
      },
      "outputs": [],
      "source": [
        "feat = dx[['KWH', 'Total Cost (GBP)']]\n",
        "\n",
        "scaler = MinMaxScaler()\n",
        "df_scaled = pd.DataFrame(scaler.fit_transform(feat), columns=feat.columns, index=feat.index)"
      ]
    },
    {
      "cell_type": "code",
      "execution_count": null,
      "id": "19195535",
      "metadata": {
        "id": "19195535"
      },
      "outputs": [],
      "source": [
        "split_idx = int(0.8 * len(df_scaled))\n",
        "train, test = df_scaled.iloc[:split_idx], df_scaled.iloc[split_idx:]"
      ]
    },
    {
      "cell_type": "code",
      "execution_count": null,
      "id": "fca87a9d",
      "metadata": {
        "id": "fca87a9d",
        "outputId": "44d61d9e-cd64-4e6a-e571-eec524a14aab"
      },
      "outputs": [
        {
          "name": "stdout",
          "output_type": "stream",
          "text": [
            "VARIMA Mean Squared Error: 324.4844\n"
          ]
        }
      ],
      "source": [
        "var_model = VAR(train)\n",
        "var_fit = var_model.fit(maxlags=10, ic='aic')\n",
        "forecast_steps = len(test)\n",
        "forecast = var_fit.forecast(train.values[-var_fit.k_ar:], steps=forecast_steps)\n",
        "forecast_df = pd.DataFrame(forecast, columns=feat.columns, index=test.index)\n",
        "forecast_actual = scaler.inverse_transform(forecast_df)\n",
        "test_actual = scaler.inverse_transform(test)\n",
        "mse = mean_squared_error(test_actual[:, 1], forecast_actual[:, 1])\n",
        "print(f\"VARIMA Mean Squared Error: {mse:.4f}\")"
      ]
    },
    {
      "cell_type": "code",
      "execution_count": null,
      "id": "0b9363a6",
      "metadata": {
        "id": "0b9363a6",
        "outputId": "ef8a0a37-4326-430e-a208-77de2decf24a"
      },
      "outputs": [
        {
          "data": {
            "image/png": "[encoded data removed]",
            "text/plain": [
              "<Figure size 720x432 with 1 Axes>"
            ]
          },
          "metadata": {
            "needs_background": "light"
          },
          "output_type": "display_data"
        }
      ],
      "source": [
        "plt.figure(figsize=(10,6))\n",
        "plt.plot(test.index, test_actual[:, 1], label=\"Actual Total Cost\")\n",
        "plt.plot(test.index, forecast_actual[:, 1], label=\"Predicted Total Cost\")\n",
        "plt.xlabel(\"Days\")\n",
        "plt.ylabel(\"Price (GBP)\")\n",
        "plt.title(\"VARIMA Model Forecast vs Actual\")\n",
        "plt.legend()\n",
        "plt.show()"
      ]
    },
    {
      "cell_type": "markdown",
      "id": "62e75cb7",
      "metadata": {
        "id": "62e75cb7"
      },
      "source": [
        "# RNN"
      ]
    },
    {
      "cell_type": "code",
      "execution_count": null,
      "id": "e6aad642",
      "metadata": {
        "id": "e6aad642",
        "outputId": "8eccc3a7-5bc4-4ab1-831f-d0a3b844e91e"
      },
      "outputs": [
        {
          "data": {
            "text/html": [
              "<div>\n",
              "<style scoped>\n",
              "    .dataframe tbody tr th:only-of-type {\n",
              "        vertical-align: middle;\n",
              "    }\n",
              "\n",
              "    .dataframe tbody tr th {\n",
              "        vertical-align: top;\n",
              "    }\n",
              "\n",
              "    .dataframe thead th {\n",
              "        text-align: right;\n",
              "    }\n",
              "</style>\n",
              "<table border=\"1\" class=\"dataframe\">\n",
              "  <thead>\n",
              "    <tr style=\"text-align: right;\">\n",
              "      <th></th>\n",
              "      <th>Date</th>\n",
              "      <th>KWH</th>\n",
              "      <th>year</th>\n",
              "      <th>quarter</th>\n",
              "      <th>month</th>\n",
              "      <th>day</th>\n",
              "      <th>Price (GBP per kWh)</th>\n",
              "      <th>Total Cost (GBP)</th>\n",
              "      <th>Cost_normalized</th>\n",
              "    </tr>\n",
              "  </thead>\n",
              "  <tbody>\n",
              "    <tr>\n",
              "      <th>2</th>\n",
              "      <td>2011-12-08</td>\n",
              "      <td>365.577000</td>\n",
              "      <td>2011</td>\n",
              "      <td>4</td>\n",
              "      <td>December</td>\n",
              "      <td>8</td>\n",
              "      <td>0.1446</td>\n",
              "      <td>51.184</td>\n",
              "      <td>0.000000</td>\n",
              "    </tr>\n",
              "    <tr>\n",
              "      <th>3</th>\n",
              "      <td>2011-12-09</td>\n",
              "      <td>502.532000</td>\n",
              "      <td>2011</td>\n",
              "      <td>4</td>\n",
              "      <td>December</td>\n",
              "      <td>9</td>\n",
              "      <td>0.1446</td>\n",
              "      <td>70.350</td>\n",
              "      <td>0.192492</td>\n",
              "    </tr>\n",
              "    <tr>\n",
              "      <th>4</th>\n",
              "      <td>2011-12-10</td>\n",
              "      <td>637.385000</td>\n",
              "      <td>2011</td>\n",
              "      <td>4</td>\n",
              "      <td>December</td>\n",
              "      <td>10</td>\n",
              "      <td>0.1446</td>\n",
              "      <td>89.236</td>\n",
              "      <td>0.382171</td>\n",
              "    </tr>\n",
              "    <tr>\n",
              "      <th>5</th>\n",
              "      <td>2011-12-11</td>\n",
              "      <td>670.710001</td>\n",
              "      <td>2011</td>\n",
              "      <td>4</td>\n",
              "      <td>December</td>\n",
              "      <td>11</td>\n",
              "      <td>0.1446</td>\n",
              "      <td>93.898</td>\n",
              "      <td>0.428993</td>\n",
              "    </tr>\n",
              "    <tr>\n",
              "      <th>6</th>\n",
              "      <td>2011-12-12</td>\n",
              "      <td>614.313000</td>\n",
              "      <td>2011</td>\n",
              "      <td>4</td>\n",
              "      <td>December</td>\n",
              "      <td>12</td>\n",
              "      <td>0.1446</td>\n",
              "      <td>86.002</td>\n",
              "      <td>0.349691</td>\n",
              "    </tr>\n",
              "  </tbody>\n",
              "</table>\n",
              "</div>"
            ],
            "text/plain": [
              "        Date         KWH  year  quarter     month  day  Price (GBP per kWh)  \\\n",
              "2 2011-12-08  365.577000  2011        4  December    8               0.1446   \n",
              "3 2011-12-09  502.532000  2011        4  December    9               0.1446   \n",
              "4 2011-12-10  637.385000  2011        4  December   10               0.1446   \n",
              "5 2011-12-11  670.710001  2011        4  December   11               0.1446   \n",
              "6 2011-12-12  614.313000  2011        4  December   12               0.1446   \n",
              "\n",
              "   Total Cost (GBP)  Cost_normalized  \n",
              "2            51.184         0.000000  \n",
              "3            70.350         0.192492  \n",
              "4            89.236         0.382171  \n",
              "5            93.898         0.428993  \n",
              "6            86.002         0.349691  "
            ]
          },
          "execution_count": 82,
          "metadata": {},
          "output_type": "execute_result"
        }
      ],
      "source": [
        "dx.head()"
      ]
    },
    {
      "cell_type": "code",
      "execution_count": null,
      "id": "57152cf0",
      "metadata": {
        "id": "57152cf0"
      },
      "outputs": [],
      "source": [
        "def create_sequences(data, input_steps):\n",
        "    x, y = [], []\n",
        "    for i in range(len(data) - input_steps):\n",
        "        x.append(data[i:i + input_steps])\n",
        "        y.append(data[i + input_steps])\n",
        "    return np.array(x), np.array(y)"
      ]
    },
    {
      "cell_type": "code",
      "execution_count": null,
      "id": "d2213f23",
      "metadata": {
        "id": "d2213f23"
      },
      "outputs": [],
      "source": [
        "input_steps = 60\n",
        "x, y = create_sequences(dx['Cost_normalized'].values, input_steps)\n",
        "x = x.reshape((x.shape[0], x.shape[1], 1))"
      ]
    },
    {
      "cell_type": "code",
      "execution_count": null,
      "id": "29a6cf2a",
      "metadata": {
        "id": "29a6cf2a"
      },
      "outputs": [],
      "source": [
        "split_idx = int(0.8 * len(x))\n",
        "x_train, x_test = x[:split_idx], x[split_idx:]\n",
        "y_train, y_test = y[:split_idx], y[split_idx:]"
      ]
    },
    {
      "cell_type": "markdown",
      "id": "dfb4b89c",
      "metadata": {
        "id": "dfb4b89c"
      },
      "source": [
        "## LSTM"
      ]
    },
    {
      "cell_type": "code",
      "execution_count": null,
      "id": "6fa399cb",
      "metadata": {
        "id": "6fa399cb"
      },
      "outputs": [],
      "source": [
        "import tensorflow as tf\n",
        "from tensorflow.keras.models import Sequential\n",
        "from tensorflow.keras.layers import LSTM, Dense, Dropout"
      ]
    },
    {
      "cell_type": "code",
      "execution_count": null,
      "id": "58cbaa02",
      "metadata": {
        "id": "58cbaa02"
      },
      "outputs": [],
      "source": [
        "model = Sequential([\n",
        "    LSTM(64, return_sequences=True, input_shape=(input_steps, 1)),\n",
        "    Dropout(0.2),\n",
        "    LSTM(64, return_sequences=False),\n",
        "    Dropout(0.2),\n",
        "    Dense(32, activation='relu'),\n",
        "    Dense(1)])"
      ]
    },
    {
      "cell_type": "code",
      "execution_count": null,
      "id": "80bb49de",
      "metadata": {
        "id": "80bb49de"
      },
      "outputs": [],
      "source": [
        "model.compile(optimizer='adam', loss='mse')"
      ]
    },
    {
      "cell_type": "code",
      "execution_count": null,
      "id": "8093f275",
      "metadata": {
        "id": "8093f275",
        "outputId": "fd0106b0-a3c3-4bf5-dfe1-dcf1deffe4d4"
      },
      "outputs": [
        {
          "name": "stdout",
          "output_type": "stream",
          "text": [
            "Model: \"sequential_6\"\n",
            "_________________________________________________________________\n",
            " Layer (type)                Output Shape              Param #   \n",
            "=================================================================\n",
            " lstm_10 (LSTM)              (None, 60, 64)            16896     \n",
            "                                                                 \n",
            " dropout_12 (Dropout)        (None, 60, 64)            0         \n",
            "                                                                 \n",
            " lstm_11 (LSTM)              (None, 64)                33024     \n",
            "                                                                 \n",
            " dropout_13 (Dropout)        (None, 64)                0         \n",
            "                                                                 \n",
            " dense_12 (Dense)            (None, 32)                2080      \n",
            "                                                                 \n",
            " dense_13 (Dense)            (None, 1)                 33        \n",
            "                                                                 \n",
            "=================================================================\n",
            "Total params: 52,033\n",
            "Trainable params: 52,033\n",
            "Non-trainable params: 0\n",
            "_________________________________________________________________\n"
          ]
        }
      ],
      "source": [
        "model.summary()"
      ]
    },
    {
      "cell_type": "code",
      "execution_count": null,
      "id": "e47b62f6",
      "metadata": {
        "id": "e47b62f6",
        "outputId": "35f85899-5961-4b04-e779-97525dbee048"
      },
      "outputs": [
        {
          "name": "stdout",
          "output_type": "stream",
          "text": [
            "Epoch 1/50\n",
            "19/19 [==============================] - 5s 84ms/step - loss: 0.0460 - val_loss: 0.0196\n",
            "Epoch 2/50\n",
            "19/19 [==============================] - 1s 41ms/step - loss: 0.0119 - val_loss: 0.0054\n",
            "Epoch 3/50\n",
            "19/19 [==============================] - 1s 42ms/step - loss: 0.0078 - val_loss: 0.0039\n",
            "Epoch 4/50\n",
            "19/19 [==============================] - 1s 43ms/step - loss: 0.0072 - val_loss: 0.0036\n",
            "Epoch 5/50\n",
            "19/19 [==============================] - 1s 42ms/step - loss: 0.0074 - val_loss: 0.0048\n",
            "Epoch 6/50\n",
            "19/19 [==============================] - 1s 42ms/step - loss: 0.0062 - val_loss: 0.0045\n",
            "Epoch 7/50\n",
            "19/19 [==============================] - 1s 45ms/step - loss: 0.0063 - val_loss: 0.0033\n",
            "Epoch 8/50\n",
            "19/19 [==============================] - 1s 56ms/step - loss: 0.0059 - val_loss: 0.0033\n",
            "Epoch 9/50\n",
            "19/19 [==============================] - 1s 45ms/step - loss: 0.0073 - val_loss: 0.0032\n",
            "Epoch 10/50\n",
            "19/19 [==============================] - 1s 51ms/step - loss: 0.0060 - val_loss: 0.0033\n",
            "Epoch 11/50\n",
            "19/19 [==============================] - 1s 47ms/step - loss: 0.0054 - val_loss: 0.0034\n",
            "Epoch 12/50\n",
            "19/19 [==============================] - 1s 45ms/step - loss: 0.0058 - val_loss: 0.0045\n",
            "Epoch 13/50\n",
            "19/19 [==============================] - 1s 48ms/step - loss: 0.0056 - val_loss: 0.0040\n",
            "Epoch 14/50\n",
            "19/19 [==============================] - 1s 47ms/step - loss: 0.0061 - val_loss: 0.0037\n",
            "Epoch 15/50\n",
            "19/19 [==============================] - 1s 50ms/step - loss: 0.0051 - val_loss: 0.0035\n",
            "Epoch 16/50\n",
            "19/19 [==============================] - 1s 53ms/step - loss: 0.0048 - val_loss: 0.0032\n",
            "Epoch 17/50\n",
            "19/19 [==============================] - 1s 42ms/step - loss: 0.0051 - val_loss: 0.0032\n",
            "Epoch 18/50\n",
            "19/19 [==============================] - 1s 43ms/step - loss: 0.0052 - val_loss: 0.0034\n",
            "Epoch 19/50\n",
            "19/19 [==============================] - 1s 43ms/step - loss: 0.0050 - val_loss: 0.0034\n",
            "Epoch 20/50\n",
            "19/19 [==============================] - 1s 41ms/step - loss: 0.0048 - val_loss: 0.0034\n",
            "Epoch 21/50\n",
            "19/19 [==============================] - 1s 43ms/step - loss: 0.0055 - val_loss: 0.0045\n",
            "Epoch 22/50\n",
            "19/19 [==============================] - 1s 41ms/step - loss: 0.0046 - val_loss: 0.0035\n",
            "Epoch 23/50\n",
            "19/19 [==============================] - 1s 41ms/step - loss: 0.0043 - val_loss: 0.0033\n",
            "Epoch 24/50\n",
            "19/19 [==============================] - 1s 42ms/step - loss: 0.0051 - val_loss: 0.0051\n",
            "Epoch 25/50\n",
            "19/19 [==============================] - 1s 41ms/step - loss: 0.0046 - val_loss: 0.0031\n",
            "Epoch 26/50\n",
            "19/19 [==============================] - 1s 43ms/step - loss: 0.0044 - val_loss: 0.0031\n",
            "Epoch 27/50\n",
            "19/19 [==============================] - 1s 41ms/step - loss: 0.0044 - val_loss: 0.0030\n",
            "Epoch 28/50\n",
            "19/19 [==============================] - 1s 42ms/step - loss: 0.0044 - val_loss: 0.0037\n",
            "Epoch 29/50\n",
            "19/19 [==============================] - 1s 41ms/step - loss: 0.0042 - val_loss: 0.0032\n",
            "Epoch 30/50\n",
            "19/19 [==============================] - 1s 42ms/step - loss: 0.0046 - val_loss: 0.0036\n",
            "Epoch 31/50\n",
            "19/19 [==============================] - 1s 49ms/step - loss: 0.0046 - val_loss: 0.0035\n",
            "Epoch 32/50\n",
            "19/19 [==============================] - 1s 41ms/step - loss: 0.0047 - val_loss: 0.0030\n",
            "Epoch 33/50\n",
            "19/19 [==============================] - 1s 41ms/step - loss: 0.0049 - val_loss: 0.0034\n",
            "Epoch 34/50\n",
            "19/19 [==============================] - 1s 45ms/step - loss: 0.0047 - val_loss: 0.0030\n",
            "Epoch 35/50\n",
            "19/19 [==============================] - 1s 45ms/step - loss: 0.0046 - val_loss: 0.0030\n",
            "Epoch 36/50\n",
            "19/19 [==============================] - 1s 42ms/step - loss: 0.0047 - val_loss: 0.0030\n",
            "Epoch 37/50\n",
            "19/19 [==============================] - 1s 42ms/step - loss: 0.0038 - val_loss: 0.0030\n",
            "Epoch 38/50\n",
            "19/19 [==============================] - 1s 42ms/step - loss: 0.0042 - val_loss: 0.0031\n",
            "Epoch 39/50\n",
            "19/19 [==============================] - 1s 42ms/step - loss: 0.0047 - val_loss: 0.0032\n",
            "Epoch 40/50\n",
            "19/19 [==============================] - 1s 41ms/step - loss: 0.0040 - val_loss: 0.0031\n",
            "Epoch 41/50\n",
            "19/19 [==============================] - 1s 43ms/step - loss: 0.0041 - val_loss: 0.0034\n",
            "Epoch 42/50\n",
            "19/19 [==============================] - 1s 42ms/step - loss: 0.0047 - val_loss: 0.0029\n",
            "Epoch 43/50\n",
            "19/19 [==============================] - 1s 42ms/step - loss: 0.0039 - val_loss: 0.0043\n",
            "Epoch 44/50\n",
            "19/19 [==============================] - 1s 41ms/step - loss: 0.0041 - val_loss: 0.0033\n",
            "Epoch 45/50\n",
            "19/19 [==============================] - 1s 44ms/step - loss: 0.0044 - val_loss: 0.0029\n",
            "Epoch 46/50\n",
            "19/19 [==============================] - 1s 41ms/step - loss: 0.0038 - val_loss: 0.0029\n",
            "Epoch 47/50\n",
            "19/19 [==============================] - 1s 41ms/step - loss: 0.0037 - val_loss: 0.0036\n",
            "Epoch 48/50\n",
            "19/19 [==============================] - 1s 44ms/step - loss: 0.0038 - val_loss: 0.0029\n",
            "Epoch 49/50\n",
            "19/19 [==============================] - 1s 42ms/step - loss: 0.0039 - val_loss: 0.0030\n",
            "Epoch 50/50\n",
            "19/19 [==============================] - 1s 44ms/step - loss: 0.0038 - val_loss: 0.0029\n"
          ]
        }
      ],
      "source": [
        "history = model.fit(x_train, y_train, epochs=50, batch_size=32, validation_data=(x_test, y_test))"
      ]
    },
    {
      "cell_type": "code",
      "execution_count": null,
      "id": "b7d4aceb",
      "metadata": {
        "id": "b7d4aceb",
        "outputId": "30d832d1-4c0d-4fc7-aadc-a7b8c49693d8"
      },
      "outputs": [
        {
          "data": {
            "image/png": "[encoded data removed]",
            "text/plain": [
              "<Figure size 576x432 with 1 Axes>"
            ]
          },
          "metadata": {
            "needs_background": "light"
          },
          "output_type": "display_data"
        }
      ],
      "source": [
        "plt.figure(figsize=(8, 6))\n",
        "plt.plot(history.history['loss'], label='Train Loss')\n",
        "plt.plot(history.history['val_loss'], label='Validation Loss')\n",
        "plt.legend()\n",
        "plt.show()"
      ]
    },
    {
      "cell_type": "code",
      "execution_count": null,
      "id": "df6d1cdf",
      "metadata": {
        "id": "df6d1cdf",
        "outputId": "30ff2103-b77d-4d35-d1c9-fd9d22c7de67"
      },
      "outputs": [
        {
          "name": "stdout",
          "output_type": "stream",
          "text": [
            "Mean Squared Error: 28.9839\n"
          ]
        }
      ],
      "source": [
        "y_pred = model.predict(x_test)\n",
        "y_test_rescaled = scaler.inverse_transform(y_test.reshape(-1, 1))\n",
        "y_pred_rescaled = scaler.inverse_transform(y_pred)\n",
        "mse = mean_squared_error(y_test_rescaled, y_pred_rescaled)\n",
        "print(f\"Mean Squared Error: {mse:.4f}\")"
      ]
    },
    {
      "cell_type": "code",
      "execution_count": null,
      "id": "0af94090",
      "metadata": {
        "id": "0af94090",
        "outputId": "8fe328e1-8078-4fd7-fa4c-46783fa2de8b"
      },
      "outputs": [
        {
          "data": {
            "image/png": "[encoded data removed]",
            "text/plain": [
              "<Figure size 720x432 with 1 Axes>"
            ]
          },
          "metadata": {
            "needs_background": "light"
          },
          "output_type": "display_data"
        }
      ],
      "source": [
        "plt.figure(figsize=(10,6))\n",
        "plt.plot(range(603, 754), y_test_rescaled, label='Actual Cost')\n",
        "plt.plot(range(603, 754), y_pred_rescaled, label='Predicted Cost')\n",
        "plt.xlabel(\"Days\")\n",
        "plt.ylabel(\"Price (GBP)\")\n",
        "plt.title(\"RNN LSTM Model Forecast vs Actual\")\n",
        "plt.legend()\n",
        "plt.show()"
      ]
    },
    {
      "cell_type": "markdown",
      "id": "7b034ffb",
      "metadata": {
        "id": "7b034ffb"
      },
      "source": [
        "## GRU"
      ]
    },
    {
      "cell_type": "code",
      "execution_count": null,
      "id": "da75918d",
      "metadata": {
        "id": "da75918d"
      },
      "outputs": [],
      "source": [
        "from tensorflow.keras.layers import GRU"
      ]
    },
    {
      "cell_type": "code",
      "execution_count": null,
      "id": "f08e2e65",
      "metadata": {
        "id": "f08e2e65"
      },
      "outputs": [],
      "source": [
        "model = Sequential([\n",
        "    GRU(64, return_sequences=True, input_shape=(input_steps, 1)),\n",
        "    Dropout(0.2),\n",
        "    GRU(64, return_sequences=False),\n",
        "    Dropout(0.2),\n",
        "    Dense(32, activation='relu'),\n",
        "    Dense(1)])"
      ]
    },
    {
      "cell_type": "code",
      "execution_count": null,
      "id": "e7659101",
      "metadata": {
        "id": "e7659101"
      },
      "outputs": [],
      "source": [
        "model.compile(optimizer='adam', loss='mse')"
      ]
    },
    {
      "cell_type": "code",
      "execution_count": null,
      "id": "2edae0af",
      "metadata": {
        "id": "2edae0af",
        "outputId": "1b428e12-524c-4500-d094-1883d0d47498"
      },
      "outputs": [
        {
          "name": "stdout",
          "output_type": "stream",
          "text": [
            "Model: \"sequential_5\"\n",
            "_________________________________________________________________\n",
            " Layer (type)                Output Shape              Param #   \n",
            "=================================================================\n",
            " gru (GRU)                   (None, 60, 64)            12864     \n",
            "                                                                 \n",
            " dropout_10 (Dropout)        (None, 60, 64)            0         \n",
            "                                                                 \n",
            " gru_1 (GRU)                 (None, 64)                24960     \n",
            "                                                                 \n",
            " dropout_11 (Dropout)        (None, 64)                0         \n",
            "                                                                 \n",
            " dense_10 (Dense)            (None, 32)                2080      \n",
            "                                                                 \n",
            " dense_11 (Dense)            (None, 1)                 33        \n",
            "                                                                 \n",
            "=================================================================\n",
            "Total params: 39,937\n",
            "Trainable params: 39,937\n",
            "Non-trainable params: 0\n",
            "_________________________________________________________________\n"
          ]
        }
      ],
      "source": [
        "model.summary()"
      ]
    },
    {
      "cell_type": "code",
      "execution_count": null,
      "id": "e6866db6",
      "metadata": {
        "id": "e6866db6",
        "outputId": "4ca33aff-dc44-4780-e246-c8ab6bdf6e9c"
      },
      "outputs": [
        {
          "name": "stdout",
          "output_type": "stream",
          "text": [
            "Epoch 1/50\n",
            "19/19 [==============================] - 5s 85ms/step - loss: 0.0505 - val_loss: 0.0084\n",
            "Epoch 2/50\n",
            "19/19 [==============================] - 1s 41ms/step - loss: 0.0114 - val_loss: 0.0030\n",
            "Epoch 3/50\n",
            "19/19 [==============================] - 1s 42ms/step - loss: 0.0068 - val_loss: 0.0036\n",
            "Epoch 4/50\n",
            "19/19 [==============================] - 1s 46ms/step - loss: 0.0052 - val_loss: 0.0036\n",
            "Epoch 5/50\n",
            "19/19 [==============================] - 1s 47ms/step - loss: 0.0052 - val_loss: 0.0034\n",
            "Epoch 6/50\n",
            "19/19 [==============================] - 1s 45ms/step - loss: 0.0043 - val_loss: 0.0031\n",
            "Epoch 7/50\n",
            "19/19 [==============================] - 1s 39ms/step - loss: 0.0047 - val_loss: 0.0032\n",
            "Epoch 8/50\n",
            "19/19 [==============================] - 1s 39ms/step - loss: 0.0047 - val_loss: 0.0038\n",
            "Epoch 9/50\n",
            "19/19 [==============================] - 1s 43ms/step - loss: 0.0048 - val_loss: 0.0041\n",
            "Epoch 10/50\n",
            "19/19 [==============================] - 1s 37ms/step - loss: 0.0043 - val_loss: 0.0028\n",
            "Epoch 11/50\n",
            "19/19 [==============================] - 1s 47ms/step - loss: 0.0047 - val_loss: 0.0054\n",
            "Epoch 12/50\n",
            "19/19 [==============================] - 1s 37ms/step - loss: 0.0044 - val_loss: 0.0028\n",
            "Epoch 13/50\n",
            "19/19 [==============================] - 1s 44ms/step - loss: 0.0050 - val_loss: 0.0029\n",
            "Epoch 14/50\n",
            "19/19 [==============================] - 1s 44ms/step - loss: 0.0046 - val_loss: 0.0047\n",
            "Epoch 15/50\n",
            "19/19 [==============================] - 1s 50ms/step - loss: 0.0043 - val_loss: 0.0032\n",
            "Epoch 16/50\n",
            "19/19 [==============================] - 1s 39ms/step - loss: 0.0044 - val_loss: 0.0037\n",
            "Epoch 17/50\n",
            "19/19 [==============================] - 1s 43ms/step - loss: 0.0040 - val_loss: 0.0043\n",
            "Epoch 18/50\n",
            "19/19 [==============================] - 1s 37ms/step - loss: 0.0039 - val_loss: 0.0031\n",
            "Epoch 19/50\n",
            "19/19 [==============================] - 1s 38ms/step - loss: 0.0036 - val_loss: 0.0031\n",
            "Epoch 20/50\n",
            "19/19 [==============================] - 1s 40ms/step - loss: 0.0038 - val_loss: 0.0035\n",
            "Epoch 21/50\n",
            "19/19 [==============================] - 1s 37ms/step - loss: 0.0035 - val_loss: 0.0034\n",
            "Epoch 22/50\n",
            "19/19 [==============================] - 1s 47ms/step - loss: 0.0037 - val_loss: 0.0036\n",
            "Epoch 23/50\n",
            "19/19 [==============================] - 1s 46ms/step - loss: 0.0040 - val_loss: 0.0026\n",
            "Epoch 24/50\n",
            "19/19 [==============================] - 1s 45ms/step - loss: 0.0033 - val_loss: 0.0035\n",
            "Epoch 25/50\n",
            "19/19 [==============================] - 1s 46ms/step - loss: 0.0037 - val_loss: 0.0026\n",
            "Epoch 26/50\n",
            "19/19 [==============================] - 1s 48ms/step - loss: 0.0032 - val_loss: 0.0031\n",
            "Epoch 27/50\n",
            "19/19 [==============================] - 1s 38ms/step - loss: 0.0039 - val_loss: 0.0026\n",
            "Epoch 28/50\n",
            "19/19 [==============================] - 1s 40ms/step - loss: 0.0035 - val_loss: 0.0028\n",
            "Epoch 29/50\n",
            "19/19 [==============================] - 1s 37ms/step - loss: 0.0036 - val_loss: 0.0028\n",
            "Epoch 30/50\n",
            "19/19 [==============================] - 1s 49ms/step - loss: 0.0035 - val_loss: 0.0029\n",
            "Epoch 31/50\n",
            "19/19 [==============================] - 1s 46ms/step - loss: 0.0041 - val_loss: 0.0032\n",
            "Epoch 32/50\n",
            "19/19 [==============================] - 1s 39ms/step - loss: 0.0035 - val_loss: 0.0030\n",
            "Epoch 33/50\n",
            "19/19 [==============================] - 1s 40ms/step - loss: 0.0033 - val_loss: 0.0030\n",
            "Epoch 34/50\n",
            "19/19 [==============================] - 1s 39ms/step - loss: 0.0033 - val_loss: 0.0027\n",
            "Epoch 35/50\n",
            "19/19 [==============================] - 1s 37ms/step - loss: 0.0032 - val_loss: 0.0030\n",
            "Epoch 36/50\n",
            "19/19 [==============================] - 1s 42ms/step - loss: 0.0032 - val_loss: 0.0041\n",
            "Epoch 37/50\n",
            "19/19 [==============================] - 1s 43ms/step - loss: 0.0034 - val_loss: 0.0027\n",
            "Epoch 38/50\n",
            "19/19 [==============================] - 1s 45ms/step - loss: 0.0034 - val_loss: 0.0025\n",
            "Epoch 39/50\n",
            "19/19 [==============================] - 1s 46ms/step - loss: 0.0031 - val_loss: 0.0034\n",
            "Epoch 40/50\n",
            "19/19 [==============================] - 1s 45ms/step - loss: 0.0033 - val_loss: 0.0025\n",
            "Epoch 41/50\n",
            "19/19 [==============================] - 1s 46ms/step - loss: 0.0032 - val_loss: 0.0036\n",
            "Epoch 42/50\n",
            "19/19 [==============================] - 1s 46ms/step - loss: 0.0030 - val_loss: 0.0025\n",
            "Epoch 43/50\n",
            "19/19 [==============================] - 1s 50ms/step - loss: 0.0032 - val_loss: 0.0027\n",
            "Epoch 44/50\n",
            "19/19 [==============================] - 1s 60ms/step - loss: 0.0030 - val_loss: 0.0033\n",
            "Epoch 45/50\n",
            "19/19 [==============================] - 1s 56ms/step - loss: 0.0030 - val_loss: 0.0025\n",
            "Epoch 46/50\n",
            "19/19 [==============================] - 1s 45ms/step - loss: 0.0030 - val_loss: 0.0030\n",
            "Epoch 47/50\n",
            "19/19 [==============================] - 1s 52ms/step - loss: 0.0028 - val_loss: 0.0028\n",
            "Epoch 48/50\n",
            "19/19 [==============================] - 1s 46ms/step - loss: 0.0030 - val_loss: 0.0033\n",
            "Epoch 49/50\n",
            "19/19 [==============================] - 1s 45ms/step - loss: 0.0034 - val_loss: 0.0027\n",
            "Epoch 50/50\n",
            "19/19 [==============================] - 1s 43ms/step - loss: 0.0029 - val_loss: 0.0028\n"
          ]
        }
      ],
      "source": [
        "history = model.fit(x_train, y_train, epochs=50, batch_size=32, validation_data=(x_test, y_test))"
      ]
    },
    {
      "cell_type": "code",
      "execution_count": null,
      "id": "e91af90e",
      "metadata": {
        "id": "e91af90e",
        "outputId": "a26291f1-5372-48c3-9cbe-04129a0b9607"
      },
      "outputs": [
        {
          "data": {
            "image/png": "[encoded data removed]",
            "text/plain": [
              "<Figure size 576x432 with 1 Axes>"
            ]
          },
          "metadata": {
            "needs_background": "light"
          },
          "output_type": "display_data"
        }
      ],
      "source": [
        "plt.figure(figsize=(8, 6))\n",
        "plt.plot(history.history['loss'], label='Train Loss')\n",
        "plt.plot(history.history['val_loss'], label='Validation Loss')\n",
        "plt.legend()\n",
        "plt.show()"
      ]
    },
    {
      "cell_type": "code",
      "execution_count": null,
      "id": "34e84d6f",
      "metadata": {
        "id": "34e84d6f",
        "outputId": "3a57d2dc-2ca4-497a-da79-dd6371ee5cb6"
      },
      "outputs": [
        {
          "name": "stdout",
          "output_type": "stream",
          "text": [
            "Mean Squared Error: 27.9185\n"
          ]
        }
      ],
      "source": [
        "y_pred = model.predict(x_test)\n",
        "y_test_rescaled = scaler.inverse_transform(y_test.reshape(-1, 1))\n",
        "y_pred_rescaled = scaler.inverse_transform(y_pred)\n",
        "mse = mean_squared_error(y_test_rescaled, y_pred_rescaled)\n",
        "print(f\"Mean Squared Error: {mse:.4f}\")"
      ]
    },
    {
      "cell_type": "code",
      "execution_count": null,
      "id": "aea1296c",
      "metadata": {
        "id": "aea1296c",
        "outputId": "41a11591-7936-4d32-d739-4a8bb7730c82"
      },
      "outputs": [
        {
          "data": {
            "image/png": "[encoded data removed]",
            "text/plain": [
              "<Figure size 720x432 with 1 Axes>"
            ]
          },
          "metadata": {
            "needs_background": "light"
          },
          "output_type": "display_data"
        }
      ],
      "source": [
        "plt.figure(figsize=(10,6))\n",
        "plt.plot(range(603, 754), y_test_rescaled, label='Actual Cost')\n",
        "plt.plot(range(603, 754), y_pred_rescaled, label='Predicted Cost')\n",
        "plt.xlabel(\"Days\")\n",
        "plt.ylabel(\"Price (GBP)\")\n",
        "plt.title(\"RNN GRU Model Forecast vs Actual\")\n",
        "plt.legend()\n",
        "plt.show()"
      ]
    },
    {
      "cell_type": "code",
      "execution_count": null,
      "id": "954ff70b",
      "metadata": {
        "id": "954ff70b"
      },
      "outputs": [],
      "source": []
    }
  ],
  "metadata": {
    "kernelspec": {
      "display_name": "Python 3",
      "language": "python",
      "name": "python3"
    },
    "language_info": {
      "codemirror_mode": {
        "name": "ipython",
        "version": 3
      },
      "file_extension": ".py",
      "mimetype": "text/x-python",
      "name": "python",
      "nbconvert_exporter": "python",
      "pygments_lexer": "ipython3",
      "version": "3.8.8"
    },
    "colab": {
      "provenance": [],
      "include_colab_link": true
    }
  },
  "nbformat": 4,
  "nbformat_minor": 5
}