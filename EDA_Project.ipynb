{
  "cells": [
    {
      "cell_type": "markdown",
      "metadata": {
        "id": "view-in-github",
        "colab_type": "text"
      },
      "source": [
        "<a href=\"https://colab.research.google.com/github/surajdusa/Predictive-Modelling-of-Energy-Usage-in-Response-to-Dynamic-Pricing-Signals-in-London-Households/blob/main/EDA_Project.ipynb\" target=\"_parent\"><img src=\"https://colab.research.google.com/assets/colab-badge.svg\" alt=\"Open In Colab\"/></a>"
      ]
    },
    {
      "cell_type": "code",
      "execution_count": 3,
      "id": "847355b0",
      "metadata": {
        "id": "847355b0"
      },
      "outputs": [],
      "source": [
        "import pandas as pd\n",
        "import numpy as np\n",
        "import os\n",
        "import matplotlib.pyplot as plt\n",
        "%matplotlib inline\n",
        "import seaborn as sns\n",
        "import warnings\n",
        "warnings.filterwarnings('ignore')"
      ]
    },
    {
      "cell_type": "code",
      "source": [
        "from google.colab import drive\n",
        "drive.mount('/content/drive')"
      ],
      "metadata": {
        "colab": {
          "base_uri": "https://localhost:8080/"
        },
        "id": "-OOvK001_7K5",
        "outputId": "9e134421-9b66-41d7-9003-020c986ae7b1"
      },
      "id": "-OOvK001_7K5",
      "execution_count": 4,
      "outputs": [
        {
          "output_type": "stream",
          "name": "stdout",
          "text": [
            "Drive already mounted at /content/drive; to attempt to forcibly remount, call drive.mount(\"/content/drive\", force_remount=True).\n"
          ]
        }
      ]
    },
    {
      "cell_type": "code",
      "execution_count": null,
      "id": "05d92fd8",
      "metadata": {
        "id": "05d92fd8"
      },
      "outputs": [],
      "source": [
        "df = pd.read_csv('/content/drive/MyDrive/CC_LCL-FullData.csv')"
      ]
    },
    {
      "cell_type": "code",
      "execution_count": null,
      "id": "e8dc5444",
      "metadata": {
        "id": "e8dc5444",
        "outputId": "79694767-9c46-42c0-a948-ee7eeb04476f"
      },
      "outputs": [
        {
          "data": {
            "text/html": [
              "<div>\n",
              "<style scoped>\n",
              "    .dataframe tbody tr th:only-of-type {\n",
              "        vertical-align: middle;\n",
              "    }\n",
              "\n",
              "    .dataframe tbody tr th {\n",
              "        vertical-align: top;\n",
              "    }\n",
              "\n",
              "    .dataframe thead th {\n",
              "        text-align: right;\n",
              "    }\n",
              "</style>\n",
              "<table border=\"1\" class=\"dataframe\">\n",
              "  <thead>\n",
              "    <tr style=\"text-align: right;\">\n",
              "      <th></th>\n",
              "      <th>LCLid</th>\n",
              "      <th>stdorToU</th>\n",
              "      <th>DateTime</th>\n",
              "      <th>KWH/hh (per half hour)</th>\n",
              "    </tr>\n",
              "  </thead>\n",
              "  <tbody>\n",
              "    <tr>\n",
              "      <th>0</th>\n",
              "      <td>MAC000002</td>\n",
              "      <td>Std</td>\n",
              "      <td>2012-10-12 00:30:00.0000000</td>\n",
              "      <td>0</td>\n",
              "    </tr>\n",
              "    <tr>\n",
              "      <th>1</th>\n",
              "      <td>MAC000002</td>\n",
              "      <td>Std</td>\n",
              "      <td>2012-10-12 01:00:00.0000000</td>\n",
              "      <td>0</td>\n",
              "    </tr>\n",
              "    <tr>\n",
              "      <th>2</th>\n",
              "      <td>MAC000002</td>\n",
              "      <td>Std</td>\n",
              "      <td>2012-10-12 01:30:00.0000000</td>\n",
              "      <td>0</td>\n",
              "    </tr>\n",
              "    <tr>\n",
              "      <th>3</th>\n",
              "      <td>MAC000002</td>\n",
              "      <td>Std</td>\n",
              "      <td>2012-10-12 02:00:00.0000000</td>\n",
              "      <td>0</td>\n",
              "    </tr>\n",
              "    <tr>\n",
              "      <th>4</th>\n",
              "      <td>MAC000002</td>\n",
              "      <td>Std</td>\n",
              "      <td>2012-10-12 02:30:00.0000000</td>\n",
              "      <td>0</td>\n",
              "    </tr>\n",
              "  </tbody>\n",
              "</table>\n",
              "</div>"
            ],
            "text/plain": [
              "       LCLid stdorToU                     DateTime KWH/hh (per half hour) \n",
              "0  MAC000002      Std  2012-10-12 00:30:00.0000000                      0 \n",
              "1  MAC000002      Std  2012-10-12 01:00:00.0000000                      0 \n",
              "2  MAC000002      Std  2012-10-12 01:30:00.0000000                      0 \n",
              "3  MAC000002      Std  2012-10-12 02:00:00.0000000                      0 \n",
              "4  MAC000002      Std  2012-10-12 02:30:00.0000000                      0 "
            ]
          },
          "execution_count": 3,
          "metadata": {},
          "output_type": "execute_result"
        }
      ],
      "source": [
        "df.head()"
      ]
    },
    {
      "cell_type": "code",
      "execution_count": null,
      "id": "78dbdca9",
      "metadata": {
        "id": "78dbdca9",
        "outputId": "b69e2a89-bb37-416e-fdfa-4499d88e9512"
      },
      "outputs": [
        {
          "name": "stdout",
          "output_type": "stream",
          "text": [
            "The number of data points in the dataset: 167932474\n"
          ]
        }
      ],
      "source": [
        "print('The number of data points in the dataset:', df.shape[0])"
      ]
    },
    {
      "cell_type": "code",
      "execution_count": null,
      "id": "458bbbc6",
      "metadata": {
        "id": "458bbbc6",
        "outputId": "519b7708-47ea-4b19-888e-4743d1ad115e"
      },
      "outputs": [
        {
          "name": "stdout",
          "output_type": "stream",
          "text": [
            "The number of data points in the dataset: 4\n"
          ]
        }
      ],
      "source": [
        "print('The number of data points in the dataset:', df.shape[1])"
      ]
    },
    {
      "cell_type": "code",
      "execution_count": null,
      "id": "a6823d15",
      "metadata": {
        "id": "a6823d15"
      },
      "outputs": [],
      "source": [
        "df = df.iloc[:2000000]"
      ]
    },
    {
      "cell_type": "code",
      "execution_count": null,
      "id": "34971353",
      "metadata": {
        "id": "34971353",
        "outputId": "a370adf9-7a1f-44e5-c380-a09662732aea"
      },
      "outputs": [
        {
          "name": "stdout",
          "output_type": "stream",
          "text": [
            "LCLid                      0\n",
            "stdorToU                   0\n",
            "DateTime                   0\n",
            "KWH/hh (per half hour)     0\n",
            "dtype: int64\n"
          ]
        }
      ],
      "source": [
        "print(df.isnull().sum())"
      ]
    },
    {
      "cell_type": "code",
      "execution_count": null,
      "id": "79762d01",
      "metadata": {
        "id": "79762d01"
      },
      "outputs": [],
      "source": [
        "df[\"Date\"] = pd.to_datetime(df[\"DateTime\"]).dt.date\n",
        "df[\"Time\"] = pd.to_datetime(df[\"DateTime\"]).dt.time\n",
        "df.drop(columns=[\"DateTime\"], inplace=True)"
      ]
    },
    {
      "cell_type": "code",
      "execution_count": null,
      "id": "306c2110",
      "metadata": {
        "id": "306c2110",
        "outputId": "eb145a8f-eeeb-4196-f32f-aa2adb97fa68"
      },
      "outputs": [
        {
          "name": "stdout",
          "output_type": "stream",
          "text": [
            "The number of data points in the dataset: 2000000\n"
          ]
        }
      ],
      "source": [
        "print('The number of data points in the dataset:', df.shape[0])"
      ]
    },
    {
      "cell_type": "code",
      "execution_count": null,
      "id": "6b6fe3ea",
      "metadata": {
        "id": "6b6fe3ea",
        "outputId": "fb0fde72-3494-4272-8cc3-84c8a7f9d535"
      },
      "outputs": [
        {
          "data": {
            "text/html": [
              "<div>\n",
              "<style scoped>\n",
              "    .dataframe tbody tr th:only-of-type {\n",
              "        vertical-align: middle;\n",
              "    }\n",
              "\n",
              "    .dataframe tbody tr th {\n",
              "        vertical-align: top;\n",
              "    }\n",
              "\n",
              "    .dataframe thead th {\n",
              "        text-align: right;\n",
              "    }\n",
              "</style>\n",
              "<table border=\"1\" class=\"dataframe\">\n",
              "  <thead>\n",
              "    <tr style=\"text-align: right;\">\n",
              "      <th></th>\n",
              "      <th>LCLid</th>\n",
              "      <th>stdorToU</th>\n",
              "      <th>KWH/hh (per half hour)</th>\n",
              "      <th>Date</th>\n",
              "      <th>Time</th>\n",
              "    </tr>\n",
              "  </thead>\n",
              "  <tbody>\n",
              "    <tr>\n",
              "      <th>0</th>\n",
              "      <td>MAC000002</td>\n",
              "      <td>Std</td>\n",
              "      <td>0</td>\n",
              "      <td>2012-10-12</td>\n",
              "      <td>00:30:00</td>\n",
              "    </tr>\n",
              "    <tr>\n",
              "      <th>1</th>\n",
              "      <td>MAC000002</td>\n",
              "      <td>Std</td>\n",
              "      <td>0</td>\n",
              "      <td>2012-10-12</td>\n",
              "      <td>01:00:00</td>\n",
              "    </tr>\n",
              "    <tr>\n",
              "      <th>2</th>\n",
              "      <td>MAC000002</td>\n",
              "      <td>Std</td>\n",
              "      <td>0</td>\n",
              "      <td>2012-10-12</td>\n",
              "      <td>01:30:00</td>\n",
              "    </tr>\n",
              "    <tr>\n",
              "      <th>3</th>\n",
              "      <td>MAC000002</td>\n",
              "      <td>Std</td>\n",
              "      <td>0</td>\n",
              "      <td>2012-10-12</td>\n",
              "      <td>02:00:00</td>\n",
              "    </tr>\n",
              "    <tr>\n",
              "      <th>4</th>\n",
              "      <td>MAC000002</td>\n",
              "      <td>Std</td>\n",
              "      <td>0</td>\n",
              "      <td>2012-10-12</td>\n",
              "      <td>02:30:00</td>\n",
              "    </tr>\n",
              "  </tbody>\n",
              "</table>\n",
              "</div>"
            ],
            "text/plain": [
              "       LCLid stdorToU KWH/hh (per half hour)         Date      Time\n",
              "0  MAC000002      Std                      0   2012-10-12  00:30:00\n",
              "1  MAC000002      Std                      0   2012-10-12  01:00:00\n",
              "2  MAC000002      Std                      0   2012-10-12  01:30:00\n",
              "3  MAC000002      Std                      0   2012-10-12  02:00:00\n",
              "4  MAC000002      Std                      0   2012-10-12  02:30:00"
            ]
          },
          "execution_count": 10,
          "metadata": {},
          "output_type": "execute_result"
        }
      ],
      "source": [
        "df.head()"
      ]
    },
    {
      "cell_type": "code",
      "execution_count": null,
      "id": "ab5d8698",
      "metadata": {
        "id": "ab5d8698",
        "outputId": "4082a1ce-cf2b-4fc7-c381-8d4690eb05b3"
      },
      "outputs": [
        {
          "name": "stdout",
          "output_type": "stream",
          "text": [
            "['LCLid', 'stdorToU', 'KWH/hh (per half hour)', 'Date', 'Time']\n"
          ]
        }
      ],
      "source": [
        "print(df.columns.tolist())"
      ]
    },
    {
      "cell_type": "code",
      "execution_count": null,
      "id": "7272a200",
      "metadata": {
        "id": "7272a200"
      },
      "outputs": [],
      "source": [
        "df.columns = df.columns.str.strip()"
      ]
    },
    {
      "cell_type": "code",
      "execution_count": null,
      "id": "9db0bf9f",
      "metadata": {
        "id": "9db0bf9f"
      },
      "outputs": [],
      "source": [
        "df[\"KWH/hh (per half hour)\"] = pd.to_numeric(df[\"KWH/hh (per half hour)\"], errors=\"coerce\")"
      ]
    },
    {
      "cell_type": "code",
      "execution_count": null,
      "id": "07a53ad4",
      "metadata": {
        "id": "07a53ad4"
      },
      "outputs": [],
      "source": [
        "dx = df.groupby(\"Date\")[\"KWH/hh (per half hour)\"].sum().reset_index()\n",
        "dx.columns = [\"Date\", \"KWH\"]"
      ]
    },
    {
      "cell_type": "code",
      "execution_count": null,
      "id": "ef199576",
      "metadata": {
        "id": "ef199576",
        "outputId": "f88679c8-15cf-4bb0-e340-5ac762f69024"
      },
      "outputs": [
        {
          "data": {
            "text/html": [
              "<div>\n",
              "<style scoped>\n",
              "    .dataframe tbody tr th:only-of-type {\n",
              "        vertical-align: middle;\n",
              "    }\n",
              "\n",
              "    .dataframe tbody tr th {\n",
              "        vertical-align: top;\n",
              "    }\n",
              "\n",
              "    .dataframe thead th {\n",
              "        text-align: right;\n",
              "    }\n",
              "</style>\n",
              "<table border=\"1\" class=\"dataframe\">\n",
              "  <thead>\n",
              "    <tr style=\"text-align: right;\">\n",
              "      <th></th>\n",
              "      <th>Date</th>\n",
              "      <th>KWH</th>\n",
              "    </tr>\n",
              "  </thead>\n",
              "  <tbody>\n",
              "    <tr>\n",
              "      <th>0</th>\n",
              "      <td>2011-12-06</td>\n",
              "      <td>2.947000</td>\n",
              "    </tr>\n",
              "    <tr>\n",
              "      <th>1</th>\n",
              "      <td>2011-12-07</td>\n",
              "      <td>143.174000</td>\n",
              "    </tr>\n",
              "    <tr>\n",
              "      <th>2</th>\n",
              "      <td>2011-12-08</td>\n",
              "      <td>365.577000</td>\n",
              "    </tr>\n",
              "    <tr>\n",
              "      <th>3</th>\n",
              "      <td>2011-12-09</td>\n",
              "      <td>502.532000</td>\n",
              "    </tr>\n",
              "    <tr>\n",
              "      <th>4</th>\n",
              "      <td>2011-12-10</td>\n",
              "      <td>637.385000</td>\n",
              "    </tr>\n",
              "    <tr>\n",
              "      <th>5</th>\n",
              "      <td>2011-12-11</td>\n",
              "      <td>670.710001</td>\n",
              "    </tr>\n",
              "    <tr>\n",
              "      <th>6</th>\n",
              "      <td>2011-12-12</td>\n",
              "      <td>614.313000</td>\n",
              "    </tr>\n",
              "    <tr>\n",
              "      <th>7</th>\n",
              "      <td>2011-12-13</td>\n",
              "      <td>570.259000</td>\n",
              "    </tr>\n",
              "    <tr>\n",
              "      <th>8</th>\n",
              "      <td>2011-12-14</td>\n",
              "      <td>627.398000</td>\n",
              "    </tr>\n",
              "    <tr>\n",
              "      <th>9</th>\n",
              "      <td>2011-12-15</td>\n",
              "      <td>643.423001</td>\n",
              "    </tr>\n",
              "    <tr>\n",
              "      <th>10</th>\n",
              "      <td>2011-12-16</td>\n",
              "      <td>643.591999</td>\n",
              "    </tr>\n",
              "    <tr>\n",
              "      <th>11</th>\n",
              "      <td>2011-12-17</td>\n",
              "      <td>611.851000</td>\n",
              "    </tr>\n",
              "    <tr>\n",
              "      <th>12</th>\n",
              "      <td>2011-12-18</td>\n",
              "      <td>654.163000</td>\n",
              "    </tr>\n",
              "    <tr>\n",
              "      <th>13</th>\n",
              "      <td>2011-12-19</td>\n",
              "      <td>667.331000</td>\n",
              "    </tr>\n",
              "    <tr>\n",
              "      <th>14</th>\n",
              "      <td>2011-12-20</td>\n",
              "      <td>660.136999</td>\n",
              "    </tr>\n",
              "    <tr>\n",
              "      <th>15</th>\n",
              "      <td>2011-12-21</td>\n",
              "      <td>646.660000</td>\n",
              "    </tr>\n",
              "    <tr>\n",
              "      <th>16</th>\n",
              "      <td>2011-12-22</td>\n",
              "      <td>554.382999</td>\n",
              "    </tr>\n",
              "    <tr>\n",
              "      <th>17</th>\n",
              "      <td>2011-12-23</td>\n",
              "      <td>587.753001</td>\n",
              "    </tr>\n",
              "    <tr>\n",
              "      <th>18</th>\n",
              "      <td>2011-12-24</td>\n",
              "      <td>573.890000</td>\n",
              "    </tr>\n",
              "    <tr>\n",
              "      <th>19</th>\n",
              "      <td>2011-12-25</td>\n",
              "      <td>566.775999</td>\n",
              "    </tr>\n",
              "  </tbody>\n",
              "</table>\n",
              "</div>"
            ],
            "text/plain": [
              "          Date         KWH\n",
              "0   2011-12-06    2.947000\n",
              "1   2011-12-07  143.174000\n",
              "2   2011-12-08  365.577000\n",
              "3   2011-12-09  502.532000\n",
              "4   2011-12-10  637.385000\n",
              "5   2011-12-11  670.710001\n",
              "6   2011-12-12  614.313000\n",
              "7   2011-12-13  570.259000\n",
              "8   2011-12-14  627.398000\n",
              "9   2011-12-15  643.423001\n",
              "10  2011-12-16  643.591999\n",
              "11  2011-12-17  611.851000\n",
              "12  2011-12-18  654.163000\n",
              "13  2011-12-19  667.331000\n",
              "14  2011-12-20  660.136999\n",
              "15  2011-12-21  646.660000\n",
              "16  2011-12-22  554.382999\n",
              "17  2011-12-23  587.753001\n",
              "18  2011-12-24  573.890000\n",
              "19  2011-12-25  566.775999"
            ]
          },
          "execution_count": 33,
          "metadata": {},
          "output_type": "execute_result"
        }
      ],
      "source": [
        "dx.head(20)"
      ]
    },
    {
      "cell_type": "code",
      "execution_count": null,
      "id": "6d26f0f5",
      "metadata": {
        "id": "6d26f0f5"
      },
      "outputs": [],
      "source": [
        "dx['Date'] = pd.to_datetime(dx['Date'], errors='coerce')"
      ]
    },
    {
      "cell_type": "code",
      "execution_count": null,
      "id": "f4c3ce1f",
      "metadata": {
        "id": "f4c3ce1f"
      },
      "outputs": [],
      "source": [
        "dx['year'] = dx['Date'].dt.year\n",
        "dx['quarter'] = dx['Date'].dt.quarter\n",
        "dx['month'] = dx['Date'].dt.month\n",
        "dx['day'] = dx['Date'].dt.day"
      ]
    },
    {
      "cell_type": "code",
      "execution_count": null,
      "id": "a95711ae",
      "metadata": {
        "id": "a95711ae",
        "outputId": "eadc769d-d767-4523-a6cb-2cf94a03104a"
      },
      "outputs": [
        {
          "data": {
            "text/html": [
              "<div>\n",
              "<style scoped>\n",
              "    .dataframe tbody tr th:only-of-type {\n",
              "        vertical-align: middle;\n",
              "    }\n",
              "\n",
              "    .dataframe tbody tr th {\n",
              "        vertical-align: top;\n",
              "    }\n",
              "\n",
              "    .dataframe thead th {\n",
              "        text-align: right;\n",
              "    }\n",
              "</style>\n",
              "<table border=\"1\" class=\"dataframe\">\n",
              "  <thead>\n",
              "    <tr style=\"text-align: right;\">\n",
              "      <th></th>\n",
              "      <th>Date</th>\n",
              "      <th>KWH</th>\n",
              "      <th>year</th>\n",
              "      <th>quarter</th>\n",
              "      <th>month</th>\n",
              "      <th>day</th>\n",
              "    </tr>\n",
              "  </thead>\n",
              "  <tbody>\n",
              "    <tr>\n",
              "      <th>0</th>\n",
              "      <td>2011-12-06</td>\n",
              "      <td>2.947</td>\n",
              "      <td>2011</td>\n",
              "      <td>4</td>\n",
              "      <td>12</td>\n",
              "      <td>6</td>\n",
              "    </tr>\n",
              "    <tr>\n",
              "      <th>1</th>\n",
              "      <td>2011-12-07</td>\n",
              "      <td>143.174</td>\n",
              "      <td>2011</td>\n",
              "      <td>4</td>\n",
              "      <td>12</td>\n",
              "      <td>7</td>\n",
              "    </tr>\n",
              "    <tr>\n",
              "      <th>2</th>\n",
              "      <td>2011-12-08</td>\n",
              "      <td>365.577</td>\n",
              "      <td>2011</td>\n",
              "      <td>4</td>\n",
              "      <td>12</td>\n",
              "      <td>8</td>\n",
              "    </tr>\n",
              "    <tr>\n",
              "      <th>3</th>\n",
              "      <td>2011-12-09</td>\n",
              "      <td>502.532</td>\n",
              "      <td>2011</td>\n",
              "      <td>4</td>\n",
              "      <td>12</td>\n",
              "      <td>9</td>\n",
              "    </tr>\n",
              "    <tr>\n",
              "      <th>4</th>\n",
              "      <td>2011-12-10</td>\n",
              "      <td>637.385</td>\n",
              "      <td>2011</td>\n",
              "      <td>4</td>\n",
              "      <td>12</td>\n",
              "      <td>10</td>\n",
              "    </tr>\n",
              "  </tbody>\n",
              "</table>\n",
              "</div>"
            ],
            "text/plain": [
              "        Date      KWH  year  quarter  month  day\n",
              "0 2011-12-06    2.947  2011        4     12    6\n",
              "1 2011-12-07  143.174  2011        4     12    7\n",
              "2 2011-12-08  365.577  2011        4     12    8\n",
              "3 2011-12-09  502.532  2011        4     12    9\n",
              "4 2011-12-10  637.385  2011        4     12   10"
            ]
          },
          "execution_count": 39,
          "metadata": {},
          "output_type": "execute_result"
        }
      ],
      "source": [
        "dx.head()"
      ]
    },
    {
      "cell_type": "code",
      "execution_count": null,
      "id": "9e9f8d9a",
      "metadata": {
        "id": "9e9f8d9a"
      },
      "outputs": [],
      "source": [
        "import calendar\n",
        "dx['month'] = dx['month'].apply(lambda x: calendar.month_name[x])"
      ]
    },
    {
      "cell_type": "code",
      "execution_count": null,
      "id": "c8708056",
      "metadata": {
        "id": "c8708056",
        "outputId": "60f7b286-e06e-48e1-a40a-059ca1bb2101"
      },
      "outputs": [
        {
          "data": {
            "text/html": [
              "<div>\n",
              "<style scoped>\n",
              "    .dataframe tbody tr th:only-of-type {\n",
              "        vertical-align: middle;\n",
              "    }\n",
              "\n",
              "    .dataframe tbody tr th {\n",
              "        vertical-align: top;\n",
              "    }\n",
              "\n",
              "    .dataframe thead th {\n",
              "        text-align: right;\n",
              "    }\n",
              "</style>\n",
              "<table border=\"1\" class=\"dataframe\">\n",
              "  <thead>\n",
              "    <tr style=\"text-align: right;\">\n",
              "      <th></th>\n",
              "      <th>Date</th>\n",
              "      <th>KWH</th>\n",
              "      <th>year</th>\n",
              "      <th>quarter</th>\n",
              "      <th>month</th>\n",
              "      <th>day</th>\n",
              "    </tr>\n",
              "  </thead>\n",
              "  <tbody>\n",
              "    <tr>\n",
              "      <th>0</th>\n",
              "      <td>2011-12-06</td>\n",
              "      <td>2.947</td>\n",
              "      <td>2011</td>\n",
              "      <td>4</td>\n",
              "      <td>December</td>\n",
              "      <td>6</td>\n",
              "    </tr>\n",
              "    <tr>\n",
              "      <th>1</th>\n",
              "      <td>2011-12-07</td>\n",
              "      <td>143.174</td>\n",
              "      <td>2011</td>\n",
              "      <td>4</td>\n",
              "      <td>December</td>\n",
              "      <td>7</td>\n",
              "    </tr>\n",
              "    <tr>\n",
              "      <th>2</th>\n",
              "      <td>2011-12-08</td>\n",
              "      <td>365.577</td>\n",
              "      <td>2011</td>\n",
              "      <td>4</td>\n",
              "      <td>December</td>\n",
              "      <td>8</td>\n",
              "    </tr>\n",
              "    <tr>\n",
              "      <th>3</th>\n",
              "      <td>2011-12-09</td>\n",
              "      <td>502.532</td>\n",
              "      <td>2011</td>\n",
              "      <td>4</td>\n",
              "      <td>December</td>\n",
              "      <td>9</td>\n",
              "    </tr>\n",
              "    <tr>\n",
              "      <th>4</th>\n",
              "      <td>2011-12-10</td>\n",
              "      <td>637.385</td>\n",
              "      <td>2011</td>\n",
              "      <td>4</td>\n",
              "      <td>December</td>\n",
              "      <td>10</td>\n",
              "    </tr>\n",
              "  </tbody>\n",
              "</table>\n",
              "</div>"
            ],
            "text/plain": [
              "        Date      KWH  year  quarter     month  day\n",
              "0 2011-12-06    2.947  2011        4  December    6\n",
              "1 2011-12-07  143.174  2011        4  December    7\n",
              "2 2011-12-08  365.577  2011        4  December    8\n",
              "3 2011-12-09  502.532  2011        4  December    9\n",
              "4 2011-12-10  637.385  2011        4  December   10"
            ]
          },
          "execution_count": 42,
          "metadata": {},
          "output_type": "execute_result"
        }
      ],
      "source": [
        "dx.head()"
      ]
    },
    {
      "cell_type": "code",
      "execution_count": null,
      "id": "b11d7e25",
      "metadata": {
        "id": "b11d7e25",
        "outputId": "abf02dd7-67b1-4153-ec3a-a3e7bbbaeb0b"
      },
      "outputs": [
        {
          "data": {
            "text/html": [
              "<div>\n",
              "<style scoped>\n",
              "    .dataframe tbody tr th:only-of-type {\n",
              "        vertical-align: middle;\n",
              "    }\n",
              "\n",
              "    .dataframe tbody tr th {\n",
              "        vertical-align: top;\n",
              "    }\n",
              "\n",
              "    .dataframe thead th {\n",
              "        text-align: right;\n",
              "    }\n",
              "</style>\n",
              "<table border=\"1\" class=\"dataframe\">\n",
              "  <thead>\n",
              "    <tr style=\"text-align: right;\">\n",
              "      <th></th>\n",
              "      <th>Date</th>\n",
              "      <th>KWH</th>\n",
              "      <th>year</th>\n",
              "      <th>quarter</th>\n",
              "      <th>month</th>\n",
              "      <th>day</th>\n",
              "    </tr>\n",
              "  </thead>\n",
              "  <tbody>\n",
              "    <tr>\n",
              "      <th>811</th>\n",
              "      <td>2014-02-24</td>\n",
              "      <td>620.515001</td>\n",
              "      <td>2014</td>\n",
              "      <td>1</td>\n",
              "      <td>February</td>\n",
              "      <td>24</td>\n",
              "    </tr>\n",
              "    <tr>\n",
              "      <th>812</th>\n",
              "      <td>2014-02-25</td>\n",
              "      <td>575.761001</td>\n",
              "      <td>2014</td>\n",
              "      <td>1</td>\n",
              "      <td>February</td>\n",
              "      <td>25</td>\n",
              "    </tr>\n",
              "    <tr>\n",
              "      <th>813</th>\n",
              "      <td>2014-02-26</td>\n",
              "      <td>602.744000</td>\n",
              "      <td>2014</td>\n",
              "      <td>1</td>\n",
              "      <td>February</td>\n",
              "      <td>26</td>\n",
              "    </tr>\n",
              "    <tr>\n",
              "      <th>814</th>\n",
              "      <td>2014-02-27</td>\n",
              "      <td>605.165001</td>\n",
              "      <td>2014</td>\n",
              "      <td>1</td>\n",
              "      <td>February</td>\n",
              "      <td>27</td>\n",
              "    </tr>\n",
              "    <tr>\n",
              "      <th>815</th>\n",
              "      <td>2014-02-28</td>\n",
              "      <td>41.394000</td>\n",
              "      <td>2014</td>\n",
              "      <td>1</td>\n",
              "      <td>February</td>\n",
              "      <td>28</td>\n",
              "    </tr>\n",
              "  </tbody>\n",
              "</table>\n",
              "</div>"
            ],
            "text/plain": [
              "          Date         KWH  year  quarter     month  day\n",
              "811 2014-02-24  620.515001  2014        1  February   24\n",
              "812 2014-02-25  575.761001  2014        1  February   25\n",
              "813 2014-02-26  602.744000  2014        1  February   26\n",
              "814 2014-02-27  605.165001  2014        1  February   27\n",
              "815 2014-02-28   41.394000  2014        1  February   28"
            ]
          },
          "execution_count": 45,
          "metadata": {},
          "output_type": "execute_result"
        }
      ],
      "source": [
        "dx.tail()"
      ]
    },
    {
      "cell_type": "code",
      "execution_count": null,
      "id": "c181b549",
      "metadata": {
        "id": "c181b549",
        "outputId": "d3afec5d-ee50-489d-f8cd-b757c34603e3"
      },
      "outputs": [
        {
          "data": {
            "text/plain": [
              "count    816.000000\n",
              "mean     586.107567\n",
              "std      125.938950\n",
              "min        2.947000\n",
              "25%      482.893750\n",
              "50%      564.665500\n",
              "75%      668.310750\n",
              "max      942.200000\n",
              "Name: KWH, dtype: float64"
            ]
          },
          "execution_count": 47,
          "metadata": {},
          "output_type": "execute_result"
        }
      ],
      "source": [
        "dx.KWH.describe()"
      ]
    },
    {
      "cell_type": "code",
      "execution_count": null,
      "id": "9f4742fe",
      "metadata": {
        "id": "9f4742fe",
        "outputId": "67f581e9-8375-4fff-f8bc-e86b83d16332"
      },
      "outputs": [
        {
          "data": {
            "image/png": "[encoded data removed]",
            "text/plain": [
              "<Figure size 720x432 with 1 Axes>"
            ]
          },
          "metadata": {
            "needs_background": "light"
          },
          "output_type": "display_data"
        }
      ],
      "source": [
        "plt.figure(figsize=(10, 6))\n",
        "sns.boxplot(x='year', y='KWH', data=dx, palette='Set2')\n",
        "plt.title(\"KWH Consumption Distribution by Year\", fontsize=14)\n",
        "plt.xlabel(\"Year\", fontsize=12)\n",
        "plt.ylabel(\"KWH Consumption\", fontsize=12)\n",
        "plt.tight_layout()\n",
        "plt.show()"
      ]
    },
    {
      "cell_type": "code",
      "execution_count": null,
      "id": "8a5884b0",
      "metadata": {
        "id": "8a5884b0"
      },
      "outputs": [],
      "source": [
        "Q1 = dx['KWH'].quantile(0.25)\n",
        "Q3 = dx['KWH'].quantile(0.75)\n",
        "IQR = Q3 - Q1\n",
        "lower_bound = Q1 - 1.5 * IQR\n",
        "upper_bound = Q3 + 1.5 * IQR\n",
        "dx = dx[(dx['KWH'] >= lower_bound) & (dx['KWH'] <= upper_bound)]"
      ]
    },
    {
      "cell_type": "code",
      "execution_count": null,
      "id": "6f8e723f",
      "metadata": {
        "id": "6f8e723f",
        "outputId": "b9a163de-207f-4ea9-f7f5-ebf2b5c5a811"
      },
      "outputs": [
        {
          "data": {
            "image/png": "[encoded data removed]",
            "text/plain": [
              "<Figure size 720x432 with 1 Axes>"
            ]
          },
          "metadata": {
            "needs_background": "light"
          },
          "output_type": "display_data"
        }
      ],
      "source": [
        "plt.figure(figsize=(10, 6))\n",
        "sns.boxplot(x='year', y='KWH', data=dx, palette='Set2')\n",
        "plt.title(\"KWH Consumption Distribution by Year\", fontsize=14)\n",
        "plt.xlabel(\"Year\", fontsize=12)\n",
        "plt.ylabel(\"KWH Consumption\", fontsize=12)\n",
        "plt.tight_layout()\n",
        "plt.show()"
      ]
    },
    {
      "cell_type": "code",
      "execution_count": null,
      "id": "97b1615a",
      "metadata": {
        "id": "97b1615a",
        "outputId": "99784014-b102-4b3e-d5b4-e7eace574a9e"
      },
      "outputs": [
        {
          "data": {
            "image/png": "[encoded data removed]",
            "text/plain": [
              "<Figure size 720x432 with 1 Axes>"
            ]
          },
          "metadata": {
            "needs_background": "light"
          },
          "output_type": "display_data"
        }
      ],
      "source": [
        "yearly_avg = dx.groupby('year')['KWH'].mean()\n",
        "plt.figure(figsize=(10, 6))\n",
        "yearly_avg.plot(kind='bar', color='c', edgecolor='black')\n",
        "overall_avg = dx['KWH'].mean()\n",
        "plt.axhline(y=overall_avg, color='black', linestyle='--', label=f\"Avg Consumption: {overall_avg:.2f} KWH\")\n",
        "plt.text(len(yearly_avg) - 1, overall_avg + 0.05, f\"Avg: {overall_avg:.2f}\", color='black', fontsize=12, ha='center')\n",
        "plt.title(\"Average Consumption by Year\", fontsize=14)\n",
        "plt.xlabel(\"Year\", fontsize=12)\n",
        "plt.ylabel(\"Average KWH\", fontsize=12)\n",
        "plt.grid(visible=True, linestyle='--', alpha=0.7)\n",
        "plt.legend()\n",
        "plt.tight_layout()\n",
        "plt.show()"
      ]
    },
    {
      "cell_type": "code",
      "execution_count": null,
      "id": "9b8de182",
      "metadata": {
        "id": "9b8de182",
        "outputId": "7b9b027e-1892-40e4-8a00-22a96b01fd02"
      },
      "outputs": [
        {
          "data": {
            "image/png": "[encoded data removed]",
            "text/plain": [
              "<Figure size 720x432 with 1 Axes>"
            ]
          },
          "metadata": {
            "needs_background": "light"
          },
          "output_type": "display_data"
        }
      ],
      "source": [
        "overall_avg = dx[\"KWH\"].mean()\n",
        "plt.figure(figsize=(10, 6))\n",
        "monthly_avg.plot(kind='line', marker='o', color='b')\n",
        "plt.axhline(y=overall_avg, color='black', linestyle='--', label=f\"Avg Consumption: {overall_avg:.2f} KWH\")\n",
        "plt.title(\"Average Consumption by Month\", fontsize=14)\n",
        "plt.xlabel(\"Month\", fontsize=12)\n",
        "plt.ylabel(\"Average KWH\", fontsize=12)\n",
        "plt.xticks(rotation=45)\n",
        "plt.grid(visible=True, linestyle='--', alpha=0.7)\n",
        "plt.text(0.5, overall_avg + 0.05, f\"Avg: {overall_avg:.2f}\", color='black', fontsize=12, ha='center')\n",
        "plt.legend()\n",
        "plt.tight_layout()\n",
        "plt.show()"
      ]
    },
    {
      "cell_type": "code",
      "execution_count": null,
      "id": "aca1bfa0",
      "metadata": {
        "id": "aca1bfa0",
        "outputId": "38aa117a-7f00-4e79-f0bc-a1bc34b285d8"
      },
      "outputs": [
        {
          "data": {
            "image/png": "[encoded data removed]",
            "text/plain": [
              "<Figure size 720x432 with 1 Axes>"
            ]
          },
          "metadata": {
            "needs_background": "light"
          },
          "output_type": "display_data"
        }
      ],
      "source": [
        "daily_avg = dx.groupby(\"day\")[\"KWH\"].mean()\n",
        "overall_avg_day = dx[\"KWH\"].mean()\n",
        "plt.figure(figsize=(10, 6))\n",
        "daily_avg.plot(kind='line', marker='o', color='b')\n",
        "plt.axhline(y=overall_avg_day, color='black', linestyle='--', label=f\"Avg Consumption: {overall_avg_day:.2f} KWH\")\n",
        "plt.title(\"Average Consumption by Day\", fontsize=14)\n",
        "plt.xlabel(\"Day of the Month\", fontsize=12)\n",
        "plt.ylabel(\"Average KWH\", fontsize=12)\n",
        "plt.xticks(rotation=45)\n",
        "plt.grid(visible=True, linestyle='--', alpha=0.7)\n",
        "plt.text(15, overall_avg_day + 0.05, f\"Avg: {overall_avg_day:.2f}\", color='black', fontsize=12, ha='center')\n",
        "plt.legend()\n",
        "plt.tight_layout()\n",
        "plt.show()"
      ]
    },
    {
      "cell_type": "code",
      "execution_count": null,
      "id": "6d15994f",
      "metadata": {
        "id": "6d15994f"
      },
      "outputs": [],
      "source": []
    }
  ],
  "metadata": {
    "kernelspec": {
      "display_name": "Python 3",
      "language": "python",
      "name": "python3"
    },
    "language_info": {
      "codemirror_mode": {
        "name": "ipython",
        "version": 3
      },
      "file_extension": ".py",
      "mimetype": "text/x-python",
      "name": "python",
      "nbconvert_exporter": "python",
      "pygments_lexer": "ipython3",
      "version": "3.8.8"
    },
    "colab": {
      "provenance": [],
      "include_colab_link": true
    }
  },
  "nbformat": 4,
  "nbformat_minor": 5
}