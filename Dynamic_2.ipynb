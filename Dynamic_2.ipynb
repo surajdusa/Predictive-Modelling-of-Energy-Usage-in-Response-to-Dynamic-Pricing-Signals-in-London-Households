{
  "cells": [
    {
      "cell_type": "markdown",
      "metadata": {
        "id": "view-in-github",
        "colab_type": "text"
      },
      "source": [
        "<a href=\"https://colab.research.google.com/github/surajdusa/Predictive-Modelling-of-Energy-Usage-in-Response-to-Dynamic-Pricing-Signals-in-London-Households/blob/main/Dynamic_2.ipynb\" target=\"_parent\"><img src=\"https://colab.research.google.com/assets/colab-badge.svg\" alt=\"Open In Colab\"/></a>"
      ]
    },
    {
      "cell_type": "code",
      "execution_count": null,
      "id": "847355b0",
      "metadata": {
        "id": "847355b0"
      },
      "outputs": [],
      "source": [
        "import pandas as pd\n",
        "import numpy as np\n",
        "import os\n",
        "import matplotlib.pyplot as plt\n",
        "%matplotlib inline\n",
        "import seaborn as sns\n",
        "import warnings\n",
        "warnings.filterwarnings('ignore')"
      ]
    },
    {
      "cell_type": "code",
      "execution_count": null,
      "id": "05d92fd8",
      "metadata": {
        "id": "05d92fd8"
      },
      "outputs": [],
      "source": [
        "df = pd.read_csv('CC_LCL-FullData.csv')"
      ]
    },
    {
      "cell_type": "code",
      "execution_count": null,
      "id": "e8dc5444",
      "metadata": {
        "id": "e8dc5444",
        "outputId": "80cbd817-b090-49e1-8cda-ec764a13f1dc"
      },
      "outputs": [
        {
          "data": {
            "text/html": [
              "<div>\n",
              "<style scoped>\n",
              "    .dataframe tbody tr th:only-of-type {\n",
              "        vertical-align: middle;\n",
              "    }\n",
              "\n",
              "    .dataframe tbody tr th {\n",
              "        vertical-align: top;\n",
              "    }\n",
              "\n",
              "    .dataframe thead th {\n",
              "        text-align: right;\n",
              "    }\n",
              "</style>\n",
              "<table border=\"1\" class=\"dataframe\">\n",
              "  <thead>\n",
              "    <tr style=\"text-align: right;\">\n",
              "      <th></th>\n",
              "      <th>LCLid</th>\n",
              "      <th>stdorToU</th>\n",
              "      <th>DateTime</th>\n",
              "      <th>KWH/hh (per half hour)</th>\n",
              "    </tr>\n",
              "  </thead>\n",
              "  <tbody>\n",
              "    <tr>\n",
              "      <th>0</th>\n",
              "      <td>MAC000002</td>\n",
              "      <td>Std</td>\n",
              "      <td>2012-10-12 00:30:00.0000000</td>\n",
              "      <td>0</td>\n",
              "    </tr>\n",
              "    <tr>\n",
              "      <th>1</th>\n",
              "      <td>MAC000002</td>\n",
              "      <td>Std</td>\n",
              "      <td>2012-10-12 01:00:00.0000000</td>\n",
              "      <td>0</td>\n",
              "    </tr>\n",
              "    <tr>\n",
              "      <th>2</th>\n",
              "      <td>MAC000002</td>\n",
              "      <td>Std</td>\n",
              "      <td>2012-10-12 01:30:00.0000000</td>\n",
              "      <td>0</td>\n",
              "    </tr>\n",
              "    <tr>\n",
              "      <th>3</th>\n",
              "      <td>MAC000002</td>\n",
              "      <td>Std</td>\n",
              "      <td>2012-10-12 02:00:00.0000000</td>\n",
              "      <td>0</td>\n",
              "    </tr>\n",
              "    <tr>\n",
              "      <th>4</th>\n",
              "      <td>MAC000002</td>\n",
              "      <td>Std</td>\n",
              "      <td>2012-10-12 02:30:00.0000000</td>\n",
              "      <td>0</td>\n",
              "    </tr>\n",
              "  </tbody>\n",
              "</table>\n",
              "</div>"
            ],
            "text/plain": [
              "       LCLid stdorToU                     DateTime KWH/hh (per half hour) \n",
              "0  MAC000002      Std  2012-10-12 00:30:00.0000000                      0 \n",
              "1  MAC000002      Std  2012-10-12 01:00:00.0000000                      0 \n",
              "2  MAC000002      Std  2012-10-12 01:30:00.0000000                      0 \n",
              "3  MAC000002      Std  2012-10-12 02:00:00.0000000                      0 \n",
              "4  MAC000002      Std  2012-10-12 02:30:00.0000000                      0 "
            ]
          },
          "execution_count": 3,
          "metadata": {},
          "output_type": "execute_result"
        }
      ],
      "source": [
        "df.head()"
      ]
    },
    {
      "cell_type": "code",
      "execution_count": null,
      "id": "78dbdca9",
      "metadata": {
        "id": "78dbdca9",
        "outputId": "638bea76-c4c9-49f4-ceb8-8511c5378cff"
      },
      "outputs": [
        {
          "name": "stdout",
          "output_type": "stream",
          "text": [
            "The number of data points in the dataset: 167932474\n"
          ]
        }
      ],
      "source": [
        "print('The number of data points in the dataset:', df.shape[0])"
      ]
    },
    {
      "cell_type": "code",
      "execution_count": null,
      "id": "458bbbc6",
      "metadata": {
        "id": "458bbbc6",
        "outputId": "823d6b48-3d4b-4730-c313-1250f692d529"
      },
      "outputs": [
        {
          "name": "stdout",
          "output_type": "stream",
          "text": [
            "The number of data points in the dataset: 4\n"
          ]
        }
      ],
      "source": [
        "print('The number of data points in the dataset:', df.shape[1])"
      ]
    },
    {
      "cell_type": "code",
      "execution_count": null,
      "id": "a6823d15",
      "metadata": {
        "id": "a6823d15"
      },
      "outputs": [],
      "source": [
        "df = df.iloc[:2000000]"
      ]
    },
    {
      "cell_type": "code",
      "execution_count": null,
      "id": "34971353",
      "metadata": {
        "id": "34971353",
        "outputId": "8b9409bf-70af-455d-f8fe-cdaf301cf08b"
      },
      "outputs": [
        {
          "name": "stdout",
          "output_type": "stream",
          "text": [
            "LCLid                      0\n",
            "stdorToU                   0\n",
            "DateTime                   0\n",
            "KWH/hh (per half hour)     0\n",
            "dtype: int64\n"
          ]
        }
      ],
      "source": [
        "print(df.isnull().sum())"
      ]
    },
    {
      "cell_type": "code",
      "execution_count": null,
      "id": "79762d01",
      "metadata": {
        "id": "79762d01"
      },
      "outputs": [],
      "source": [
        "df[\"Date\"] = pd.to_datetime(df[\"DateTime\"]).dt.date\n",
        "df[\"Time\"] = pd.to_datetime(df[\"DateTime\"]).dt.time\n",
        "df.drop(columns=[\"DateTime\"], inplace=True)"
      ]
    },
    {
      "cell_type": "code",
      "execution_count": null,
      "id": "306c2110",
      "metadata": {
        "id": "306c2110",
        "outputId": "a09d55c2-35a9-4d37-e95c-5e3e7e11e0aa"
      },
      "outputs": [
        {
          "name": "stdout",
          "output_type": "stream",
          "text": [
            "The number of data points in the dataset: 2000000\n"
          ]
        }
      ],
      "source": [
        "print('The number of data points in the dataset:', df.shape[0])"
      ]
    },
    {
      "cell_type": "code",
      "execution_count": null,
      "id": "6b6fe3ea",
      "metadata": {
        "id": "6b6fe3ea",
        "outputId": "3a6be503-5f9d-4917-8d9d-874044cafd46"
      },
      "outputs": [
        {
          "data": {
            "text/html": [
              "<div>\n",
              "<style scoped>\n",
              "    .dataframe tbody tr th:only-of-type {\n",
              "        vertical-align: middle;\n",
              "    }\n",
              "\n",
              "    .dataframe tbody tr th {\n",
              "        vertical-align: top;\n",
              "    }\n",
              "\n",
              "    .dataframe thead th {\n",
              "        text-align: right;\n",
              "    }\n",
              "</style>\n",
              "<table border=\"1\" class=\"dataframe\">\n",
              "  <thead>\n",
              "    <tr style=\"text-align: right;\">\n",
              "      <th></th>\n",
              "      <th>LCLid</th>\n",
              "      <th>stdorToU</th>\n",
              "      <th>KWH/hh (per half hour)</th>\n",
              "      <th>Date</th>\n",
              "      <th>Time</th>\n",
              "    </tr>\n",
              "  </thead>\n",
              "  <tbody>\n",
              "    <tr>\n",
              "      <th>0</th>\n",
              "      <td>MAC000002</td>\n",
              "      <td>Std</td>\n",
              "      <td>0</td>\n",
              "      <td>2012-10-12</td>\n",
              "      <td>00:30:00</td>\n",
              "    </tr>\n",
              "    <tr>\n",
              "      <th>1</th>\n",
              "      <td>MAC000002</td>\n",
              "      <td>Std</td>\n",
              "      <td>0</td>\n",
              "      <td>2012-10-12</td>\n",
              "      <td>01:00:00</td>\n",
              "    </tr>\n",
              "    <tr>\n",
              "      <th>2</th>\n",
              "      <td>MAC000002</td>\n",
              "      <td>Std</td>\n",
              "      <td>0</td>\n",
              "      <td>2012-10-12</td>\n",
              "      <td>01:30:00</td>\n",
              "    </tr>\n",
              "    <tr>\n",
              "      <th>3</th>\n",
              "      <td>MAC000002</td>\n",
              "      <td>Std</td>\n",
              "      <td>0</td>\n",
              "      <td>2012-10-12</td>\n",
              "      <td>02:00:00</td>\n",
              "    </tr>\n",
              "    <tr>\n",
              "      <th>4</th>\n",
              "      <td>MAC000002</td>\n",
              "      <td>Std</td>\n",
              "      <td>0</td>\n",
              "      <td>2012-10-12</td>\n",
              "      <td>02:30:00</td>\n",
              "    </tr>\n",
              "  </tbody>\n",
              "</table>\n",
              "</div>"
            ],
            "text/plain": [
              "       LCLid stdorToU KWH/hh (per half hour)         Date      Time\n",
              "0  MAC000002      Std                      0   2012-10-12  00:30:00\n",
              "1  MAC000002      Std                      0   2012-10-12  01:00:00\n",
              "2  MAC000002      Std                      0   2012-10-12  01:30:00\n",
              "3  MAC000002      Std                      0   2012-10-12  02:00:00\n",
              "4  MAC000002      Std                      0   2012-10-12  02:30:00"
            ]
          },
          "execution_count": 10,
          "metadata": {},
          "output_type": "execute_result"
        }
      ],
      "source": [
        "df.head()"
      ]
    },
    {
      "cell_type": "code",
      "execution_count": null,
      "id": "ab5d8698",
      "metadata": {
        "id": "ab5d8698",
        "outputId": "d8670c3a-3992-4840-a06d-265953cc2e7e"
      },
      "outputs": [
        {
          "name": "stdout",
          "output_type": "stream",
          "text": [
            "['LCLid', 'stdorToU', 'KWH/hh (per half hour) ', 'Date', 'Time']\n"
          ]
        }
      ],
      "source": [
        "print(df.columns.tolist())"
      ]
    },
    {
      "cell_type": "code",
      "execution_count": null,
      "id": "7272a200",
      "metadata": {
        "id": "7272a200"
      },
      "outputs": [],
      "source": [
        "df.columns = df.columns.str.strip()"
      ]
    },
    {
      "cell_type": "code",
      "execution_count": null,
      "id": "9db0bf9f",
      "metadata": {
        "id": "9db0bf9f"
      },
      "outputs": [],
      "source": [
        "df[\"KWH/hh (per half hour)\"] = pd.to_numeric(df[\"KWH/hh (per half hour)\"], errors=\"coerce\")"
      ]
    },
    {
      "cell_type": "code",
      "execution_count": null,
      "id": "07a53ad4",
      "metadata": {
        "id": "07a53ad4"
      },
      "outputs": [],
      "source": [
        "dx = df.groupby(\"Date\")[\"KWH/hh (per half hour)\"].sum().reset_index()\n",
        "dx.columns = [\"Date\", \"KWH\"]"
      ]
    },
    {
      "cell_type": "code",
      "execution_count": null,
      "id": "ef199576",
      "metadata": {
        "id": "ef199576",
        "outputId": "10399972-f142-43e3-d05f-b34301927efa"
      },
      "outputs": [
        {
          "data": {
            "text/html": [
              "<div>\n",
              "<style scoped>\n",
              "    .dataframe tbody tr th:only-of-type {\n",
              "        vertical-align: middle;\n",
              "    }\n",
              "\n",
              "    .dataframe tbody tr th {\n",
              "        vertical-align: top;\n",
              "    }\n",
              "\n",
              "    .dataframe thead th {\n",
              "        text-align: right;\n",
              "    }\n",
              "</style>\n",
              "<table border=\"1\" class=\"dataframe\">\n",
              "  <thead>\n",
              "    <tr style=\"text-align: right;\">\n",
              "      <th></th>\n",
              "      <th>Date</th>\n",
              "      <th>KWH</th>\n",
              "    </tr>\n",
              "  </thead>\n",
              "  <tbody>\n",
              "    <tr>\n",
              "      <th>0</th>\n",
              "      <td>2011-12-06</td>\n",
              "      <td>2.947000</td>\n",
              "    </tr>\n",
              "    <tr>\n",
              "      <th>1</th>\n",
              "      <td>2011-12-07</td>\n",
              "      <td>143.174000</td>\n",
              "    </tr>\n",
              "    <tr>\n",
              "      <th>2</th>\n",
              "      <td>2011-12-08</td>\n",
              "      <td>365.577000</td>\n",
              "    </tr>\n",
              "    <tr>\n",
              "      <th>3</th>\n",
              "      <td>2011-12-09</td>\n",
              "      <td>502.532000</td>\n",
              "    </tr>\n",
              "    <tr>\n",
              "      <th>4</th>\n",
              "      <td>2011-12-10</td>\n",
              "      <td>637.385000</td>\n",
              "    </tr>\n",
              "    <tr>\n",
              "      <th>5</th>\n",
              "      <td>2011-12-11</td>\n",
              "      <td>670.710001</td>\n",
              "    </tr>\n",
              "    <tr>\n",
              "      <th>6</th>\n",
              "      <td>2011-12-12</td>\n",
              "      <td>614.313000</td>\n",
              "    </tr>\n",
              "    <tr>\n",
              "      <th>7</th>\n",
              "      <td>2011-12-13</td>\n",
              "      <td>570.259000</td>\n",
              "    </tr>\n",
              "    <tr>\n",
              "      <th>8</th>\n",
              "      <td>2011-12-14</td>\n",
              "      <td>627.398000</td>\n",
              "    </tr>\n",
              "    <tr>\n",
              "      <th>9</th>\n",
              "      <td>2011-12-15</td>\n",
              "      <td>643.423001</td>\n",
              "    </tr>\n",
              "    <tr>\n",
              "      <th>10</th>\n",
              "      <td>2011-12-16</td>\n",
              "      <td>643.591999</td>\n",
              "    </tr>\n",
              "    <tr>\n",
              "      <th>11</th>\n",
              "      <td>2011-12-17</td>\n",
              "      <td>611.851000</td>\n",
              "    </tr>\n",
              "    <tr>\n",
              "      <th>12</th>\n",
              "      <td>2011-12-18</td>\n",
              "      <td>654.163000</td>\n",
              "    </tr>\n",
              "    <tr>\n",
              "      <th>13</th>\n",
              "      <td>2011-12-19</td>\n",
              "      <td>667.331000</td>\n",
              "    </tr>\n",
              "    <tr>\n",
              "      <th>14</th>\n",
              "      <td>2011-12-20</td>\n",
              "      <td>660.136999</td>\n",
              "    </tr>\n",
              "    <tr>\n",
              "      <th>15</th>\n",
              "      <td>2011-12-21</td>\n",
              "      <td>646.660000</td>\n",
              "    </tr>\n",
              "    <tr>\n",
              "      <th>16</th>\n",
              "      <td>2011-12-22</td>\n",
              "      <td>554.382999</td>\n",
              "    </tr>\n",
              "    <tr>\n",
              "      <th>17</th>\n",
              "      <td>2011-12-23</td>\n",
              "      <td>587.753001</td>\n",
              "    </tr>\n",
              "    <tr>\n",
              "      <th>18</th>\n",
              "      <td>2011-12-24</td>\n",
              "      <td>573.890000</td>\n",
              "    </tr>\n",
              "    <tr>\n",
              "      <th>19</th>\n",
              "      <td>2011-12-25</td>\n",
              "      <td>566.775999</td>\n",
              "    </tr>\n",
              "  </tbody>\n",
              "</table>\n",
              "</div>"
            ],
            "text/plain": [
              "          Date         KWH\n",
              "0   2011-12-06    2.947000\n",
              "1   2011-12-07  143.174000\n",
              "2   2011-12-08  365.577000\n",
              "3   2011-12-09  502.532000\n",
              "4   2011-12-10  637.385000\n",
              "5   2011-12-11  670.710001\n",
              "6   2011-12-12  614.313000\n",
              "7   2011-12-13  570.259000\n",
              "8   2011-12-14  627.398000\n",
              "9   2011-12-15  643.423001\n",
              "10  2011-12-16  643.591999\n",
              "11  2011-12-17  611.851000\n",
              "12  2011-12-18  654.163000\n",
              "13  2011-12-19  667.331000\n",
              "14  2011-12-20  660.136999\n",
              "15  2011-12-21  646.660000\n",
              "16  2011-12-22  554.382999\n",
              "17  2011-12-23  587.753001\n",
              "18  2011-12-24  573.890000\n",
              "19  2011-12-25  566.775999"
            ]
          },
          "execution_count": 53,
          "metadata": {},
          "output_type": "execute_result"
        }
      ],
      "source": [
        "dx.head(20)"
      ]
    },
    {
      "cell_type": "code",
      "execution_count": null,
      "id": "6d26f0f5",
      "metadata": {
        "id": "6d26f0f5"
      },
      "outputs": [],
      "source": [
        "dx['Date'] = pd.to_datetime(dx['Date'], errors='coerce')"
      ]
    },
    {
      "cell_type": "code",
      "execution_count": null,
      "id": "f4c3ce1f",
      "metadata": {
        "id": "f4c3ce1f"
      },
      "outputs": [],
      "source": [
        "dx['year'] = dx['Date'].dt.year\n",
        "dx['quarter'] = dx['Date'].dt.quarter\n",
        "dx['month'] = dx['Date'].dt.month\n",
        "dx['day'] = dx['Date'].dt.day"
      ]
    },
    {
      "cell_type": "code",
      "execution_count": null,
      "id": "a95711ae",
      "metadata": {
        "id": "a95711ae",
        "outputId": "50385070-21d5-4f5a-a785-ad382dff09d9"
      },
      "outputs": [
        {
          "data": {
            "text/html": [
              "<div>\n",
              "<style scoped>\n",
              "    .dataframe tbody tr th:only-of-type {\n",
              "        vertical-align: middle;\n",
              "    }\n",
              "\n",
              "    .dataframe tbody tr th {\n",
              "        vertical-align: top;\n",
              "    }\n",
              "\n",
              "    .dataframe thead th {\n",
              "        text-align: right;\n",
              "    }\n",
              "</style>\n",
              "<table border=\"1\" class=\"dataframe\">\n",
              "  <thead>\n",
              "    <tr style=\"text-align: right;\">\n",
              "      <th></th>\n",
              "      <th>Date</th>\n",
              "      <th>KWH</th>\n",
              "      <th>year</th>\n",
              "      <th>quarter</th>\n",
              "      <th>month</th>\n",
              "      <th>day</th>\n",
              "    </tr>\n",
              "  </thead>\n",
              "  <tbody>\n",
              "    <tr>\n",
              "      <th>0</th>\n",
              "      <td>2011-12-06</td>\n",
              "      <td>2.947</td>\n",
              "      <td>2011</td>\n",
              "      <td>4</td>\n",
              "      <td>12</td>\n",
              "      <td>6</td>\n",
              "    </tr>\n",
              "    <tr>\n",
              "      <th>1</th>\n",
              "      <td>2011-12-07</td>\n",
              "      <td>143.174</td>\n",
              "      <td>2011</td>\n",
              "      <td>4</td>\n",
              "      <td>12</td>\n",
              "      <td>7</td>\n",
              "    </tr>\n",
              "    <tr>\n",
              "      <th>2</th>\n",
              "      <td>2011-12-08</td>\n",
              "      <td>365.577</td>\n",
              "      <td>2011</td>\n",
              "      <td>4</td>\n",
              "      <td>12</td>\n",
              "      <td>8</td>\n",
              "    </tr>\n",
              "    <tr>\n",
              "      <th>3</th>\n",
              "      <td>2011-12-09</td>\n",
              "      <td>502.532</td>\n",
              "      <td>2011</td>\n",
              "      <td>4</td>\n",
              "      <td>12</td>\n",
              "      <td>9</td>\n",
              "    </tr>\n",
              "    <tr>\n",
              "      <th>4</th>\n",
              "      <td>2011-12-10</td>\n",
              "      <td>637.385</td>\n",
              "      <td>2011</td>\n",
              "      <td>4</td>\n",
              "      <td>12</td>\n",
              "      <td>10</td>\n",
              "    </tr>\n",
              "  </tbody>\n",
              "</table>\n",
              "</div>"
            ],
            "text/plain": [
              "        Date      KWH  year  quarter  month  day\n",
              "0 2011-12-06    2.947  2011        4     12    6\n",
              "1 2011-12-07  143.174  2011        4     12    7\n",
              "2 2011-12-08  365.577  2011        4     12    8\n",
              "3 2011-12-09  502.532  2011        4     12    9\n",
              "4 2011-12-10  637.385  2011        4     12   10"
            ]
          },
          "execution_count": 56,
          "metadata": {},
          "output_type": "execute_result"
        }
      ],
      "source": [
        "dx.head()"
      ]
    },
    {
      "cell_type": "code",
      "execution_count": null,
      "id": "9e9f8d9a",
      "metadata": {
        "id": "9e9f8d9a"
      },
      "outputs": [],
      "source": [
        "import calendar\n",
        "dx['month'] = dx['month'].apply(lambda x: calendar.month_name[x])"
      ]
    },
    {
      "cell_type": "code",
      "execution_count": null,
      "id": "c8708056",
      "metadata": {
        "id": "c8708056",
        "outputId": "d0ad2724-bcb1-4ffe-f06e-e2dd1a3ac33b"
      },
      "outputs": [
        {
          "data": {
            "text/html": [
              "<div>\n",
              "<style scoped>\n",
              "    .dataframe tbody tr th:only-of-type {\n",
              "        vertical-align: middle;\n",
              "    }\n",
              "\n",
              "    .dataframe tbody tr th {\n",
              "        vertical-align: top;\n",
              "    }\n",
              "\n",
              "    .dataframe thead th {\n",
              "        text-align: right;\n",
              "    }\n",
              "</style>\n",
              "<table border=\"1\" class=\"dataframe\">\n",
              "  <thead>\n",
              "    <tr style=\"text-align: right;\">\n",
              "      <th></th>\n",
              "      <th>Date</th>\n",
              "      <th>KWH</th>\n",
              "      <th>year</th>\n",
              "      <th>quarter</th>\n",
              "      <th>month</th>\n",
              "      <th>day</th>\n",
              "    </tr>\n",
              "  </thead>\n",
              "  <tbody>\n",
              "    <tr>\n",
              "      <th>0</th>\n",
              "      <td>2011-12-06</td>\n",
              "      <td>2.947</td>\n",
              "      <td>2011</td>\n",
              "      <td>4</td>\n",
              "      <td>December</td>\n",
              "      <td>6</td>\n",
              "    </tr>\n",
              "    <tr>\n",
              "      <th>1</th>\n",
              "      <td>2011-12-07</td>\n",
              "      <td>143.174</td>\n",
              "      <td>2011</td>\n",
              "      <td>4</td>\n",
              "      <td>December</td>\n",
              "      <td>7</td>\n",
              "    </tr>\n",
              "    <tr>\n",
              "      <th>2</th>\n",
              "      <td>2011-12-08</td>\n",
              "      <td>365.577</td>\n",
              "      <td>2011</td>\n",
              "      <td>4</td>\n",
              "      <td>December</td>\n",
              "      <td>8</td>\n",
              "    </tr>\n",
              "    <tr>\n",
              "      <th>3</th>\n",
              "      <td>2011-12-09</td>\n",
              "      <td>502.532</td>\n",
              "      <td>2011</td>\n",
              "      <td>4</td>\n",
              "      <td>December</td>\n",
              "      <td>9</td>\n",
              "    </tr>\n",
              "    <tr>\n",
              "      <th>4</th>\n",
              "      <td>2011-12-10</td>\n",
              "      <td>637.385</td>\n",
              "      <td>2011</td>\n",
              "      <td>4</td>\n",
              "      <td>December</td>\n",
              "      <td>10</td>\n",
              "    </tr>\n",
              "  </tbody>\n",
              "</table>\n",
              "</div>"
            ],
            "text/plain": [
              "        Date      KWH  year  quarter     month  day\n",
              "0 2011-12-06    2.947  2011        4  December    6\n",
              "1 2011-12-07  143.174  2011        4  December    7\n",
              "2 2011-12-08  365.577  2011        4  December    8\n",
              "3 2011-12-09  502.532  2011        4  December    9\n",
              "4 2011-12-10  637.385  2011        4  December   10"
            ]
          },
          "execution_count": 58,
          "metadata": {},
          "output_type": "execute_result"
        }
      ],
      "source": [
        "dx.head()"
      ]
    },
    {
      "cell_type": "code",
      "execution_count": null,
      "id": "b11d7e25",
      "metadata": {
        "id": "b11d7e25",
        "outputId": "c923752f-14c2-4958-f37e-1e3aff55c741"
      },
      "outputs": [
        {
          "data": {
            "text/html": [
              "<div>\n",
              "<style scoped>\n",
              "    .dataframe tbody tr th:only-of-type {\n",
              "        vertical-align: middle;\n",
              "    }\n",
              "\n",
              "    .dataframe tbody tr th {\n",
              "        vertical-align: top;\n",
              "    }\n",
              "\n",
              "    .dataframe thead th {\n",
              "        text-align: right;\n",
              "    }\n",
              "</style>\n",
              "<table border=\"1\" class=\"dataframe\">\n",
              "  <thead>\n",
              "    <tr style=\"text-align: right;\">\n",
              "      <th></th>\n",
              "      <th>Date</th>\n",
              "      <th>KWH</th>\n",
              "      <th>year</th>\n",
              "      <th>quarter</th>\n",
              "      <th>month</th>\n",
              "      <th>day</th>\n",
              "    </tr>\n",
              "  </thead>\n",
              "  <tbody>\n",
              "    <tr>\n",
              "      <th>811</th>\n",
              "      <td>2014-02-24</td>\n",
              "      <td>620.515001</td>\n",
              "      <td>2014</td>\n",
              "      <td>1</td>\n",
              "      <td>February</td>\n",
              "      <td>24</td>\n",
              "    </tr>\n",
              "    <tr>\n",
              "      <th>812</th>\n",
              "      <td>2014-02-25</td>\n",
              "      <td>575.761001</td>\n",
              "      <td>2014</td>\n",
              "      <td>1</td>\n",
              "      <td>February</td>\n",
              "      <td>25</td>\n",
              "    </tr>\n",
              "    <tr>\n",
              "      <th>813</th>\n",
              "      <td>2014-02-26</td>\n",
              "      <td>602.744000</td>\n",
              "      <td>2014</td>\n",
              "      <td>1</td>\n",
              "      <td>February</td>\n",
              "      <td>26</td>\n",
              "    </tr>\n",
              "    <tr>\n",
              "      <th>814</th>\n",
              "      <td>2014-02-27</td>\n",
              "      <td>605.165001</td>\n",
              "      <td>2014</td>\n",
              "      <td>1</td>\n",
              "      <td>February</td>\n",
              "      <td>27</td>\n",
              "    </tr>\n",
              "    <tr>\n",
              "      <th>815</th>\n",
              "      <td>2014-02-28</td>\n",
              "      <td>41.394000</td>\n",
              "      <td>2014</td>\n",
              "      <td>1</td>\n",
              "      <td>February</td>\n",
              "      <td>28</td>\n",
              "    </tr>\n",
              "  </tbody>\n",
              "</table>\n",
              "</div>"
            ],
            "text/plain": [
              "          Date         KWH  year  quarter     month  day\n",
              "811 2014-02-24  620.515001  2014        1  February   24\n",
              "812 2014-02-25  575.761001  2014        1  February   25\n",
              "813 2014-02-26  602.744000  2014        1  February   26\n",
              "814 2014-02-27  605.165001  2014        1  February   27\n",
              "815 2014-02-28   41.394000  2014        1  February   28"
            ]
          },
          "execution_count": 59,
          "metadata": {},
          "output_type": "execute_result"
        }
      ],
      "source": [
        "dx.tail()"
      ]
    },
    {
      "cell_type": "code",
      "execution_count": null,
      "id": "c181b549",
      "metadata": {
        "id": "c181b549",
        "outputId": "c27d2039-702b-4a16-e78b-66d7adb82757"
      },
      "outputs": [
        {
          "data": {
            "text/plain": [
              "count    816.000000\n",
              "mean     586.107567\n",
              "std      125.938950\n",
              "min        2.947000\n",
              "25%      482.893750\n",
              "50%      564.665500\n",
              "75%      668.310750\n",
              "max      942.200000\n",
              "Name: KWH, dtype: float64"
            ]
          },
          "execution_count": 60,
          "metadata": {},
          "output_type": "execute_result"
        }
      ],
      "source": [
        "dx.KWH.describe()"
      ]
    },
    {
      "cell_type": "code",
      "execution_count": null,
      "id": "9f4742fe",
      "metadata": {
        "id": "9f4742fe",
        "outputId": "84ea4e2b-9b18-4ab7-d087-872337cef449"
      },
      "outputs": [
        {
          "data": {
            "image/png": "[encoded data removed]",
            "text/plain": [
              "<Figure size 720x432 with 1 Axes>"
            ]
          },
          "metadata": {
            "needs_background": "light"
          },
          "output_type": "display_data"
        }
      ],
      "source": [
        "plt.figure(figsize=(10, 6))\n",
        "sns.boxplot(x='year', y='KWH', data=dx, palette='Set2')\n",
        "plt.title(\"KWH Consumption Distribution by Year\", fontsize=14)\n",
        "plt.xlabel(\"Year\", fontsize=12)\n",
        "plt.ylabel(\"KWH Consumption\", fontsize=12)\n",
        "plt.tight_layout()\n",
        "plt.show()"
      ]
    },
    {
      "cell_type": "code",
      "execution_count": null,
      "id": "8a5884b0",
      "metadata": {
        "id": "8a5884b0"
      },
      "outputs": [],
      "source": [
        "Q1 = dx['KWH'].quantile(0.25)\n",
        "Q3 = dx['KWH'].quantile(0.75)\n",
        "IQR = Q3 - Q1\n",
        "lower_bound = Q1 - 1.5 * IQR\n",
        "upper_bound = Q3 + 1.5 * IQR\n",
        "dx = dx[(dx['KWH'] >= lower_bound) & (dx['KWH'] <= upper_bound)]"
      ]
    },
    {
      "cell_type": "code",
      "execution_count": null,
      "id": "6f8e723f",
      "metadata": {
        "id": "6f8e723f",
        "outputId": "050b9479-993e-4874-ca01-7b73b904131c"
      },
      "outputs": [
        {
          "data": {
            "image/png": "[encoded data removed]",
            "text/plain": [
              "<Figure size 720x432 with 1 Axes>"
            ]
          },
          "metadata": {
            "needs_background": "light"
          },
          "output_type": "display_data"
        }
      ],
      "source": [
        "plt.figure(figsize=(10, 6))\n",
        "sns.boxplot(x='year', y='KWH', data=dx, palette='Set2')\n",
        "plt.title(\"KWH Consumption Distribution by Year\", fontsize=14)\n",
        "plt.xlabel(\"Year\", fontsize=12)\n",
        "plt.ylabel(\"KWH Consumption\", fontsize=12)\n",
        "plt.tight_layout()\n",
        "plt.show()"
      ]
    },
    {
      "cell_type": "code",
      "execution_count": null,
      "id": "c7d35169",
      "metadata": {
        "id": "c7d35169",
        "outputId": "870e1a0e-cf5e-4d44-bad1-878af2a61072"
      },
      "outputs": [
        {
          "data": {
            "text/html": [
              "<div>\n",
              "<style scoped>\n",
              "    .dataframe tbody tr th:only-of-type {\n",
              "        vertical-align: middle;\n",
              "    }\n",
              "\n",
              "    .dataframe tbody tr th {\n",
              "        vertical-align: top;\n",
              "    }\n",
              "\n",
              "    .dataframe thead th {\n",
              "        text-align: right;\n",
              "    }\n",
              "</style>\n",
              "<table border=\"1\" class=\"dataframe\">\n",
              "  <thead>\n",
              "    <tr style=\"text-align: right;\">\n",
              "      <th></th>\n",
              "      <th>Date</th>\n",
              "      <th>KWH</th>\n",
              "      <th>year</th>\n",
              "      <th>quarter</th>\n",
              "      <th>month</th>\n",
              "      <th>day</th>\n",
              "    </tr>\n",
              "  </thead>\n",
              "  <tbody>\n",
              "    <tr>\n",
              "      <th>2</th>\n",
              "      <td>2011-12-08</td>\n",
              "      <td>365.577000</td>\n",
              "      <td>2011</td>\n",
              "      <td>4</td>\n",
              "      <td>December</td>\n",
              "      <td>8</td>\n",
              "    </tr>\n",
              "    <tr>\n",
              "      <th>3</th>\n",
              "      <td>2011-12-09</td>\n",
              "      <td>502.532000</td>\n",
              "      <td>2011</td>\n",
              "      <td>4</td>\n",
              "      <td>December</td>\n",
              "      <td>9</td>\n",
              "    </tr>\n",
              "    <tr>\n",
              "      <th>4</th>\n",
              "      <td>2011-12-10</td>\n",
              "      <td>637.385000</td>\n",
              "      <td>2011</td>\n",
              "      <td>4</td>\n",
              "      <td>December</td>\n",
              "      <td>10</td>\n",
              "    </tr>\n",
              "    <tr>\n",
              "      <th>5</th>\n",
              "      <td>2011-12-11</td>\n",
              "      <td>670.710001</td>\n",
              "      <td>2011</td>\n",
              "      <td>4</td>\n",
              "      <td>December</td>\n",
              "      <td>11</td>\n",
              "    </tr>\n",
              "    <tr>\n",
              "      <th>6</th>\n",
              "      <td>2011-12-12</td>\n",
              "      <td>614.313000</td>\n",
              "      <td>2011</td>\n",
              "      <td>4</td>\n",
              "      <td>December</td>\n",
              "      <td>12</td>\n",
              "    </tr>\n",
              "  </tbody>\n",
              "</table>\n",
              "</div>"
            ],
            "text/plain": [
              "        Date         KWH  year  quarter     month  day\n",
              "2 2011-12-08  365.577000  2011        4  December    8\n",
              "3 2011-12-09  502.532000  2011        4  December    9\n",
              "4 2011-12-10  637.385000  2011        4  December   10\n",
              "5 2011-12-11  670.710001  2011        4  December   11\n",
              "6 2011-12-12  614.313000  2011        4  December   12"
            ]
          },
          "execution_count": 64,
          "metadata": {},
          "output_type": "execute_result"
        }
      ],
      "source": [
        "dx.head()"
      ]
    },
    {
      "cell_type": "code",
      "execution_count": null,
      "id": "97b1615a",
      "metadata": {
        "id": "97b1615a",
        "outputId": "0804d05f-c7f1-486f-be62-a1e998ab6f4f"
      },
      "outputs": [
        {
          "data": {
            "image/png": "[encoded data removed]",
            "text/plain": [
              "<Figure size 720x432 with 1 Axes>"
            ]
          },
          "metadata": {
            "needs_background": "light"
          },
          "output_type": "display_data"
        }
      ],
      "source": [
        "yearly_avg = dx.groupby('year')['KWH'].mean()\n",
        "plt.figure(figsize=(10, 6))\n",
        "yearly_avg.plot(kind='bar', color='c', edgecolor='black')\n",
        "overall_avg = dx['KWH'].mean()\n",
        "plt.axhline(y=overall_avg, color='black', linestyle='--', label=f\"Avg Consumption: {overall_avg:.2f} KWH\")\n",
        "plt.text(len(yearly_avg) - 1, overall_avg + 0.05, f\"Avg: {overall_avg:.2f}\", color='black', fontsize=12, ha='center')\n",
        "plt.title(\"Average Consumption by Year\", fontsize=14)\n",
        "plt.xlabel(\"Year\", fontsize=12)\n",
        "plt.ylabel(\"Average KWH\", fontsize=12)\n",
        "plt.grid(visible=True, linestyle='--', alpha=0.7)\n",
        "plt.legend()\n",
        "plt.tight_layout()\n",
        "plt.show()"
      ]
    },
    {
      "cell_type": "code",
      "execution_count": null,
      "id": "9b8de182",
      "metadata": {
        "id": "9b8de182",
        "outputId": "1bd4e307-da7e-4d6a-da2c-28b8e3bb2a3a"
      },
      "outputs": [
        {
          "data": {
            "image/png": "[encoded data removed]",
            "text/plain": [
              "<Figure size 720x432 with 1 Axes>"
            ]
          },
          "metadata": {
            "needs_background": "light"
          },
          "output_type": "display_data"
        }
      ],
      "source": [
        "month_order = list(calendar.month_name)[1:]\n",
        "dx['month'] = pd.Categorical(dx['month'], categories=month_order, ordered=True)\n",
        "\n",
        "overall_avg = dx[\"KWH\"].mean()\n",
        "monthly_avg = dx.groupby('month')['KWH'].mean()\n",
        "plt.figure(figsize=(10, 6))\n",
        "monthly_avg.plot(kind='line', marker='o', color='b', label='Monthly Average')\n",
        "plt.axhline(y=overall_avg, color='black', linestyle='--', label=f\"Avg Consumption: {overall_avg:.2f} KWH\")\n",
        "plt.title(\"Average Consumption by Month\", fontsize=14)\n",
        "plt.xlabel(\"Month\", fontsize=12)\n",
        "plt.ylabel(\"Average KWH\", fontsize=12)\n",
        "plt.xticks(rotation=45)\n",
        "plt.grid(visible=True, linestyle='--', alpha=0.7)\n",
        "plt.text(6, overall_avg + 0.05, f\"Avg: {overall_avg:.2f} KWH\", color='black', fontsize=12, ha='center')\n",
        "plt.legend()\n",
        "plt.tight_layout()\n",
        "plt.show()"
      ]
    },
    {
      "cell_type": "code",
      "execution_count": null,
      "id": "aca1bfa0",
      "metadata": {
        "id": "aca1bfa0",
        "outputId": "9e81de5d-f111-459c-e6e1-0f37dc1434b8"
      },
      "outputs": [
        {
          "name": "stdout",
          "output_type": "stream",
          "text": [
            "Minimum date: 2011-12-08 00:00:00\n",
            "Maximum date: 2014-02-27 00:00:00\n"
          ]
        }
      ],
      "source": [
        "print('Minimum date:', dx.Date.min())\n",
        "print('Maximum date:', dx.Date.max())"
      ]
    },
    {
      "cell_type": "code",
      "execution_count": null,
      "id": "6d15994f",
      "metadata": {
        "id": "6d15994f",
        "outputId": "73b81e60-8d48-43fe-ed69-bb7d20419eca"
      },
      "outputs": [
        {
          "data": {
            "image/png": "[encoded data removed]",
            "text/plain": [
              "<Figure size 1080x432 with 1 Axes>"
            ]
          },
          "metadata": {
            "needs_background": "light"
          },
          "output_type": "display_data"
        }
      ],
      "source": [
        "plt.figure(figsize=(15, 6))\n",
        "plt.plot(dx['Date'], dx['KWH'], color='blue')\n",
        "plt.ylabel('Kilowatt Hour (KWH)', fontsize=12)\n",
        "plt.xlabel('Date', fontsize=12)\n",
        "plt.title('Daily Energy Consumption oover the period of time')\n",
        "plt.tight_layout()\n",
        "sns.despine(bottom=True, left=True)\n",
        "plt.show()"
      ]
    },
    {
      "cell_type": "code",
      "execution_count": null,
      "id": "b586c224",
      "metadata": {
        "id": "b586c224",
        "outputId": "742b9838-f952-4c62-8d11-f94bd73925cc"
      },
      "outputs": [
        {
          "data": {
            "text/html": [
              "<div>\n",
              "<style scoped>\n",
              "    .dataframe tbody tr th:only-of-type {\n",
              "        vertical-align: middle;\n",
              "    }\n",
              "\n",
              "    .dataframe tbody tr th {\n",
              "        vertical-align: top;\n",
              "    }\n",
              "\n",
              "    .dataframe thead th {\n",
              "        text-align: right;\n",
              "    }\n",
              "</style>\n",
              "<table border=\"1\" class=\"dataframe\">\n",
              "  <thead>\n",
              "    <tr style=\"text-align: right;\">\n",
              "      <th></th>\n",
              "      <th>Date</th>\n",
              "      <th>KWH</th>\n",
              "      <th>year</th>\n",
              "      <th>quarter</th>\n",
              "      <th>month</th>\n",
              "      <th>day</th>\n",
              "    </tr>\n",
              "  </thead>\n",
              "  <tbody>\n",
              "    <tr>\n",
              "      <th>2</th>\n",
              "      <td>2011-12-08</td>\n",
              "      <td>365.577000</td>\n",
              "      <td>2011</td>\n",
              "      <td>4</td>\n",
              "      <td>December</td>\n",
              "      <td>8</td>\n",
              "    </tr>\n",
              "    <tr>\n",
              "      <th>3</th>\n",
              "      <td>2011-12-09</td>\n",
              "      <td>502.532000</td>\n",
              "      <td>2011</td>\n",
              "      <td>4</td>\n",
              "      <td>December</td>\n",
              "      <td>9</td>\n",
              "    </tr>\n",
              "    <tr>\n",
              "      <th>4</th>\n",
              "      <td>2011-12-10</td>\n",
              "      <td>637.385000</td>\n",
              "      <td>2011</td>\n",
              "      <td>4</td>\n",
              "      <td>December</td>\n",
              "      <td>10</td>\n",
              "    </tr>\n",
              "    <tr>\n",
              "      <th>5</th>\n",
              "      <td>2011-12-11</td>\n",
              "      <td>670.710001</td>\n",
              "      <td>2011</td>\n",
              "      <td>4</td>\n",
              "      <td>December</td>\n",
              "      <td>11</td>\n",
              "    </tr>\n",
              "    <tr>\n",
              "      <th>6</th>\n",
              "      <td>2011-12-12</td>\n",
              "      <td>614.313000</td>\n",
              "      <td>2011</td>\n",
              "      <td>4</td>\n",
              "      <td>December</td>\n",
              "      <td>12</td>\n",
              "    </tr>\n",
              "  </tbody>\n",
              "</table>\n",
              "</div>"
            ],
            "text/plain": [
              "        Date         KWH  year  quarter     month  day\n",
              "2 2011-12-08  365.577000  2011        4  December    8\n",
              "3 2011-12-09  502.532000  2011        4  December    9\n",
              "4 2011-12-10  637.385000  2011        4  December   10\n",
              "5 2011-12-11  670.710001  2011        4  December   11\n",
              "6 2011-12-12  614.313000  2011        4  December   12"
            ]
          },
          "execution_count": 69,
          "metadata": {},
          "output_type": "execute_result"
        }
      ],
      "source": [
        "dx.head()"
      ]
    },
    {
      "cell_type": "code",
      "execution_count": null,
      "id": "d03f96d3",
      "metadata": {
        "id": "d03f96d3"
      },
      "outputs": [],
      "source": [
        "dx['Date'] = pd.to_datetime(dx['Date'])\n",
        "dx = dx.sort_values('Date')"
      ]
    },
    {
      "cell_type": "code",
      "execution_count": null,
      "id": "12960992",
      "metadata": {
        "id": "12960992"
      },
      "outputs": [],
      "source": [
        "from sklearn.preprocessing import MinMaxScaler"
      ]
    },
    {
      "cell_type": "code",
      "execution_count": null,
      "id": "3b3d7081",
      "metadata": {
        "id": "3b3d7081"
      },
      "outputs": [],
      "source": [
        "scaler = MinMaxScaler()\n",
        "dx['KWH_normalized'] = scaler.fit_transform(dx[['KWH']])"
      ]
    },
    {
      "cell_type": "code",
      "execution_count": null,
      "id": "79ee1c6c",
      "metadata": {
        "id": "79ee1c6c",
        "outputId": "6840ada1-bfbb-4523-a1ab-9327926e0fba"
      },
      "outputs": [
        {
          "data": {
            "text/html": [
              "<div>\n",
              "<style scoped>\n",
              "    .dataframe tbody tr th:only-of-type {\n",
              "        vertical-align: middle;\n",
              "    }\n",
              "\n",
              "    .dataframe tbody tr th {\n",
              "        vertical-align: top;\n",
              "    }\n",
              "\n",
              "    .dataframe thead th {\n",
              "        text-align: right;\n",
              "    }\n",
              "</style>\n",
              "<table border=\"1\" class=\"dataframe\">\n",
              "  <thead>\n",
              "    <tr style=\"text-align: right;\">\n",
              "      <th></th>\n",
              "      <th>Date</th>\n",
              "      <th>KWH</th>\n",
              "      <th>year</th>\n",
              "      <th>quarter</th>\n",
              "      <th>month</th>\n",
              "      <th>day</th>\n",
              "      <th>KWH_normalized</th>\n",
              "    </tr>\n",
              "  </thead>\n",
              "  <tbody>\n",
              "    <tr>\n",
              "      <th>2</th>\n",
              "      <td>2011-12-08</td>\n",
              "      <td>365.577000</td>\n",
              "      <td>2011</td>\n",
              "      <td>4</td>\n",
              "      <td>December</td>\n",
              "      <td>8</td>\n",
              "      <td>0.000000</td>\n",
              "    </tr>\n",
              "    <tr>\n",
              "      <th>3</th>\n",
              "      <td>2011-12-09</td>\n",
              "      <td>502.532000</td>\n",
              "      <td>2011</td>\n",
              "      <td>4</td>\n",
              "      <td>December</td>\n",
              "      <td>9</td>\n",
              "      <td>0.237512</td>\n",
              "    </tr>\n",
              "    <tr>\n",
              "      <th>4</th>\n",
              "      <td>2011-12-10</td>\n",
              "      <td>637.385000</td>\n",
              "      <td>2011</td>\n",
              "      <td>4</td>\n",
              "      <td>December</td>\n",
              "      <td>10</td>\n",
              "      <td>0.471379</td>\n",
              "    </tr>\n",
              "    <tr>\n",
              "      <th>5</th>\n",
              "      <td>2011-12-11</td>\n",
              "      <td>670.710001</td>\n",
              "      <td>2011</td>\n",
              "      <td>4</td>\n",
              "      <td>December</td>\n",
              "      <td>11</td>\n",
              "      <td>0.529172</td>\n",
              "    </tr>\n",
              "    <tr>\n",
              "      <th>6</th>\n",
              "      <td>2011-12-12</td>\n",
              "      <td>614.313000</td>\n",
              "      <td>2011</td>\n",
              "      <td>4</td>\n",
              "      <td>December</td>\n",
              "      <td>12</td>\n",
              "      <td>0.431367</td>\n",
              "    </tr>\n",
              "  </tbody>\n",
              "</table>\n",
              "</div>"
            ],
            "text/plain": [
              "        Date         KWH  year  quarter     month  day  KWH_normalized\n",
              "2 2011-12-08  365.577000  2011        4  December    8        0.000000\n",
              "3 2011-12-09  502.532000  2011        4  December    9        0.237512\n",
              "4 2011-12-10  637.385000  2011        4  December   10        0.471379\n",
              "5 2011-12-11  670.710001  2011        4  December   11        0.529172\n",
              "6 2011-12-12  614.313000  2011        4  December   12        0.431367"
            ]
          },
          "execution_count": 73,
          "metadata": {},
          "output_type": "execute_result"
        }
      ],
      "source": [
        "dx.head()"
      ]
    },
    {
      "cell_type": "code",
      "execution_count": null,
      "id": "f7217df5",
      "metadata": {
        "id": "f7217df5"
      },
      "outputs": [],
      "source": [
        "def create_sequences(data, input_steps, output_steps):\n",
        "    x, y = [], []\n",
        "    for i in range(len(data) - input_steps - output_steps + 1):\n",
        "        x.append(data[i:i + input_steps])\n",
        "        y.append(data[i + input_steps:i + input_steps + output_steps])\n",
        "    return np.array(x), np.array(y)"
      ]
    },
    {
      "cell_type": "code",
      "execution_count": null,
      "id": "12a6ea2a",
      "metadata": {
        "id": "12a6ea2a"
      },
      "outputs": [],
      "source": [
        "input_steps = 60\n",
        "output_steps = 60\n",
        "x, y = create_sequences(dx['KWH_normalized'].values, input_steps, output_steps)"
      ]
    },
    {
      "cell_type": "code",
      "execution_count": null,
      "id": "de6afd0a",
      "metadata": {
        "id": "de6afd0a"
      },
      "outputs": [],
      "source": [
        "split_idx = int(0.8 * len(x))\n",
        "x_train, x_test = x[:split_idx], x[split_idx:]\n",
        "y_train, y_test = y[:split_idx], y[split_idx:]"
      ]
    },
    {
      "cell_type": "code",
      "execution_count": null,
      "id": "200ebb50",
      "metadata": {
        "id": "200ebb50",
        "outputId": "de114b97-740f-44e8-f0ed-a73010707b93"
      },
      "outputs": [
        {
          "data": {
            "text/plain": [
              "array([[0.        , 0.2375122 , 0.47137905, ..., 0.67992432, 0.69604057,\n",
              "        0.72506993],\n",
              "       [0.2375122 , 0.47137905, 0.52917244, ..., 0.69604057, 0.72506993,\n",
              "        0.61263599],\n",
              "       [0.47137905, 0.52917244, 0.43136677, ..., 0.72506993, 0.61263599,\n",
              "        0.66724012],\n",
              "       ...,\n",
              "       [0.21414338, 0.23297024, 0.16880006, ..., 0.14518672, 0.144715  ,\n",
              "        0.17671858],\n",
              "       [0.23297024, 0.16880006, 0.19665362, ..., 0.144715  , 0.17671858,\n",
              "        0.14193503],\n",
              "       [0.16880006, 0.19665362, 0.23499583, ..., 0.17671858, 0.14193503,\n",
              "        0.16549461]])"
            ]
          },
          "execution_count": 77,
          "metadata": {},
          "output_type": "execute_result"
        }
      ],
      "source": [
        "x_train"
      ]
    },
    {
      "cell_type": "code",
      "execution_count": null,
      "id": "d57e78b1",
      "metadata": {
        "id": "d57e78b1",
        "outputId": "f6534049-ffb2-488c-ee6a-8e560d67baf8"
      },
      "outputs": [
        {
          "data": {
            "text/plain": [
              "array([[0.61263599, 0.66724012, 0.74714501, ..., 0.3193473 , 0.31801021,\n",
              "        0.31289595],\n",
              "       [0.66724012, 0.74714501, 0.69429072, ..., 0.31801021, 0.31289595,\n",
              "        0.2911521 ],\n",
              "       [0.74714501, 0.69429072, 0.61263252, ..., 0.31289595, 0.2911521 ,\n",
              "        0.27387392],\n",
              "       ...,\n",
              "       [0.14193503, 0.16549461, 0.14328946, ..., 0.26405814, 0.21539203,\n",
              "        0.21755636],\n",
              "       [0.16549461, 0.14328946, 0.13241407, ..., 0.21539203, 0.21755636,\n",
              "        0.34753036],\n",
              "       [0.14328946, 0.13241407, 0.14527516, ..., 0.21755636, 0.34753036,\n",
              "        0.33945923]])"
            ]
          },
          "execution_count": 78,
          "metadata": {},
          "output_type": "execute_result"
        }
      ],
      "source": [
        "y_train"
      ]
    },
    {
      "cell_type": "code",
      "execution_count": null,
      "id": "6fa399cb",
      "metadata": {
        "id": "6fa399cb"
      },
      "outputs": [],
      "source": [
        "import tensorflow as tf\n",
        "from tensorflow.keras.models import Sequential\n",
        "from tensorflow.keras.layers import LSTM, Dense, Dropout"
      ]
    },
    {
      "cell_type": "code",
      "execution_count": null,
      "id": "58cbaa02",
      "metadata": {
        "id": "58cbaa02"
      },
      "outputs": [],
      "source": [
        "model = Sequential([\n",
        "    LSTM(64, return_sequences=True, input_shape=(input_steps, 1)),\n",
        "    Dropout(0.2),\n",
        "    LSTM(64, return_sequences=False),\n",
        "    Dropout(0.2),\n",
        "    Dense(32, activation='relu'),\n",
        "    Dense(output_steps)])"
      ]
    },
    {
      "cell_type": "code",
      "execution_count": null,
      "id": "80bb49de",
      "metadata": {
        "id": "80bb49de"
      },
      "outputs": [],
      "source": [
        "model.compile(optimizer='adam', loss='mse')"
      ]
    },
    {
      "cell_type": "code",
      "execution_count": null,
      "id": "8f2a5f71",
      "metadata": {
        "id": "8f2a5f71"
      },
      "outputs": [],
      "source": [
        "x_train = x_train.reshape((x_train.shape[0], x_train.shape[1], 1))\n",
        "x_test = x_test.reshape((x_test.shape[0], x_test.shape[1], 1))"
      ]
    },
    {
      "cell_type": "code",
      "execution_count": null,
      "id": "e47b62f6",
      "metadata": {
        "id": "e47b62f6",
        "outputId": "56d5dc5a-e82d-499d-f633-0f053f5181f4"
      },
      "outputs": [
        {
          "name": "stdout",
          "output_type": "stream",
          "text": [
            "Epoch 1/50\n",
            "18/18 [==============================] - 5s 82ms/step - loss: 0.1607 - val_loss: 0.0897\n",
            "Epoch 2/50\n",
            "18/18 [==============================] - 1s 38ms/step - loss: 0.0824 - val_loss: 0.0369\n",
            "Epoch 3/50\n",
            "18/18 [==============================] - 1s 41ms/step - loss: 0.0430 - val_loss: 0.0143\n",
            "Epoch 4/50\n",
            "18/18 [==============================] - 1s 38ms/step - loss: 0.0329 - val_loss: 0.0138\n",
            "Epoch 5/50\n",
            "18/18 [==============================] - 1s 48ms/step - loss: 0.0312 - val_loss: 0.0152\n",
            "Epoch 6/50\n",
            "18/18 [==============================] - 1s 38ms/step - loss: 0.0284 - val_loss: 0.0112\n",
            "Epoch 7/50\n",
            "18/18 [==============================] - 1s 43ms/step - loss: 0.0255 - val_loss: 0.0084\n",
            "Epoch 8/50\n",
            "18/18 [==============================] - 1s 38ms/step - loss: 0.0245 - val_loss: 0.0114\n",
            "Epoch 9/50\n",
            "18/18 [==============================] - 1s 39ms/step - loss: 0.0246 - val_loss: 0.0139\n",
            "Epoch 10/50\n",
            "18/18 [==============================] - 1s 44ms/step - loss: 0.0224 - val_loss: 0.0066\n",
            "Epoch 11/50\n",
            "18/18 [==============================] - 1s 46ms/step - loss: 0.0205 - val_loss: 0.0074\n",
            "Epoch 12/50\n",
            "18/18 [==============================] - 1s 45ms/step - loss: 0.0174 - val_loss: 0.0108\n",
            "Epoch 13/50\n",
            "18/18 [==============================] - 1s 48ms/step - loss: 0.0178 - val_loss: 0.0075\n",
            "Epoch 14/50\n",
            "18/18 [==============================] - 1s 38ms/step - loss: 0.0192 - val_loss: 0.0063\n",
            "Epoch 15/50\n",
            "18/18 [==============================] - 1s 38ms/step - loss: 0.0169 - val_loss: 0.0064\n",
            "Epoch 16/50\n",
            "18/18 [==============================] - 1s 38ms/step - loss: 0.0156 - val_loss: 0.0080\n",
            "Epoch 17/50\n",
            "18/18 [==============================] - 1s 39ms/step - loss: 0.0159 - val_loss: 0.0063\n",
            "Epoch 18/50\n",
            "18/18 [==============================] - 1s 39ms/step - loss: 0.0139 - val_loss: 0.0075\n",
            "Epoch 19/50\n",
            "18/18 [==============================] - 1s 39ms/step - loss: 0.0129 - val_loss: 0.0101\n",
            "Epoch 20/50\n",
            "18/18 [==============================] - 1s 40ms/step - loss: 0.0141 - val_loss: 0.0084\n",
            "Epoch 21/50\n",
            "18/18 [==============================] - 1s 40ms/step - loss: 0.0135 - val_loss: 0.0124\n",
            "Epoch 22/50\n",
            "18/18 [==============================] - 1s 38ms/step - loss: 0.0120 - val_loss: 0.0102\n",
            "Epoch 23/50\n",
            "18/18 [==============================] - 1s 39ms/step - loss: 0.0122 - val_loss: 0.0125\n",
            "Epoch 24/50\n",
            "18/18 [==============================] - 1s 38ms/step - loss: 0.0131 - val_loss: 0.0102\n",
            "Epoch 25/50\n",
            "18/18 [==============================] - 1s 38ms/step - loss: 0.0128 - val_loss: 0.0095\n",
            "Epoch 26/50\n",
            "18/18 [==============================] - 1s 38ms/step - loss: 0.0115 - val_loss: 0.0142\n",
            "Epoch 27/50\n",
            "18/18 [==============================] - 1s 41ms/step - loss: 0.0125 - val_loss: 0.0095\n",
            "Epoch 28/50\n",
            "18/18 [==============================] - 1s 38ms/step - loss: 0.0110 - val_loss: 0.0139\n",
            "Epoch 29/50\n",
            "18/18 [==============================] - 1s 38ms/step - loss: 0.0126 - val_loss: 0.0103\n",
            "Epoch 30/50\n",
            "18/18 [==============================] - 1s 38ms/step - loss: 0.0107 - val_loss: 0.0153\n",
            "Epoch 31/50\n",
            "18/18 [==============================] - 1s 38ms/step - loss: 0.0107 - val_loss: 0.0136\n",
            "Epoch 32/50\n",
            "18/18 [==============================] - 1s 39ms/step - loss: 0.0109 - val_loss: 0.0131\n",
            "Epoch 33/50\n",
            "18/18 [==============================] - 1s 38ms/step - loss: 0.0115 - val_loss: 0.0175\n",
            "Epoch 34/50\n",
            "18/18 [==============================] - 1s 38ms/step - loss: 0.0105 - val_loss: 0.0134\n",
            "Epoch 35/50\n",
            "18/18 [==============================] - 1s 38ms/step - loss: 0.0100 - val_loss: 0.0143\n",
            "Epoch 36/50\n",
            "18/18 [==============================] - 1s 38ms/step - loss: 0.0106 - val_loss: 0.0133\n",
            "Epoch 37/50\n",
            "18/18 [==============================] - 1s 38ms/step - loss: 0.0113 - val_loss: 0.0135\n",
            "Epoch 38/50\n",
            "18/18 [==============================] - 1s 38ms/step - loss: 0.0117 - val_loss: 0.0091\n",
            "Epoch 39/50\n",
            "18/18 [==============================] - 1s 38ms/step - loss: 0.0114 - val_loss: 0.0098\n",
            "Epoch 40/50\n",
            "18/18 [==============================] - 1s 38ms/step - loss: 0.0105 - val_loss: 0.0157\n",
            "Epoch 41/50\n",
            "18/18 [==============================] - 1s 40ms/step - loss: 0.0106 - val_loss: 0.0134\n",
            "Epoch 42/50\n",
            "18/18 [==============================] - 1s 38ms/step - loss: 0.0106 - val_loss: 0.0115\n",
            "Epoch 43/50\n",
            "18/18 [==============================] - 1s 38ms/step - loss: 0.0095 - val_loss: 0.0161\n",
            "Epoch 44/50\n",
            "18/18 [==============================] - 1s 38ms/step - loss: 0.0102 - val_loss: 0.0188\n",
            "Epoch 45/50\n",
            "18/18 [==============================] - 1s 37ms/step - loss: 0.0115 - val_loss: 0.0116\n",
            "Epoch 46/50\n",
            "18/18 [==============================] - 1s 38ms/step - loss: 0.0107 - val_loss: 0.0126\n",
            "Epoch 47/50\n",
            "18/18 [==============================] - 1s 38ms/step - loss: 0.0099 - val_loss: 0.0112\n",
            "Epoch 48/50\n",
            "18/18 [==============================] - 1s 45ms/step - loss: 0.0100 - val_loss: 0.0154\n",
            "Epoch 49/50\n",
            "18/18 [==============================] - 1s 46ms/step - loss: 0.0096 - val_loss: 0.0122\n",
            "Epoch 50/50\n",
            "18/18 [==============================] - 1s 39ms/step - loss: 0.0094 - val_loss: 0.0128\n"
          ]
        }
      ],
      "source": [
        "history = model.fit(x_train, y_train, validation_data=(x_test, y_test), epochs=50, batch_size=32)"
      ]
    },
    {
      "cell_type": "code",
      "execution_count": null,
      "id": "b7d4aceb",
      "metadata": {
        "id": "b7d4aceb",
        "outputId": "e6e5c7a9-8584-4da6-9a62-5e9451e7c581"
      },
      "outputs": [
        {
          "data": {
            "image/png": "[encoded data removed]",
            "text/plain": [
              "<Figure size 576x432 with 1 Axes>"
            ]
          },
          "metadata": {
            "needs_background": "light"
          },
          "output_type": "display_data"
        }
      ],
      "source": [
        "plt.figure(figsize=(8, 6))\n",
        "plt.plot(history.history['loss'], label='Train Loss')\n",
        "plt.plot(history.history['val_loss'], label='Validation Loss')\n",
        "plt.legend()\n",
        "plt.show()"
      ]
    },
    {
      "cell_type": "code",
      "execution_count": null,
      "id": "df6d1cdf",
      "metadata": {
        "id": "df6d1cdf"
      },
      "outputs": [],
      "source": [
        "y_pred = model.predict(x_test)\n",
        "y_test_rescaled = scaler.inverse_transform(y_test)\n",
        "y_pred_rescaled = scaler.inverse_transform(y_pred)"
      ]
    },
    {
      "cell_type": "code",
      "execution_count": null,
      "id": "0af94090",
      "metadata": {
        "id": "0af94090",
        "outputId": "eb3d14cb-ecba-4499-9e7e-ae1d80bb9ae3"
      },
      "outputs": [
        {
          "data": {
            "image/png": "[encoded data removed]",
            "text/plain": [
              "<Figure size 720x432 with 1 Axes>"
            ]
          },
          "metadata": {
            "needs_background": "light"
          },
          "output_type": "display_data"
        }
      ],
      "source": [
        "plt.figure(figsize=(10, 6))\n",
        "plt.plot(range(output_steps), y_test_rescaled[0], label='Actual')\n",
        "plt.plot(range(output_steps), y_pred_rescaled[0], label='Predicted')\n",
        "plt.title('Prediction vs Actual for First Test Sequence')\n",
        "plt.xlabel('Days')\n",
        "plt.ylabel('Energy Consumption (KWH)')\n",
        "plt.legend()\n",
        "plt.show()"
      ]
    },
    {
      "cell_type": "code",
      "execution_count": null,
      "id": "c37ee743",
      "metadata": {
        "id": "c37ee743"
      },
      "outputs": [],
      "source": []
    }
  ],
  "metadata": {
    "kernelspec": {
      "display_name": "Python 3",
      "language": "python",
      "name": "python3"
    },
    "language_info": {
      "codemirror_mode": {
        "name": "ipython",
        "version": 3
      },
      "file_extension": ".py",
      "mimetype": "text/x-python",
      "name": "python",
      "nbconvert_exporter": "python",
      "pygments_lexer": "ipython3",
      "version": "3.8.8"
    },
    "colab": {
      "provenance": [],
      "include_colab_link": true
    }
  },
  "nbformat": 4,
  "nbformat_minor": 5
}