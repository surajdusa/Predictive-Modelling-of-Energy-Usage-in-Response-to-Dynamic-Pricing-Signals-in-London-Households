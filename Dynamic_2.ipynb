{
  "cells": [
    {
      "cell_type": "markdown",
      "metadata": {
        "id": "view-in-github",
        "colab_type": "text"
      },
      "source": [
        "<a href=\"https://colab.research.google.com/github/surajdusa/Predictive-Modelling-of-Energy-Usage-in-Response-to-Dynamic-Pricing-Signals-in-London-Households/blob/main/Dynamic_2.ipynb\" target=\"_parent\"><img src=\"https://colab.research.google.com/assets/colab-badge.svg\" alt=\"Open In Colab\"/></a>"
      ]
    },
    {
      "cell_type": "code",
      "execution_count": 1,
      "id": "847355b0",
      "metadata": {
        "id": "847355b0"
      },
      "outputs": [],
      "source": [
        "import pandas as pd\n",
        "import numpy as np\n",
        "import os\n",
        "import matplotlib.pyplot as plt\n",
        "%matplotlib inline\n",
        "import seaborn as sns\n",
        "import warnings\n",
        "warnings.filterwarnings('ignore')"
      ]
    },
    {
      "cell_type": "code",
      "execution_count": 3,
      "id": "05d92fd8",
      "metadata": {
        "colab": {
          "base_uri": "https://localhost:8080/",
          "height": 304
        },
        "id": "05d92fd8",
        "outputId": "15141017-07af-421b-b506-378cfc93c9c3"
      },
      "outputs": [
        {
          "output_type": "error",
          "ename": "FileNotFoundError",
          "evalue": "[Errno 2] No such file or directory: 'CC_LCL-FullData.csv'",
          "traceback": [
            "\u001b[0;31m---------------------------------------------------------------------------\u001b[0m",
            "\u001b[0;31mFileNotFoundError\u001b[0m                         Traceback (most recent call last)",
            "\u001b[0;32m<ipython-input-3-d516fd362a91>\u001b[0m in \u001b[0;36m<cell line: 1>\u001b[0;34m()\u001b[0m\n\u001b[0;32m----> 1\u001b[0;31m \u001b[0mdf\u001b[0m \u001b[0;34m=\u001b[0m \u001b[0mpd\u001b[0m\u001b[0;34m.\u001b[0m\u001b[0mread_csv\u001b[0m\u001b[0;34m(\u001b[0m\u001b[0;34m'CC_LCL-FullData.csv'\u001b[0m\u001b[0;34m)\u001b[0m\u001b[0;34m\u001b[0m\u001b[0;34m\u001b[0m\u001b[0m\n\u001b[0m",
            "\u001b[0;32m/usr/local/lib/python3.10/dist-packages/pandas/io/parsers/readers.py\u001b[0m in \u001b[0;36mread_csv\u001b[0;34m(filepath_or_buffer, sep, delimiter, header, names, index_col, usecols, dtype, engine, converters, true_values, false_values, skipinitialspace, skiprows, skipfooter, nrows, na_values, keep_default_na, na_filter, verbose, skip_blank_lines, parse_dates, infer_datetime_format, keep_date_col, date_parser, date_format, dayfirst, cache_dates, iterator, chunksize, compression, thousands, decimal, lineterminator, quotechar, quoting, doublequote, escapechar, comment, encoding, encoding_errors, dialect, on_bad_lines, delim_whitespace, low_memory, memory_map, float_precision, storage_options, dtype_backend)\u001b[0m\n\u001b[1;32m   1024\u001b[0m     \u001b[0mkwds\u001b[0m\u001b[0;34m.\u001b[0m\u001b[0mupdate\u001b[0m\u001b[0;34m(\u001b[0m\u001b[0mkwds_defaults\u001b[0m\u001b[0;34m)\u001b[0m\u001b[0;34m\u001b[0m\u001b[0;34m\u001b[0m\u001b[0m\n\u001b[1;32m   1025\u001b[0m \u001b[0;34m\u001b[0m\u001b[0m\n\u001b[0;32m-> 1026\u001b[0;31m     \u001b[0;32mreturn\u001b[0m \u001b[0m_read\u001b[0m\u001b[0;34m(\u001b[0m\u001b[0mfilepath_or_buffer\u001b[0m\u001b[0;34m,\u001b[0m \u001b[0mkwds\u001b[0m\u001b[0;34m)\u001b[0m\u001b[0;34m\u001b[0m\u001b[0;34m\u001b[0m\u001b[0m\n\u001b[0m\u001b[1;32m   1027\u001b[0m \u001b[0;34m\u001b[0m\u001b[0m\n\u001b[1;32m   1028\u001b[0m \u001b[0;34m\u001b[0m\u001b[0m\n",
            "\u001b[0;32m/usr/local/lib/python3.10/dist-packages/pandas/io/parsers/readers.py\u001b[0m in \u001b[0;36m_read\u001b[0;34m(filepath_or_buffer, kwds)\u001b[0m\n\u001b[1;32m    618\u001b[0m \u001b[0;34m\u001b[0m\u001b[0m\n\u001b[1;32m    619\u001b[0m     \u001b[0;31m# Create the parser.\u001b[0m\u001b[0;34m\u001b[0m\u001b[0;34m\u001b[0m\u001b[0m\n\u001b[0;32m--> 620\u001b[0;31m     \u001b[0mparser\u001b[0m \u001b[0;34m=\u001b[0m \u001b[0mTextFileReader\u001b[0m\u001b[0;34m(\u001b[0m\u001b[0mfilepath_or_buffer\u001b[0m\u001b[0;34m,\u001b[0m \u001b[0;34m**\u001b[0m\u001b[0mkwds\u001b[0m\u001b[0;34m)\u001b[0m\u001b[0;34m\u001b[0m\u001b[0;34m\u001b[0m\u001b[0m\n\u001b[0m\u001b[1;32m    621\u001b[0m \u001b[0;34m\u001b[0m\u001b[0m\n\u001b[1;32m    622\u001b[0m     \u001b[0;32mif\u001b[0m \u001b[0mchunksize\u001b[0m \u001b[0;32mor\u001b[0m \u001b[0miterator\u001b[0m\u001b[0;34m:\u001b[0m\u001b[0;34m\u001b[0m\u001b[0;34m\u001b[0m\u001b[0m\n",
            "\u001b[0;32m/usr/local/lib/python3.10/dist-packages/pandas/io/parsers/readers.py\u001b[0m in \u001b[0;36m__init__\u001b[0;34m(self, f, engine, **kwds)\u001b[0m\n\u001b[1;32m   1618\u001b[0m \u001b[0;34m\u001b[0m\u001b[0m\n\u001b[1;32m   1619\u001b[0m         \u001b[0mself\u001b[0m\u001b[0;34m.\u001b[0m\u001b[0mhandles\u001b[0m\u001b[0;34m:\u001b[0m \u001b[0mIOHandles\u001b[0m \u001b[0;34m|\u001b[0m \u001b[0;32mNone\u001b[0m \u001b[0;34m=\u001b[0m \u001b[0;32mNone\u001b[0m\u001b[0;34m\u001b[0m\u001b[0;34m\u001b[0m\u001b[0m\n\u001b[0;32m-> 1620\u001b[0;31m         \u001b[0mself\u001b[0m\u001b[0;34m.\u001b[0m\u001b[0m_engine\u001b[0m \u001b[0;34m=\u001b[0m \u001b[0mself\u001b[0m\u001b[0;34m.\u001b[0m\u001b[0m_make_engine\u001b[0m\u001b[0;34m(\u001b[0m\u001b[0mf\u001b[0m\u001b[0;34m,\u001b[0m \u001b[0mself\u001b[0m\u001b[0;34m.\u001b[0m\u001b[0mengine\u001b[0m\u001b[0;34m)\u001b[0m\u001b[0;34m\u001b[0m\u001b[0;34m\u001b[0m\u001b[0m\n\u001b[0m\u001b[1;32m   1621\u001b[0m \u001b[0;34m\u001b[0m\u001b[0m\n\u001b[1;32m   1622\u001b[0m     \u001b[0;32mdef\u001b[0m \u001b[0mclose\u001b[0m\u001b[0;34m(\u001b[0m\u001b[0mself\u001b[0m\u001b[0;34m)\u001b[0m \u001b[0;34m->\u001b[0m \u001b[0;32mNone\u001b[0m\u001b[0;34m:\u001b[0m\u001b[0;34m\u001b[0m\u001b[0;34m\u001b[0m\u001b[0m\n",
            "\u001b[0;32m/usr/local/lib/python3.10/dist-packages/pandas/io/parsers/readers.py\u001b[0m in \u001b[0;36m_make_engine\u001b[0;34m(self, f, engine)\u001b[0m\n\u001b[1;32m   1878\u001b[0m                 \u001b[0;32mif\u001b[0m \u001b[0;34m\"b\"\u001b[0m \u001b[0;32mnot\u001b[0m \u001b[0;32min\u001b[0m \u001b[0mmode\u001b[0m\u001b[0;34m:\u001b[0m\u001b[0;34m\u001b[0m\u001b[0;34m\u001b[0m\u001b[0m\n\u001b[1;32m   1879\u001b[0m                     \u001b[0mmode\u001b[0m \u001b[0;34m+=\u001b[0m \u001b[0;34m\"b\"\u001b[0m\u001b[0;34m\u001b[0m\u001b[0;34m\u001b[0m\u001b[0m\n\u001b[0;32m-> 1880\u001b[0;31m             self.handles = get_handle(\n\u001b[0m\u001b[1;32m   1881\u001b[0m                 \u001b[0mf\u001b[0m\u001b[0;34m,\u001b[0m\u001b[0;34m\u001b[0m\u001b[0;34m\u001b[0m\u001b[0m\n\u001b[1;32m   1882\u001b[0m                 \u001b[0mmode\u001b[0m\u001b[0;34m,\u001b[0m\u001b[0;34m\u001b[0m\u001b[0;34m\u001b[0m\u001b[0m\n",
            "\u001b[0;32m/usr/local/lib/python3.10/dist-packages/pandas/io/common.py\u001b[0m in \u001b[0;36mget_handle\u001b[0;34m(path_or_buf, mode, encoding, compression, memory_map, is_text, errors, storage_options)\u001b[0m\n\u001b[1;32m    871\u001b[0m         \u001b[0;32mif\u001b[0m \u001b[0mioargs\u001b[0m\u001b[0;34m.\u001b[0m\u001b[0mencoding\u001b[0m \u001b[0;32mand\u001b[0m \u001b[0;34m\"b\"\u001b[0m \u001b[0;32mnot\u001b[0m \u001b[0;32min\u001b[0m \u001b[0mioargs\u001b[0m\u001b[0;34m.\u001b[0m\u001b[0mmode\u001b[0m\u001b[0;34m:\u001b[0m\u001b[0;34m\u001b[0m\u001b[0;34m\u001b[0m\u001b[0m\n\u001b[1;32m    872\u001b[0m             \u001b[0;31m# Encoding\u001b[0m\u001b[0;34m\u001b[0m\u001b[0;34m\u001b[0m\u001b[0m\n\u001b[0;32m--> 873\u001b[0;31m             handle = open(\n\u001b[0m\u001b[1;32m    874\u001b[0m                 \u001b[0mhandle\u001b[0m\u001b[0;34m,\u001b[0m\u001b[0;34m\u001b[0m\u001b[0;34m\u001b[0m\u001b[0m\n\u001b[1;32m    875\u001b[0m                 \u001b[0mioargs\u001b[0m\u001b[0;34m.\u001b[0m\u001b[0mmode\u001b[0m\u001b[0;34m,\u001b[0m\u001b[0;34m\u001b[0m\u001b[0;34m\u001b[0m\u001b[0m\n",
            "\u001b[0;31mFileNotFoundError\u001b[0m: [Errno 2] No such file or directory: 'CC_LCL-FullData.csv'"
          ]
        }
      ],
      "source": [
        "df = pd.read_csv('CC_LCL-FullData.csv')"
      ]
    },
    {
      "cell_type": "code",
      "source": [
        "from google.colab import drive\n",
        "drive.mount('/content/drive')"
      ],
      "metadata": {
        "id": "gfTFTtq5eADY"
      },
      "id": "gfTFTtq5eADY",
      "execution_count": null,
      "outputs": []
    },
    {
      "cell_type": "code",
      "execution_count": null,
      "id": "e8dc5444",
      "metadata": {
        "id": "e8dc5444"
      },
      "outputs": [],
      "source": [
        "df.head()"
      ]
    },
    {
      "cell_type": "code",
      "execution_count": null,
      "id": "78dbdca9",
      "metadata": {
        "id": "78dbdca9"
      },
      "outputs": [],
      "source": [
        "print('The number of data points in the dataset:', df.shape[0])"
      ]
    },
    {
      "cell_type": "code",
      "execution_count": null,
      "id": "458bbbc6",
      "metadata": {
        "id": "458bbbc6"
      },
      "outputs": [],
      "source": [
        "print('The number of data points in the dataset:', df.shape[1])"
      ]
    },
    {
      "cell_type": "code",
      "execution_count": null,
      "id": "a6823d15",
      "metadata": {
        "id": "a6823d15"
      },
      "outputs": [],
      "source": [
        "df = df.iloc[:2000000]"
      ]
    },
    {
      "cell_type": "code",
      "execution_count": null,
      "id": "34971353",
      "metadata": {
        "id": "34971353"
      },
      "outputs": [],
      "source": [
        "print(df.isnull().sum())"
      ]
    },
    {
      "cell_type": "code",
      "execution_count": null,
      "id": "79762d01",
      "metadata": {
        "id": "79762d01"
      },
      "outputs": [],
      "source": [
        "df[\"Date\"] = pd.to_datetime(df[\"DateTime\"]).dt.date\n",
        "df[\"Time\"] = pd.to_datetime(df[\"DateTime\"]).dt.time\n",
        "df.drop(columns=[\"DateTime\"], inplace=True)"
      ]
    },
    {
      "cell_type": "code",
      "execution_count": null,
      "id": "306c2110",
      "metadata": {
        "id": "306c2110"
      },
      "outputs": [],
      "source": [
        "print('The number of data points in the dataset:', df.shape[0])"
      ]
    },
    {
      "cell_type": "code",
      "execution_count": null,
      "id": "6b6fe3ea",
      "metadata": {
        "id": "6b6fe3ea"
      },
      "outputs": [],
      "source": [
        "df.head()"
      ]
    },
    {
      "cell_type": "code",
      "execution_count": null,
      "id": "ab5d8698",
      "metadata": {
        "id": "ab5d8698"
      },
      "outputs": [],
      "source": [
        "print(df.columns.tolist())"
      ]
    },
    {
      "cell_type": "code",
      "execution_count": null,
      "id": "7272a200",
      "metadata": {
        "id": "7272a200"
      },
      "outputs": [],
      "source": [
        "df.columns = df.columns.str.strip()"
      ]
    },
    {
      "cell_type": "code",
      "execution_count": null,
      "id": "9db0bf9f",
      "metadata": {
        "id": "9db0bf9f"
      },
      "outputs": [],
      "source": [
        "df[\"KWH/hh (per half hour)\"] = pd.to_numeric(df[\"KWH/hh (per half hour)\"], errors=\"coerce\")"
      ]
    },
    {
      "cell_type": "code",
      "execution_count": null,
      "id": "07a53ad4",
      "metadata": {
        "id": "07a53ad4"
      },
      "outputs": [],
      "source": [
        "dx = df.groupby(\"Date\")[\"KWH/hh (per half hour)\"].sum().reset_index()\n",
        "dx.columns = [\"Date\", \"KWH\"]"
      ]
    },
    {
      "cell_type": "code",
      "execution_count": null,
      "id": "ef199576",
      "metadata": {
        "id": "ef199576"
      },
      "outputs": [],
      "source": [
        "dx.head(20)"
      ]
    },
    {
      "cell_type": "code",
      "execution_count": null,
      "id": "6d26f0f5",
      "metadata": {
        "id": "6d26f0f5"
      },
      "outputs": [],
      "source": [
        "dx['Date'] = pd.to_datetime(dx['Date'], errors='coerce')"
      ]
    },
    {
      "cell_type": "code",
      "execution_count": null,
      "id": "f4c3ce1f",
      "metadata": {
        "id": "f4c3ce1f"
      },
      "outputs": [],
      "source": [
        "dx['year'] = dx['Date'].dt.year\n",
        "dx['quarter'] = dx['Date'].dt.quarter\n",
        "dx['month'] = dx['Date'].dt.month\n",
        "dx['day'] = dx['Date'].dt.day"
      ]
    },
    {
      "cell_type": "code",
      "execution_count": null,
      "id": "a95711ae",
      "metadata": {
        "id": "a95711ae"
      },
      "outputs": [],
      "source": [
        "dx.head()"
      ]
    },
    {
      "cell_type": "code",
      "execution_count": null,
      "id": "9e9f8d9a",
      "metadata": {
        "id": "9e9f8d9a"
      },
      "outputs": [],
      "source": [
        "import calendar\n",
        "dx['month'] = dx['month'].apply(lambda x: calendar.month_name[x])"
      ]
    },
    {
      "cell_type": "code",
      "execution_count": null,
      "id": "c8708056",
      "metadata": {
        "id": "c8708056"
      },
      "outputs": [],
      "source": [
        "dx.head()"
      ]
    },
    {
      "cell_type": "code",
      "execution_count": null,
      "id": "b11d7e25",
      "metadata": {
        "id": "b11d7e25"
      },
      "outputs": [],
      "source": [
        "dx.tail()"
      ]
    },
    {
      "cell_type": "code",
      "execution_count": null,
      "id": "c181b549",
      "metadata": {
        "id": "c181b549"
      },
      "outputs": [],
      "source": [
        "dx.KWH.describe()"
      ]
    },
    {
      "cell_type": "code",
      "execution_count": null,
      "id": "9f4742fe",
      "metadata": {
        "id": "9f4742fe"
      },
      "outputs": [],
      "source": [
        "plt.figure(figsize=(10, 6))\n",
        "sns.boxplot(x='year', y='KWH', data=dx, palette='Set2')\n",
        "plt.title(\"KWH Consumption Distribution by Year\", fontsize=14)\n",
        "plt.xlabel(\"Year\", fontsize=12)\n",
        "plt.ylabel(\"KWH Consumption\", fontsize=12)\n",
        "plt.tight_layout()\n",
        "plt.show()"
      ]
    },
    {
      "cell_type": "code",
      "execution_count": null,
      "id": "8a5884b0",
      "metadata": {
        "id": "8a5884b0"
      },
      "outputs": [],
      "source": [
        "Q1 = dx['KWH'].quantile(0.25)\n",
        "Q3 = dx['KWH'].quantile(0.75)\n",
        "IQR = Q3 - Q1\n",
        "lower_bound = Q1 - 1.5 * IQR\n",
        "upper_bound = Q3 + 1.5 * IQR\n",
        "dx = dx[(dx['KWH'] >= lower_bound) & (dx['KWH'] <= upper_bound)]"
      ]
    },
    {
      "cell_type": "code",
      "execution_count": null,
      "id": "6f8e723f",
      "metadata": {
        "id": "6f8e723f"
      },
      "outputs": [],
      "source": [
        "plt.figure(figsize=(10, 6))\n",
        "sns.boxplot(x='year', y='KWH', data=dx, palette='Set2')\n",
        "plt.title(\"KWH Consumption Distribution by Year\", fontsize=14)\n",
        "plt.xlabel(\"Year\", fontsize=12)\n",
        "plt.ylabel(\"KWH Consumption\", fontsize=12)\n",
        "plt.tight_layout()\n",
        "plt.show()"
      ]
    },
    {
      "cell_type": "code",
      "execution_count": null,
      "id": "c7d35169",
      "metadata": {
        "id": "c7d35169"
      },
      "outputs": [],
      "source": [
        "dx.head()"
      ]
    },
    {
      "cell_type": "code",
      "execution_count": null,
      "id": "97b1615a",
      "metadata": {
        "id": "97b1615a"
      },
      "outputs": [],
      "source": [
        "yearly_avg = dx.groupby('year')['KWH'].mean()\n",
        "plt.figure(figsize=(10, 6))\n",
        "yearly_avg.plot(kind='bar', color='c', edgecolor='black')\n",
        "overall_avg = dx['KWH'].mean()\n",
        "plt.axhline(y=overall_avg, color='black', linestyle='--', label=f\"Avg Consumption: {overall_avg:.2f} KWH\")\n",
        "plt.text(len(yearly_avg) - 1, overall_avg + 0.05, f\"Avg: {overall_avg:.2f}\", color='black', fontsize=12, ha='center')\n",
        "plt.title(\"Average Consumption by Year\", fontsize=14)\n",
        "plt.xlabel(\"Year\", fontsize=12)\n",
        "plt.ylabel(\"Average KWH\", fontsize=12)\n",
        "plt.grid(visible=True, linestyle='--', alpha=0.7)\n",
        "plt.legend()\n",
        "plt.tight_layout()\n",
        "plt.show()"
      ]
    },
    {
      "cell_type": "code",
      "execution_count": null,
      "id": "9b8de182",
      "metadata": {
        "id": "9b8de182"
      },
      "outputs": [],
      "source": [
        "month_order = list(calendar.month_name)[1:]\n",
        "dx['month'] = pd.Categorical(dx['month'], categories=month_order, ordered=True)\n",
        "\n",
        "overall_avg = dx[\"KWH\"].mean()\n",
        "monthly_avg = dx.groupby('month')['KWH'].mean()\n",
        "plt.figure(figsize=(10, 6))\n",
        "monthly_avg.plot(kind='line', marker='o', color='b', label='Monthly Average')\n",
        "plt.axhline(y=overall_avg, color='black', linestyle='--', label=f\"Avg Consumption: {overall_avg:.2f} KWH\")\n",
        "plt.title(\"Average Consumption by Month\", fontsize=14)\n",
        "plt.xlabel(\"Month\", fontsize=12)\n",
        "plt.ylabel(\"Average KWH\", fontsize=12)\n",
        "plt.xticks(rotation=45)\n",
        "plt.grid(visible=True, linestyle='--', alpha=0.7)\n",
        "plt.text(6, overall_avg + 0.05, f\"Avg: {overall_avg:.2f} KWH\", color='black', fontsize=12, ha='center')\n",
        "plt.legend()\n",
        "plt.tight_layout()\n",
        "plt.show()"
      ]
    },
    {
      "cell_type": "code",
      "execution_count": null,
      "id": "aca1bfa0",
      "metadata": {
        "id": "aca1bfa0"
      },
      "outputs": [],
      "source": [
        "print('Minimum date:', dx.Date.min())\n",
        "print('Maximum date:', dx.Date.max())"
      ]
    },
    {
      "cell_type": "code",
      "execution_count": null,
      "id": "6d15994f",
      "metadata": {
        "id": "6d15994f"
      },
      "outputs": [],
      "source": [
        "plt.figure(figsize=(15, 6))\n",
        "plt.plot(dx['Date'], dx['KWH'], color='blue')\n",
        "plt.ylabel('Kilowatt Hour (KWH)', fontsize=12)\n",
        "plt.xlabel('Date', fontsize=12)\n",
        "plt.title('Daily Energy Consumption oover the period of time')\n",
        "plt.tight_layout()\n",
        "sns.despine(bottom=True, left=True)\n",
        "plt.show()"
      ]
    },
    {
      "cell_type": "code",
      "execution_count": null,
      "id": "b586c224",
      "metadata": {
        "id": "b586c224"
      },
      "outputs": [],
      "source": [
        "dx.head()"
      ]
    },
    {
      "cell_type": "code",
      "execution_count": null,
      "id": "d03f96d3",
      "metadata": {
        "id": "d03f96d3"
      },
      "outputs": [],
      "source": [
        "dx['Date'] = pd.to_datetime(dx['Date'])\n",
        "dx = dx.sort_values('Date')"
      ]
    },
    {
      "cell_type": "code",
      "execution_count": null,
      "id": "12960992",
      "metadata": {
        "id": "12960992"
      },
      "outputs": [],
      "source": [
        "from sklearn.preprocessing import MinMaxScaler"
      ]
    },
    {
      "cell_type": "code",
      "execution_count": null,
      "id": "3b3d7081",
      "metadata": {
        "id": "3b3d7081"
      },
      "outputs": [],
      "source": [
        "scaler = MinMaxScaler()\n",
        "dx['KWH_normalized'] = scaler.fit_transform(dx[['KWH']])"
      ]
    },
    {
      "cell_type": "code",
      "execution_count": null,
      "id": "79ee1c6c",
      "metadata": {
        "id": "79ee1c6c"
      },
      "outputs": [],
      "source": [
        "dx.head()"
      ]
    },
    {
      "cell_type": "code",
      "execution_count": null,
      "id": "f7217df5",
      "metadata": {
        "id": "f7217df5"
      },
      "outputs": [],
      "source": [
        "def create_sequences(data, input_steps, output_steps):\n",
        "    x, y = [], []\n",
        "    for i in range(len(data) - input_steps - output_steps + 1):\n",
        "        x.append(data[i:i + input_steps])\n",
        "        y.append(data[i + input_steps:i + input_steps + output_steps])\n",
        "    return np.array(x), np.array(y)"
      ]
    },
    {
      "cell_type": "code",
      "execution_count": null,
      "id": "12a6ea2a",
      "metadata": {
        "id": "12a6ea2a"
      },
      "outputs": [],
      "source": [
        "input_steps = 60\n",
        "output_steps = 60\n",
        "x, y = create_sequences(dx['KWH_normalized'].values, input_steps, output_steps)"
      ]
    },
    {
      "cell_type": "code",
      "execution_count": null,
      "id": "de6afd0a",
      "metadata": {
        "id": "de6afd0a"
      },
      "outputs": [],
      "source": [
        "split_idx = int(0.8 * len(x))\n",
        "x_train, x_test = x[:split_idx], x[split_idx:]\n",
        "y_train, y_test = y[:split_idx], y[split_idx:]"
      ]
    },
    {
      "cell_type": "code",
      "execution_count": null,
      "id": "200ebb50",
      "metadata": {
        "id": "200ebb50"
      },
      "outputs": [],
      "source": [
        "x_train"
      ]
    },
    {
      "cell_type": "code",
      "execution_count": null,
      "id": "d57e78b1",
      "metadata": {
        "id": "d57e78b1"
      },
      "outputs": [],
      "source": [
        "y_train"
      ]
    },
    {
      "cell_type": "code",
      "execution_count": null,
      "id": "6fa399cb",
      "metadata": {
        "id": "6fa399cb"
      },
      "outputs": [],
      "source": [
        "import tensorflow as tf\n",
        "from tensorflow.keras.models import Sequential\n",
        "from tensorflow.keras.layers import LSTM, Dense, Dropout"
      ]
    },
    {
      "cell_type": "code",
      "execution_count": null,
      "id": "58cbaa02",
      "metadata": {
        "id": "58cbaa02"
      },
      "outputs": [],
      "source": [
        "model = Sequential([\n",
        "    LSTM(64, return_sequences=True, input_shape=(input_steps, 1)),\n",
        "    Dropout(0.2),\n",
        "    LSTM(64, return_sequences=False),\n",
        "    Dropout(0.2),\n",
        "    Dense(32, activation='relu'),\n",
        "    Dense(output_steps)])"
      ]
    },
    {
      "cell_type": "code",
      "execution_count": null,
      "id": "80bb49de",
      "metadata": {
        "id": "80bb49de"
      },
      "outputs": [],
      "source": [
        "model.compile(optimizer='adam', loss='mse')"
      ]
    },
    {
      "cell_type": "code",
      "execution_count": null,
      "id": "8f2a5f71",
      "metadata": {
        "id": "8f2a5f71"
      },
      "outputs": [],
      "source": [
        "x_train = x_train.reshape((x_train.shape[0], x_train.shape[1], 1))\n",
        "x_test = x_test.reshape((x_test.shape[0], x_test.shape[1], 1))"
      ]
    },
    {
      "cell_type": "code",
      "execution_count": null,
      "id": "e47b62f6",
      "metadata": {
        "id": "e47b62f6"
      },
      "outputs": [],
      "source": [
        "history = model.fit(x_train, y_train, validation_data=(x_test, y_test), epochs=50, batch_size=32)"
      ]
    },
    {
      "cell_type": "code",
      "execution_count": null,
      "id": "b7d4aceb",
      "metadata": {
        "id": "b7d4aceb"
      },
      "outputs": [],
      "source": [
        "plt.figure(figsize=(8, 6))\n",
        "plt.plot(history.history['loss'], label='Train Loss')\n",
        "plt.plot(history.history['val_loss'], label='Validation Loss')\n",
        "plt.legend()\n",
        "plt.show()"
      ]
    },
    {
      "cell_type": "code",
      "execution_count": null,
      "id": "df6d1cdf",
      "metadata": {
        "id": "df6d1cdf"
      },
      "outputs": [],
      "source": [
        "y_pred = model.predict(x_test)\n",
        "y_test_rescaled = scaler.inverse_transform(y_test)\n",
        "y_pred_rescaled = scaler.inverse_transform(y_pred)"
      ]
    },
    {
      "cell_type": "code",
      "execution_count": null,
      "id": "0af94090",
      "metadata": {
        "id": "0af94090"
      },
      "outputs": [],
      "source": [
        "plt.figure(figsize=(10, 6))\n",
        "plt.plot(range(output_steps), y_test_rescaled[0], label='Actual')\n",
        "plt.plot(range(output_steps), y_pred_rescaled[0], label='Predicted')\n",
        "plt.title('Prediction vs Actual for First Test Sequence')\n",
        "plt.xlabel('Days')\n",
        "plt.ylabel('Energy Consumption (KWH)')\n",
        "plt.legend()\n",
        "plt.show()"
      ]
    },
    {
      "cell_type": "code",
      "execution_count": null,
      "id": "c37ee743",
      "metadata": {
        "id": "c37ee743"
      },
      "outputs": [],
      "source": []
    }
  ],
  "metadata": {
    "kernelspec": {
      "display_name": "Python 3",
      "name": "python3"
    },
    "language_info": {
      "codemirror_mode": {
        "name": "ipython",
        "version": 3
      },
      "file_extension": ".py",
      "mimetype": "text/x-python",
      "name": "python",
      "nbconvert_exporter": "python",
      "pygments_lexer": "ipython3",
      "version": "3.8.8"
    },
    "colab": {
      "provenance": [],
      "machine_shape": "hm",
      "gpuType": "A100",
      "include_colab_link": true
    },
    "accelerator": "GPU"
  },
  "nbformat": 4,
  "nbformat_minor": 5
}